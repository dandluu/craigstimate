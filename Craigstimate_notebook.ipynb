{
 "cells": [
  {
   "cell_type": "markdown",
   "metadata": {},
   "source": [
    "# Welcome to the Craigstimate Notebook\n",
    "\n",
    "This notebook covers the full process of building a random forest regressor model using a dataset that scraped all craigslist listings in June of 2020. What is covered in this notebook is provided below\n",
    "- Preliminary data exploration\n",
    "- Some feature removals\n",
    "- Outlier removal\n",
    "- Dimensionality  reductions\n",
    "- Basic visualizations\n",
    "- One Hot Encoding and Column Transformation\n",
    "- Train, Test, Split with simple model building using linear regression\n",
    "- Gridsearch with a battery of ML models from sklearn\n",
    "- Gridsearch again with hypertuning parameters with just Random Forest Regresion\n",
    "- Metric validation with standard regression metrics (MSE,MAE,R^2,RMSE,Adjusted R^2)\n",
    "- Exporting categorical features to json and cleaned data\n",
    "- Pipeline creation with full datset and best parameters from Random Forest gridsearch\n",
    "- Basic Predictions with Pipeline\n",
    "- Building a predict function that can take in user input\n",
    "- Exporting the Pipeline as a pickle file\n",
    "- Conclusions, Limitations, and Final Thoughts"
   ]
  },
  {
   "cell_type": "code",
   "execution_count": null,
   "metadata": {},
   "outputs": [],
   "source": []
  },
  {
   "cell_type": "code",
   "execution_count": 1,
   "metadata": {},
   "outputs": [],
   "source": [
    "import numpy as np\n",
    "import pandas as pd\n",
    "import matplotlib.pyplot as plt\n",
    "import seaborn as sns\n",
    "import pickle"
   ]
  },
  {
   "cell_type": "markdown",
   "metadata": {},
   "source": [
    "## Data Exploration - A First Look at the Data"
   ]
  },
  {
   "cell_type": "code",
   "execution_count": 2,
   "metadata": {},
   "outputs": [],
   "source": [
    "df = pd.read_csv('housing.csv')"
   ]
  },
  {
   "cell_type": "code",
   "execution_count": 3,
   "metadata": {},
   "outputs": [
    {
     "data": {
      "text/plain": [
       "(384977, 22)"
      ]
     },
     "execution_count": 3,
     "metadata": {},
     "output_type": "execute_result"
    }
   ],
   "source": [
    "df.shape"
   ]
  },
  {
   "cell_type": "code",
   "execution_count": 4,
   "metadata": {},
   "outputs": [
    {
     "data": {
      "text/html": [
       "<div>\n",
       "<style scoped>\n",
       "    .dataframe tbody tr th:only-of-type {\n",
       "        vertical-align: middle;\n",
       "    }\n",
       "\n",
       "    .dataframe tbody tr th {\n",
       "        vertical-align: top;\n",
       "    }\n",
       "\n",
       "    .dataframe thead th {\n",
       "        text-align: right;\n",
       "    }\n",
       "</style>\n",
       "<table border=\"1\" class=\"dataframe\">\n",
       "  <thead>\n",
       "    <tr style=\"text-align: right;\">\n",
       "      <th></th>\n",
       "      <th>id</th>\n",
       "      <th>url</th>\n",
       "      <th>region</th>\n",
       "      <th>region_url</th>\n",
       "      <th>price</th>\n",
       "      <th>type</th>\n",
       "      <th>sqfeet</th>\n",
       "      <th>beds</th>\n",
       "      <th>baths</th>\n",
       "      <th>cats_allowed</th>\n",
       "      <th>...</th>\n",
       "      <th>wheelchair_access</th>\n",
       "      <th>electric_vehicle_charge</th>\n",
       "      <th>comes_furnished</th>\n",
       "      <th>laundry_options</th>\n",
       "      <th>parking_options</th>\n",
       "      <th>image_url</th>\n",
       "      <th>description</th>\n",
       "      <th>lat</th>\n",
       "      <th>long</th>\n",
       "      <th>state</th>\n",
       "    </tr>\n",
       "  </thead>\n",
       "  <tbody>\n",
       "    <tr>\n",
       "      <th>0</th>\n",
       "      <td>7049044568</td>\n",
       "      <td>https://reno.craigslist.org/apa/d/reno-beautif...</td>\n",
       "      <td>reno / tahoe</td>\n",
       "      <td>https://reno.craigslist.org</td>\n",
       "      <td>1148</td>\n",
       "      <td>apartment</td>\n",
       "      <td>1078</td>\n",
       "      <td>3</td>\n",
       "      <td>2.0</td>\n",
       "      <td>1</td>\n",
       "      <td>...</td>\n",
       "      <td>0</td>\n",
       "      <td>0</td>\n",
       "      <td>0</td>\n",
       "      <td>w/d in unit</td>\n",
       "      <td>carport</td>\n",
       "      <td>https://images.craigslist.org/01616_daghmBUvTC...</td>\n",
       "      <td>Ridgeview by Vintage is where you will find al...</td>\n",
       "      <td>39.5483</td>\n",
       "      <td>-119.796</td>\n",
       "      <td>ca</td>\n",
       "    </tr>\n",
       "    <tr>\n",
       "      <th>1</th>\n",
       "      <td>7049047186</td>\n",
       "      <td>https://reno.craigslist.org/apa/d/reno-reduced...</td>\n",
       "      <td>reno / tahoe</td>\n",
       "      <td>https://reno.craigslist.org</td>\n",
       "      <td>1200</td>\n",
       "      <td>condo</td>\n",
       "      <td>1001</td>\n",
       "      <td>2</td>\n",
       "      <td>2.0</td>\n",
       "      <td>0</td>\n",
       "      <td>...</td>\n",
       "      <td>0</td>\n",
       "      <td>0</td>\n",
       "      <td>0</td>\n",
       "      <td>w/d hookups</td>\n",
       "      <td>carport</td>\n",
       "      <td>https://images.craigslist.org/00V0V_5va0MkgO9q...</td>\n",
       "      <td>Conveniently located in the middle town of Ren...</td>\n",
       "      <td>39.5026</td>\n",
       "      <td>-119.789</td>\n",
       "      <td>ca</td>\n",
       "    </tr>\n",
       "    <tr>\n",
       "      <th>2</th>\n",
       "      <td>7043634882</td>\n",
       "      <td>https://reno.craigslist.org/apa/d/sparks-state...</td>\n",
       "      <td>reno / tahoe</td>\n",
       "      <td>https://reno.craigslist.org</td>\n",
       "      <td>1813</td>\n",
       "      <td>apartment</td>\n",
       "      <td>1683</td>\n",
       "      <td>2</td>\n",
       "      <td>2.0</td>\n",
       "      <td>1</td>\n",
       "      <td>...</td>\n",
       "      <td>0</td>\n",
       "      <td>0</td>\n",
       "      <td>0</td>\n",
       "      <td>w/d in unit</td>\n",
       "      <td>attached garage</td>\n",
       "      <td>https://images.craigslist.org/00t0t_erYqC6LgB8...</td>\n",
       "      <td>2BD | 2BA | 1683SQFTDiscover exceptional servi...</td>\n",
       "      <td>39.6269</td>\n",
       "      <td>-119.708</td>\n",
       "      <td>ca</td>\n",
       "    </tr>\n",
       "    <tr>\n",
       "      <th>3</th>\n",
       "      <td>7049045324</td>\n",
       "      <td>https://reno.craigslist.org/apa/d/reno-1x1-fir...</td>\n",
       "      <td>reno / tahoe</td>\n",
       "      <td>https://reno.craigslist.org</td>\n",
       "      <td>1095</td>\n",
       "      <td>apartment</td>\n",
       "      <td>708</td>\n",
       "      <td>1</td>\n",
       "      <td>1.0</td>\n",
       "      <td>1</td>\n",
       "      <td>...</td>\n",
       "      <td>0</td>\n",
       "      <td>0</td>\n",
       "      <td>0</td>\n",
       "      <td>w/d in unit</td>\n",
       "      <td>carport</td>\n",
       "      <td>https://images.craigslist.org/00303_3HSJz75zlI...</td>\n",
       "      <td>MOVE IN SPECIAL FREE WASHER/DRYER WITH 6 OR 12...</td>\n",
       "      <td>39.4477</td>\n",
       "      <td>-119.771</td>\n",
       "      <td>ca</td>\n",
       "    </tr>\n",
       "    <tr>\n",
       "      <th>4</th>\n",
       "      <td>7049043759</td>\n",
       "      <td>https://reno.craigslist.org/apa/d/reno-no-long...</td>\n",
       "      <td>reno / tahoe</td>\n",
       "      <td>https://reno.craigslist.org</td>\n",
       "      <td>289</td>\n",
       "      <td>apartment</td>\n",
       "      <td>250</td>\n",
       "      <td>0</td>\n",
       "      <td>1.0</td>\n",
       "      <td>1</td>\n",
       "      <td>...</td>\n",
       "      <td>1</td>\n",
       "      <td>0</td>\n",
       "      <td>1</td>\n",
       "      <td>laundry on site</td>\n",
       "      <td>NaN</td>\n",
       "      <td>https://images.craigslist.org/01616_fALAWFV8zQ...</td>\n",
       "      <td>Move In Today: Reno Low-Cost, Clean &amp; Furnishe...</td>\n",
       "      <td>39.5357</td>\n",
       "      <td>-119.805</td>\n",
       "      <td>ca</td>\n",
       "    </tr>\n",
       "  </tbody>\n",
       "</table>\n",
       "<p>5 rows × 22 columns</p>\n",
       "</div>"
      ],
      "text/plain": [
       "           id                                                url  \\\n",
       "0  7049044568  https://reno.craigslist.org/apa/d/reno-beautif...   \n",
       "1  7049047186  https://reno.craigslist.org/apa/d/reno-reduced...   \n",
       "2  7043634882  https://reno.craigslist.org/apa/d/sparks-state...   \n",
       "3  7049045324  https://reno.craigslist.org/apa/d/reno-1x1-fir...   \n",
       "4  7049043759  https://reno.craigslist.org/apa/d/reno-no-long...   \n",
       "\n",
       "         region                   region_url  price       type  sqfeet  beds  \\\n",
       "0  reno / tahoe  https://reno.craigslist.org   1148  apartment    1078     3   \n",
       "1  reno / tahoe  https://reno.craigslist.org   1200      condo    1001     2   \n",
       "2  reno / tahoe  https://reno.craigslist.org   1813  apartment    1683     2   \n",
       "3  reno / tahoe  https://reno.craigslist.org   1095  apartment     708     1   \n",
       "4  reno / tahoe  https://reno.craigslist.org    289  apartment     250     0   \n",
       "\n",
       "   baths  cats_allowed  ...  wheelchair_access  electric_vehicle_charge  \\\n",
       "0    2.0             1  ...                  0                        0   \n",
       "1    2.0             0  ...                  0                        0   \n",
       "2    2.0             1  ...                  0                        0   \n",
       "3    1.0             1  ...                  0                        0   \n",
       "4    1.0             1  ...                  1                        0   \n",
       "\n",
       "   comes_furnished  laundry_options  parking_options  \\\n",
       "0                0      w/d in unit          carport   \n",
       "1                0      w/d hookups          carport   \n",
       "2                0      w/d in unit  attached garage   \n",
       "3                0      w/d in unit          carport   \n",
       "4                1  laundry on site              NaN   \n",
       "\n",
       "                                           image_url  \\\n",
       "0  https://images.craigslist.org/01616_daghmBUvTC...   \n",
       "1  https://images.craigslist.org/00V0V_5va0MkgO9q...   \n",
       "2  https://images.craigslist.org/00t0t_erYqC6LgB8...   \n",
       "3  https://images.craigslist.org/00303_3HSJz75zlI...   \n",
       "4  https://images.craigslist.org/01616_fALAWFV8zQ...   \n",
       "\n",
       "                                         description      lat     long  state  \n",
       "0  Ridgeview by Vintage is where you will find al...  39.5483 -119.796     ca  \n",
       "1  Conveniently located in the middle town of Ren...  39.5026 -119.789     ca  \n",
       "2  2BD | 2BA | 1683SQFTDiscover exceptional servi...  39.6269 -119.708     ca  \n",
       "3  MOVE IN SPECIAL FREE WASHER/DRYER WITH 6 OR 12...  39.4477 -119.771     ca  \n",
       "4  Move In Today: Reno Low-Cost, Clean & Furnishe...  39.5357 -119.805     ca  \n",
       "\n",
       "[5 rows x 22 columns]"
      ]
     },
     "execution_count": 4,
     "metadata": {},
     "output_type": "execute_result"
    }
   ],
   "source": [
    "df.head()"
   ]
  },
  {
   "cell_type": "code",
   "execution_count": 5,
   "metadata": {
    "scrolled": true
   },
   "outputs": [
    {
     "data": {
      "text/plain": [
       "ca    33085\n",
       "fl    31929\n",
       "tx    31137\n",
       "nc    18628\n",
       "mi    14529\n",
       "ga    13841\n",
       "oh    12884\n",
       "tn    11541\n",
       "co    11308\n",
       "va    11063\n",
       "ny     9991\n",
       "sc     9932\n",
       "pa     9911\n",
       "il     9706\n",
       "al     8196\n",
       "or     8079\n",
       "ks     7910\n",
       "ia     7488\n",
       "mn     7468\n",
       "md     7451\n",
       "la     7304\n",
       "wa     7061\n",
       "az     6753\n",
       "wi     6646\n",
       "in     6416\n",
       "ok     5788\n",
       "nj     5711\n",
       "ky     5419\n",
       "ut     5194\n",
       "ms     4973\n",
       "ma     4926\n",
       "id     4466\n",
       "ct     3765\n",
       "nd     3428\n",
       "ar     3149\n",
       "nm     2917\n",
       "nv     2846\n",
       "ne     2697\n",
       "dc     2502\n",
       "ak     2169\n",
       "mo     2158\n",
       "de     2048\n",
       "ri     1889\n",
       "hi     1840\n",
       "sd     1782\n",
       "nh     1761\n",
       "mt     1339\n",
       "wv      819\n",
       "vt      527\n",
       "me      420\n",
       "wy      187\n",
       "Name: state, dtype: int64"
      ]
     },
     "execution_count": 5,
     "metadata": {},
     "output_type": "execute_result"
    }
   ],
   "source": [
    "df.state.value_counts()"
   ]
  },
  {
   "cell_type": "code",
   "execution_count": 6,
   "metadata": {},
   "outputs": [
    {
     "name": "stdout",
     "output_type": "stream",
     "text": [
      "<class 'pandas.core.frame.DataFrame'>\n",
      "RangeIndex: 384977 entries, 0 to 384976\n",
      "Data columns (total 22 columns):\n",
      " #   Column                   Non-Null Count   Dtype  \n",
      "---  ------                   --------------   -----  \n",
      " 0   id                       384977 non-null  int64  \n",
      " 1   url                      384977 non-null  object \n",
      " 2   region                   384977 non-null  object \n",
      " 3   region_url               384977 non-null  object \n",
      " 4   price                    384977 non-null  int64  \n",
      " 5   type                     384977 non-null  object \n",
      " 6   sqfeet                   384977 non-null  int64  \n",
      " 7   beds                     384977 non-null  int64  \n",
      " 8   baths                    384977 non-null  float64\n",
      " 9   cats_allowed             384977 non-null  int64  \n",
      " 10  dogs_allowed             384977 non-null  int64  \n",
      " 11  smoking_allowed          384977 non-null  int64  \n",
      " 12  wheelchair_access        384977 non-null  int64  \n",
      " 13  electric_vehicle_charge  384977 non-null  int64  \n",
      " 14  comes_furnished          384977 non-null  int64  \n",
      " 15  laundry_options          305951 non-null  object \n",
      " 16  parking_options          244290 non-null  object \n",
      " 17  image_url                384977 non-null  object \n",
      " 18  description              384975 non-null  object \n",
      " 19  lat                      383059 non-null  float64\n",
      " 20  long                     383059 non-null  float64\n",
      " 21  state                    384977 non-null  object \n",
      "dtypes: float64(3), int64(10), object(9)\n",
      "memory usage: 64.6+ MB\n"
     ]
    }
   ],
   "source": [
    "df.info()"
   ]
  },
  {
   "cell_type": "code",
   "execution_count": 7,
   "metadata": {
    "scrolled": true
   },
   "outputs": [
    {
     "data": {
      "text/html": [
       "<div>\n",
       "<style scoped>\n",
       "    .dataframe tbody tr th:only-of-type {\n",
       "        vertical-align: middle;\n",
       "    }\n",
       "\n",
       "    .dataframe tbody tr th {\n",
       "        vertical-align: top;\n",
       "    }\n",
       "\n",
       "    .dataframe thead th {\n",
       "        text-align: right;\n",
       "    }\n",
       "</style>\n",
       "<table border=\"1\" class=\"dataframe\">\n",
       "  <thead>\n",
       "    <tr style=\"text-align: right;\">\n",
       "      <th></th>\n",
       "      <th>id</th>\n",
       "      <th>price</th>\n",
       "      <th>sqfeet</th>\n",
       "      <th>beds</th>\n",
       "      <th>baths</th>\n",
       "      <th>cats_allowed</th>\n",
       "      <th>dogs_allowed</th>\n",
       "      <th>smoking_allowed</th>\n",
       "      <th>wheelchair_access</th>\n",
       "      <th>electric_vehicle_charge</th>\n",
       "      <th>comes_furnished</th>\n",
       "      <th>lat</th>\n",
       "      <th>long</th>\n",
       "    </tr>\n",
       "  </thead>\n",
       "  <tbody>\n",
       "    <tr>\n",
       "      <th>count</th>\n",
       "      <td>3.849770e+05</td>\n",
       "      <td>3.849770e+05</td>\n",
       "      <td>3.849770e+05</td>\n",
       "      <td>384977.000000</td>\n",
       "      <td>384977.000000</td>\n",
       "      <td>384977.000000</td>\n",
       "      <td>384977.000000</td>\n",
       "      <td>384977.000000</td>\n",
       "      <td>384977.000000</td>\n",
       "      <td>384977.000000</td>\n",
       "      <td>384977.000000</td>\n",
       "      <td>383059.000000</td>\n",
       "      <td>383059.000000</td>\n",
       "    </tr>\n",
       "    <tr>\n",
       "      <th>mean</th>\n",
       "      <td>7.040982e+09</td>\n",
       "      <td>8.825722e+03</td>\n",
       "      <td>1.059900e+03</td>\n",
       "      <td>1.905345</td>\n",
       "      <td>1.480718</td>\n",
       "      <td>0.726890</td>\n",
       "      <td>0.707918</td>\n",
       "      <td>0.731771</td>\n",
       "      <td>0.082111</td>\n",
       "      <td>0.012871</td>\n",
       "      <td>0.048128</td>\n",
       "      <td>37.233487</td>\n",
       "      <td>-92.700631</td>\n",
       "    </tr>\n",
       "    <tr>\n",
       "      <th>std</th>\n",
       "      <td>8.800376e+06</td>\n",
       "      <td>4.462200e+06</td>\n",
       "      <td>1.915076e+04</td>\n",
       "      <td>3.494572</td>\n",
       "      <td>0.618061</td>\n",
       "      <td>0.445557</td>\n",
       "      <td>0.454721</td>\n",
       "      <td>0.443038</td>\n",
       "      <td>0.274535</td>\n",
       "      <td>0.112718</td>\n",
       "      <td>0.214036</td>\n",
       "      <td>5.546171</td>\n",
       "      <td>16.531980</td>\n",
       "    </tr>\n",
       "    <tr>\n",
       "      <th>min</th>\n",
       "      <td>7.003808e+09</td>\n",
       "      <td>0.000000e+00</td>\n",
       "      <td>0.000000e+00</td>\n",
       "      <td>0.000000</td>\n",
       "      <td>0.000000</td>\n",
       "      <td>0.000000</td>\n",
       "      <td>0.000000</td>\n",
       "      <td>0.000000</td>\n",
       "      <td>0.000000</td>\n",
       "      <td>0.000000</td>\n",
       "      <td>0.000000</td>\n",
       "      <td>-43.533300</td>\n",
       "      <td>-163.894000</td>\n",
       "    </tr>\n",
       "    <tr>\n",
       "      <th>25%</th>\n",
       "      <td>7.035979e+09</td>\n",
       "      <td>8.050000e+02</td>\n",
       "      <td>7.500000e+02</td>\n",
       "      <td>1.000000</td>\n",
       "      <td>1.000000</td>\n",
       "      <td>0.000000</td>\n",
       "      <td>0.000000</td>\n",
       "      <td>0.000000</td>\n",
       "      <td>0.000000</td>\n",
       "      <td>0.000000</td>\n",
       "      <td>0.000000</td>\n",
       "      <td>33.454700</td>\n",
       "      <td>-100.775000</td>\n",
       "    </tr>\n",
       "    <tr>\n",
       "      <th>50%</th>\n",
       "      <td>7.043320e+09</td>\n",
       "      <td>1.036000e+03</td>\n",
       "      <td>9.490000e+02</td>\n",
       "      <td>2.000000</td>\n",
       "      <td>1.000000</td>\n",
       "      <td>1.000000</td>\n",
       "      <td>1.000000</td>\n",
       "      <td>1.000000</td>\n",
       "      <td>0.000000</td>\n",
       "      <td>0.000000</td>\n",
       "      <td>0.000000</td>\n",
       "      <td>37.647800</td>\n",
       "      <td>-87.745100</td>\n",
       "    </tr>\n",
       "    <tr>\n",
       "      <th>75%</th>\n",
       "      <td>7.048426e+09</td>\n",
       "      <td>1.395000e+03</td>\n",
       "      <td>1.150000e+03</td>\n",
       "      <td>2.000000</td>\n",
       "      <td>2.000000</td>\n",
       "      <td>1.000000</td>\n",
       "      <td>1.000000</td>\n",
       "      <td>1.000000</td>\n",
       "      <td>0.000000</td>\n",
       "      <td>0.000000</td>\n",
       "      <td>0.000000</td>\n",
       "      <td>41.138300</td>\n",
       "      <td>-81.179600</td>\n",
       "    </tr>\n",
       "    <tr>\n",
       "      <th>max</th>\n",
       "      <td>7.051292e+09</td>\n",
       "      <td>2.768307e+09</td>\n",
       "      <td>8.388607e+06</td>\n",
       "      <td>1100.000000</td>\n",
       "      <td>75.000000</td>\n",
       "      <td>1.000000</td>\n",
       "      <td>1.000000</td>\n",
       "      <td>1.000000</td>\n",
       "      <td>1.000000</td>\n",
       "      <td>1.000000</td>\n",
       "      <td>1.000000</td>\n",
       "      <td>102.036000</td>\n",
       "      <td>172.633000</td>\n",
       "    </tr>\n",
       "  </tbody>\n",
       "</table>\n",
       "</div>"
      ],
      "text/plain": [
       "                 id         price        sqfeet           beds          baths  \\\n",
       "count  3.849770e+05  3.849770e+05  3.849770e+05  384977.000000  384977.000000   \n",
       "mean   7.040982e+09  8.825722e+03  1.059900e+03       1.905345       1.480718   \n",
       "std    8.800376e+06  4.462200e+06  1.915076e+04       3.494572       0.618061   \n",
       "min    7.003808e+09  0.000000e+00  0.000000e+00       0.000000       0.000000   \n",
       "25%    7.035979e+09  8.050000e+02  7.500000e+02       1.000000       1.000000   \n",
       "50%    7.043320e+09  1.036000e+03  9.490000e+02       2.000000       1.000000   \n",
       "75%    7.048426e+09  1.395000e+03  1.150000e+03       2.000000       2.000000   \n",
       "max    7.051292e+09  2.768307e+09  8.388607e+06    1100.000000      75.000000   \n",
       "\n",
       "        cats_allowed   dogs_allowed  smoking_allowed  wheelchair_access  \\\n",
       "count  384977.000000  384977.000000    384977.000000      384977.000000   \n",
       "mean        0.726890       0.707918         0.731771           0.082111   \n",
       "std         0.445557       0.454721         0.443038           0.274535   \n",
       "min         0.000000       0.000000         0.000000           0.000000   \n",
       "25%         0.000000       0.000000         0.000000           0.000000   \n",
       "50%         1.000000       1.000000         1.000000           0.000000   \n",
       "75%         1.000000       1.000000         1.000000           0.000000   \n",
       "max         1.000000       1.000000         1.000000           1.000000   \n",
       "\n",
       "       electric_vehicle_charge  comes_furnished            lat           long  \n",
       "count            384977.000000    384977.000000  383059.000000  383059.000000  \n",
       "mean                  0.012871         0.048128      37.233487     -92.700631  \n",
       "std                   0.112718         0.214036       5.546171      16.531980  \n",
       "min                   0.000000         0.000000     -43.533300    -163.894000  \n",
       "25%                   0.000000         0.000000      33.454700    -100.775000  \n",
       "50%                   0.000000         0.000000      37.647800     -87.745100  \n",
       "75%                   0.000000         0.000000      41.138300     -81.179600  \n",
       "max                   1.000000         1.000000     102.036000     172.633000  "
      ]
     },
     "execution_count": 7,
     "metadata": {},
     "output_type": "execute_result"
    }
   ],
   "source": [
    "df.describe()"
   ]
  },
  {
   "cell_type": "markdown",
   "metadata": {},
   "source": [
    "### Drop unused columns"
   ]
  },
  {
   "cell_type": "code",
   "execution_count": 8,
   "metadata": {},
   "outputs": [],
   "source": [
    "df1=df.drop([\"id\",\"url\",\"region_url\",\"image_url\",\"description\"],axis=1)"
   ]
  },
  {
   "cell_type": "markdown",
   "metadata": {},
   "source": [
    "### Drop null values from lat/long, impute missing values"
   ]
  },
  {
   "cell_type": "code",
   "execution_count": 9,
   "metadata": {
    "scrolled": false
   },
   "outputs": [
    {
     "data": {
      "text/plain": [
       "region                          0\n",
       "price                           0\n",
       "type                            0\n",
       "sqfeet                          0\n",
       "beds                            0\n",
       "baths                           0\n",
       "cats_allowed                    0\n",
       "dogs_allowed                    0\n",
       "smoking_allowed                 0\n",
       "wheelchair_access               0\n",
       "electric_vehicle_charge         0\n",
       "comes_furnished                 0\n",
       "laundry_options             79026\n",
       "parking_options            140687\n",
       "lat                          1918\n",
       "long                         1918\n",
       "state                           0\n",
       "dtype: int64"
      ]
     },
     "execution_count": 9,
     "metadata": {},
     "output_type": "execute_result"
    }
   ],
   "source": [
    "df1.isnull().sum()"
   ]
  },
  {
   "cell_type": "code",
   "execution_count": null,
   "metadata": {},
   "outputs": [],
   "source": []
  },
  {
   "cell_type": "code",
   "execution_count": 10,
   "metadata": {
    "scrolled": false
   },
   "outputs": [
    {
     "data": {
      "text/plain": [
       "w/d in unit           131783\n",
       "w/d hookups            75568\n",
       "laundry on site        58873\n",
       "laundry in bldg        36103\n",
       "no laundry on site      3624\n",
       "Name: laundry_options, dtype: int64"
      ]
     },
     "execution_count": 10,
     "metadata": {},
     "output_type": "execute_result"
    }
   ],
   "source": [
    "df.laundry_options.value_counts() #checking old df for previous values"
   ]
  },
  {
   "cell_type": "markdown",
   "metadata": {},
   "source": [
    "#### impute/ fill missing values with the mode of laundry/parking options or we can drop it later if we want\n",
    "Choosing mode as most common type of laundry option should be w/d in unit, this can have a big affect on price in certain areas so it is important to be careful when imputing missing values, I believe that w/d in unit based on the Craiglist data is most common, which is surprising for a lot of apartments, based on just experience alone. For Parking it is off-street parking, which for apartments make sense."
   ]
  },
  {
   "cell_type": "code",
   "execution_count": 11,
   "metadata": {},
   "outputs": [],
   "source": [
    "#Caution with the laundry options, might be better to remove, you can try that for yourself and see what you get!\n",
    "df1['laundry_options'] = df1['laundry_options'].fillna(df['laundry_options'].mode()[0])\n",
    "df1['parking_options'] = df1['parking_options'].fillna(df['parking_options'].mode()[0])"
   ]
  },
  {
   "cell_type": "code",
   "execution_count": 12,
   "metadata": {
    "scrolled": false
   },
   "outputs": [
    {
     "data": {
      "text/plain": [
       "w/d in unit           210809\n",
       "w/d hookups            75568\n",
       "laundry on site        58873\n",
       "laundry in bldg        36103\n",
       "no laundry on site      3624\n",
       "Name: laundry_options, dtype: int64"
      ]
     },
     "execution_count": 12,
     "metadata": {},
     "output_type": "execute_result"
    }
   ],
   "source": [
    "df1.laundry_options.value_counts() #validating the change"
   ]
  },
  {
   "cell_type": "code",
   "execution_count": 13,
   "metadata": {
    "scrolled": false
   },
   "outputs": [
    {
     "data": {
      "text/plain": [
       "off-street parking    269189\n",
       "attached garage        40591\n",
       "carport                38955\n",
       "detached garage        16940\n",
       "street parking         15951\n",
       "no parking              3188\n",
       "valet parking            163\n",
       "Name: parking_options, dtype: int64"
      ]
     },
     "execution_count": 13,
     "metadata": {},
     "output_type": "execute_result"
    }
   ],
   "source": [
    "df1.parking_options.value_counts()"
   ]
  },
  {
   "cell_type": "code",
   "execution_count": 14,
   "metadata": {},
   "outputs": [],
   "source": [
    "#drop lat and long missing values\n",
    "df1 = df1.dropna()"
   ]
  },
  {
   "cell_type": "code",
   "execution_count": 15,
   "metadata": {},
   "outputs": [
    {
     "data": {
      "text/plain": [
       "region                     0\n",
       "price                      0\n",
       "type                       0\n",
       "sqfeet                     0\n",
       "beds                       0\n",
       "baths                      0\n",
       "cats_allowed               0\n",
       "dogs_allowed               0\n",
       "smoking_allowed            0\n",
       "wheelchair_access          0\n",
       "electric_vehicle_charge    0\n",
       "comes_furnished            0\n",
       "laundry_options            0\n",
       "parking_options            0\n",
       "lat                        0\n",
       "long                       0\n",
       "state                      0\n",
       "dtype: int64"
      ]
     },
     "execution_count": 15,
     "metadata": {},
     "output_type": "execute_result"
    }
   ],
   "source": [
    "df1.isnull().sum()\n"
   ]
  },
  {
   "cell_type": "code",
   "execution_count": 16,
   "metadata": {},
   "outputs": [
    {
     "data": {
      "text/plain": [
       "(383059, 17)"
      ]
     },
     "execution_count": 16,
     "metadata": {},
     "output_type": "execute_result"
    }
   ],
   "source": [
    "df1.shape"
   ]
  },
  {
   "cell_type": "markdown",
   "metadata": {},
   "source": [
    "# Start looking for outliers to remove"
   ]
  },
  {
   "cell_type": "code",
   "execution_count": 17,
   "metadata": {},
   "outputs": [
    {
     "data": {
      "text/plain": [
       "array([[<matplotlib.axes._subplots.AxesSubplot object at 0x0000025CD04B8880>,\n",
       "        <matplotlib.axes._subplots.AxesSubplot object at 0x0000025CD0975D30>,\n",
       "        <matplotlib.axes._subplots.AxesSubplot object at 0x0000025CD09A5A00>],\n",
       "       [<matplotlib.axes._subplots.AxesSubplot object at 0x0000025CD09D3E80>,\n",
       "        <matplotlib.axes._subplots.AxesSubplot object at 0x0000025CD185B310>,\n",
       "        <matplotlib.axes._subplots.AxesSubplot object at 0x0000025CD18876A0>],\n",
       "       [<matplotlib.axes._subplots.AxesSubplot object at 0x0000025CD1887790>,\n",
       "        <matplotlib.axes._subplots.AxesSubplot object at 0x0000025CD18B5C40>,\n",
       "        <matplotlib.axes._subplots.AxesSubplot object at 0x0000025CD1919490>],\n",
       "       [<matplotlib.axes._subplots.AxesSubplot object at 0x0000025CD19448E0>,\n",
       "        <matplotlib.axes._subplots.AxesSubplot object at 0x0000025CD1971D60>,\n",
       "        <matplotlib.axes._subplots.AxesSubplot object at 0x0000025CD19A91F0>]],\n",
       "      dtype=object)"
      ]
     },
     "execution_count": 17,
     "metadata": {},
     "output_type": "execute_result"
    },
    {
     "data": {
      "image/png": "[encoded data removed]",
      "text/plain": [
       "<Figure size 1440x1080 with 12 Axes>"
      ]
     },
     "metadata": {
      "needs_background": "light"
     },
     "output_type": "display_data"
    }
   ],
   "source": [
    "df1.hist(figsize=(20,15))"
   ]
  },
  {
   "cell_type": "markdown",
   "metadata": {},
   "source": [
    "While some of these features may help with our predictions, we drop wheelchair access, electric vehicle charge, comes furnished to reduce the complexity of our model.\n",
    "\n",
    "we combined dog and cats allowed then replot the hist."
   ]
  },
  {
   "cell_type": "code",
   "execution_count": 18,
   "metadata": {},
   "outputs": [],
   "source": [
    "df1=df1.drop([\"wheelchair_access\",\"electric_vehicle_charge\",\"comes_furnished\"],axis=1)"
   ]
  },
  {
   "cell_type": "code",
   "execution_count": 19,
   "metadata": {},
   "outputs": [],
   "source": [
    "df1=df1.drop([\"cats_allowed\"],axis=1)\n",
    "df1.rename(columns = {'dogs_allowed':'pets_allowed'}, inplace = True) "
   ]
  },
  {
   "cell_type": "code",
   "execution_count": 20,
   "metadata": {},
   "outputs": [
    {
     "data": {
      "text/plain": [
       "array([[<matplotlib.axes._subplots.AxesSubplot object at 0x0000025CD1B9A9A0>,\n",
       "        <matplotlib.axes._subplots.AxesSubplot object at 0x0000025CD1BEC340>,\n",
       "        <matplotlib.axes._subplots.AxesSubplot object at 0x0000025CD1C11A30>],\n",
       "       [<matplotlib.axes._subplots.AxesSubplot object at 0x0000025CD1C4A1C0>,\n",
       "        <matplotlib.axes._subplots.AxesSubplot object at 0x0000025CD1C72940>,\n",
       "        <matplotlib.axes._subplots.AxesSubplot object at 0x0000025CD1C9B160>],\n",
       "       [<matplotlib.axes._subplots.AxesSubplot object at 0x0000025CD1CA8130>,\n",
       "        <matplotlib.axes._subplots.AxesSubplot object at 0x0000025CD1CCF940>,\n",
       "        <matplotlib.axes._subplots.AxesSubplot object at 0x0000025CD285E730>]],\n",
       "      dtype=object)"
      ]
     },
     "execution_count": 20,
     "metadata": {},
     "output_type": "execute_result"
    },
    {
     "data": {
      "image/png": "[encoded data removed]",
      "text/plain": [
       "<Figure size 1440x1080 with 9 Axes>"
      ]
     },
     "metadata": {
      "needs_background": "light"
     },
     "output_type": "display_data"
    }
   ],
   "source": [
    "df1.hist(figsize=(20,15))"
   ]
  },
  {
   "cell_type": "code",
   "execution_count": 21,
   "metadata": {
    "scrolled": true
   },
   "outputs": [
    {
     "data": {
      "text/plain": [
       "apartment          316744\n",
       "house               32809\n",
       "townhouse           15782\n",
       "condo                6214\n",
       "duplex               5020\n",
       "manufactured         4235\n",
       "cottage/cabin         854\n",
       "loft                  692\n",
       "flat                  528\n",
       "in-law                171\n",
       "land                    8\n",
       "assisted living         2\n",
       "Name: type, dtype: int64"
      ]
     },
     "execution_count": 21,
     "metadata": {},
     "output_type": "execute_result"
    }
   ],
   "source": [
    "#Drop Land and assisted living, less than 10 values\n",
    "df1.type.value_counts()\n"
   ]
  },
  {
   "cell_type": "code",
   "execution_count": null,
   "metadata": {},
   "outputs": [],
   "source": []
  },
  {
   "cell_type": "code",
   "execution_count": 22,
   "metadata": {
    "scrolled": true
   },
   "outputs": [],
   "source": [
    "type_remove = df1[df1['type'] == 'land'].index\n",
    "df1.drop(index=type_remove, inplace=True)\n",
    "\n"
   ]
  },
  {
   "cell_type": "code",
   "execution_count": 23,
   "metadata": {},
   "outputs": [],
   "source": [
    "df1.drop(index=df1[df1['type'] =='assisted living'].index, inplace=True)"
   ]
  },
  {
   "cell_type": "code",
   "execution_count": 24,
   "metadata": {
    "scrolled": true
   },
   "outputs": [
    {
     "data": {
      "text/plain": [
       "apartment        316744\n",
       "house             32809\n",
       "townhouse         15782\n",
       "condo              6214\n",
       "duplex             5020\n",
       "manufactured       4235\n",
       "cottage/cabin       854\n",
       "loft                692\n",
       "flat                528\n",
       "in-law              171\n",
       "Name: type, dtype: int64"
      ]
     },
     "execution_count": 24,
     "metadata": {},
     "output_type": "execute_result"
    }
   ],
   "source": [
    "df1.type.value_counts()"
   ]
  },
  {
   "cell_type": "code",
   "execution_count": null,
   "metadata": {},
   "outputs": [],
   "source": []
  },
  {
   "cell_type": "code",
   "execution_count": 25,
   "metadata": {},
   "outputs": [
    {
     "data": {
      "text/plain": [
       "array(['apartment', 'condo', 'house', 'duplex', 'townhouse', 'loft',\n",
       "       'manufactured', 'cottage/cabin', 'flat', 'in-law'], dtype=object)"
      ]
     },
     "execution_count": 25,
     "metadata": {},
     "output_type": "execute_result"
    }
   ],
   "source": [
    "df1.type.unique()"
   ]
  },
  {
   "cell_type": "code",
   "execution_count": 26,
   "metadata": {},
   "outputs": [
    {
     "data": {
      "text/plain": [
       "array([ 2. ,  1. ,  3. ,  1.5,  2.5,  3.5,  0. ,  4.5,  5. ,  4. ,  6. ,\n",
       "        5.5,  7. ,  6.5,  8.5, 75. ,  7.5,  8. , 25. ])"
      ]
     },
     "execution_count": 26,
     "metadata": {},
     "output_type": "execute_result"
    }
   ],
   "source": [
    "df1.baths.unique()"
   ]
  },
  {
   "cell_type": "code",
   "execution_count": 27,
   "metadata": {},
   "outputs": [
    {
     "data": {
      "text/html": [
       "<div>\n",
       "<style scoped>\n",
       "    .dataframe tbody tr th:only-of-type {\n",
       "        vertical-align: middle;\n",
       "    }\n",
       "\n",
       "    .dataframe tbody tr th {\n",
       "        vertical-align: top;\n",
       "    }\n",
       "\n",
       "    .dataframe thead th {\n",
       "        text-align: right;\n",
       "    }\n",
       "</style>\n",
       "<table border=\"1\" class=\"dataframe\">\n",
       "  <thead>\n",
       "    <tr style=\"text-align: right;\">\n",
       "      <th></th>\n",
       "      <th>region</th>\n",
       "      <th>price</th>\n",
       "      <th>type</th>\n",
       "      <th>sqfeet</th>\n",
       "      <th>beds</th>\n",
       "      <th>baths</th>\n",
       "      <th>pets_allowed</th>\n",
       "      <th>smoking_allowed</th>\n",
       "      <th>laundry_options</th>\n",
       "      <th>parking_options</th>\n",
       "      <th>lat</th>\n",
       "      <th>long</th>\n",
       "      <th>state</th>\n",
       "    </tr>\n",
       "  </thead>\n",
       "  <tbody>\n",
       "    <tr>\n",
       "      <th>15677</th>\n",
       "      <td>boulder</td>\n",
       "      <td>8000</td>\n",
       "      <td>house</td>\n",
       "      <td>8112</td>\n",
       "      <td>6</td>\n",
       "      <td>7.0</td>\n",
       "      <td>1</td>\n",
       "      <td>1</td>\n",
       "      <td>w/d in unit</td>\n",
       "      <td>detached garage</td>\n",
       "      <td>39.9611</td>\n",
       "      <td>-105.2050</td>\n",
       "      <td>co</td>\n",
       "    </tr>\n",
       "    <tr>\n",
       "      <th>26784</th>\n",
       "      <td>eastern CT</td>\n",
       "      <td>3995</td>\n",
       "      <td>house</td>\n",
       "      <td>4300</td>\n",
       "      <td>7</td>\n",
       "      <td>6.5</td>\n",
       "      <td>0</td>\n",
       "      <td>0</td>\n",
       "      <td>laundry in bldg</td>\n",
       "      <td>off-street parking</td>\n",
       "      <td>41.8620</td>\n",
       "      <td>-71.9672</td>\n",
       "      <td>ct</td>\n",
       "    </tr>\n",
       "    <tr>\n",
       "      <th>37586</th>\n",
       "      <td>florida keys</td>\n",
       "      <td>12000000</td>\n",
       "      <td>apartment</td>\n",
       "      <td>9000</td>\n",
       "      <td>7</td>\n",
       "      <td>8.5</td>\n",
       "      <td>0</td>\n",
       "      <td>0</td>\n",
       "      <td>w/d in unit</td>\n",
       "      <td>attached garage</td>\n",
       "      <td>25.9941</td>\n",
       "      <td>-80.1183</td>\n",
       "      <td>fl</td>\n",
       "    </tr>\n",
       "    <tr>\n",
       "      <th>69221</th>\n",
       "      <td>atlanta</td>\n",
       "      <td>499</td>\n",
       "      <td>house</td>\n",
       "      <td>7500</td>\n",
       "      <td>6</td>\n",
       "      <td>7.0</td>\n",
       "      <td>0</td>\n",
       "      <td>0</td>\n",
       "      <td>w/d in unit</td>\n",
       "      <td>attached garage</td>\n",
       "      <td>33.8420</td>\n",
       "      <td>-84.4127</td>\n",
       "      <td>ga</td>\n",
       "    </tr>\n",
       "    <tr>\n",
       "      <th>81630</th>\n",
       "      <td>hawaii</td>\n",
       "      <td>3200</td>\n",
       "      <td>house</td>\n",
       "      <td>5078</td>\n",
       "      <td>6</td>\n",
       "      <td>6.5</td>\n",
       "      <td>0</td>\n",
       "      <td>0</td>\n",
       "      <td>w/d in unit</td>\n",
       "      <td>carport</td>\n",
       "      <td>21.3453</td>\n",
       "      <td>-158.0870</td>\n",
       "      <td>hi</td>\n",
       "    </tr>\n",
       "    <tr>\n",
       "      <th>89776</th>\n",
       "      <td>chicago</td>\n",
       "      <td>2449</td>\n",
       "      <td>apartment</td>\n",
       "      <td>1000</td>\n",
       "      <td>1100</td>\n",
       "      <td>75.0</td>\n",
       "      <td>0</td>\n",
       "      <td>1</td>\n",
       "      <td>w/d in unit</td>\n",
       "      <td>carport</td>\n",
       "      <td>42.0195</td>\n",
       "      <td>-87.6650</td>\n",
       "      <td>il</td>\n",
       "    </tr>\n",
       "    <tr>\n",
       "      <th>90779</th>\n",
       "      <td>chicago</td>\n",
       "      <td>2449</td>\n",
       "      <td>apartment</td>\n",
       "      <td>1000</td>\n",
       "      <td>1100</td>\n",
       "      <td>75.0</td>\n",
       "      <td>0</td>\n",
       "      <td>1</td>\n",
       "      <td>w/d in unit</td>\n",
       "      <td>carport</td>\n",
       "      <td>42.0195</td>\n",
       "      <td>-87.6650</td>\n",
       "      <td>il</td>\n",
       "    </tr>\n",
       "    <tr>\n",
       "      <th>111395</th>\n",
       "      <td>kansas city, MO</td>\n",
       "      <td>4500</td>\n",
       "      <td>house</td>\n",
       "      <td>6047</td>\n",
       "      <td>5</td>\n",
       "      <td>7.0</td>\n",
       "      <td>0</td>\n",
       "      <td>1</td>\n",
       "      <td>w/d hookups</td>\n",
       "      <td>attached garage</td>\n",
       "      <td>38.9660</td>\n",
       "      <td>-94.6342</td>\n",
       "      <td>ks</td>\n",
       "    </tr>\n",
       "    <tr>\n",
       "      <th>111586</th>\n",
       "      <td>kansas city, MO</td>\n",
       "      <td>4200</td>\n",
       "      <td>house</td>\n",
       "      <td>7500</td>\n",
       "      <td>7</td>\n",
       "      <td>7.5</td>\n",
       "      <td>1</td>\n",
       "      <td>1</td>\n",
       "      <td>w/d in unit</td>\n",
       "      <td>attached garage</td>\n",
       "      <td>39.1736</td>\n",
       "      <td>-94.8668</td>\n",
       "      <td>ks</td>\n",
       "    </tr>\n",
       "    <tr>\n",
       "      <th>161911</th>\n",
       "      <td>minneapolis / st paul</td>\n",
       "      <td>1</td>\n",
       "      <td>apartment</td>\n",
       "      <td>1001</td>\n",
       "      <td>8</td>\n",
       "      <td>8.0</td>\n",
       "      <td>1</td>\n",
       "      <td>0</td>\n",
       "      <td>laundry in bldg</td>\n",
       "      <td>off-street parking</td>\n",
       "      <td>44.9585</td>\n",
       "      <td>-93.2970</td>\n",
       "      <td>mn</td>\n",
       "    </tr>\n",
       "    <tr>\n",
       "      <th>227657</th>\n",
       "      <td>cleveland</td>\n",
       "      <td>7995</td>\n",
       "      <td>house</td>\n",
       "      <td>9972</td>\n",
       "      <td>6</td>\n",
       "      <td>7.0</td>\n",
       "      <td>0</td>\n",
       "      <td>1</td>\n",
       "      <td>w/d in unit</td>\n",
       "      <td>off-street parking</td>\n",
       "      <td>41.4826</td>\n",
       "      <td>-81.5635</td>\n",
       "      <td>oh</td>\n",
       "    </tr>\n",
       "    <tr>\n",
       "      <th>235159</th>\n",
       "      <td>youngstown</td>\n",
       "      <td>550</td>\n",
       "      <td>apartment</td>\n",
       "      <td>250</td>\n",
       "      <td>1000</td>\n",
       "      <td>25.0</td>\n",
       "      <td>0</td>\n",
       "      <td>0</td>\n",
       "      <td>w/d in unit</td>\n",
       "      <td>street parking</td>\n",
       "      <td>41.0252</td>\n",
       "      <td>-80.6687</td>\n",
       "      <td>oh</td>\n",
       "    </tr>\n",
       "    <tr>\n",
       "      <th>320953</th>\n",
       "      <td>vermont</td>\n",
       "      <td>2600</td>\n",
       "      <td>apartment</td>\n",
       "      <td>1300</td>\n",
       "      <td>4</td>\n",
       "      <td>7.5</td>\n",
       "      <td>0</td>\n",
       "      <td>1</td>\n",
       "      <td>w/d in unit</td>\n",
       "      <td>off-street parking</td>\n",
       "      <td>44.4840</td>\n",
       "      <td>-73.2199</td>\n",
       "      <td>vt</td>\n",
       "    </tr>\n",
       "    <tr>\n",
       "      <th>375187</th>\n",
       "      <td>los angeles</td>\n",
       "      <td>11000</td>\n",
       "      <td>house</td>\n",
       "      <td>4929</td>\n",
       "      <td>6</td>\n",
       "      <td>6.5</td>\n",
       "      <td>1</td>\n",
       "      <td>1</td>\n",
       "      <td>w/d in unit</td>\n",
       "      <td>attached garage</td>\n",
       "      <td>34.1713</td>\n",
       "      <td>-118.4110</td>\n",
       "      <td>ca</td>\n",
       "    </tr>\n",
       "    <tr>\n",
       "      <th>384010</th>\n",
       "      <td>redding</td>\n",
       "      <td>10000</td>\n",
       "      <td>house</td>\n",
       "      <td>7800</td>\n",
       "      <td>5</td>\n",
       "      <td>6.5</td>\n",
       "      <td>0</td>\n",
       "      <td>1</td>\n",
       "      <td>laundry in bldg</td>\n",
       "      <td>attached garage</td>\n",
       "      <td>40.5802</td>\n",
       "      <td>-122.3620</td>\n",
       "      <td>ca</td>\n",
       "    </tr>\n",
       "  </tbody>\n",
       "</table>\n",
       "</div>"
      ],
      "text/plain": [
       "                       region     price       type  sqfeet  beds  baths  \\\n",
       "15677                 boulder      8000      house    8112     6    7.0   \n",
       "26784              eastern CT      3995      house    4300     7    6.5   \n",
       "37586            florida keys  12000000  apartment    9000     7    8.5   \n",
       "69221                 atlanta       499      house    7500     6    7.0   \n",
       "81630                  hawaii      3200      house    5078     6    6.5   \n",
       "89776                 chicago      2449  apartment    1000  1100   75.0   \n",
       "90779                 chicago      2449  apartment    1000  1100   75.0   \n",
       "111395        kansas city, MO      4500      house    6047     5    7.0   \n",
       "111586        kansas city, MO      4200      house    7500     7    7.5   \n",
       "161911  minneapolis / st paul         1  apartment    1001     8    8.0   \n",
       "227657              cleveland      7995      house    9972     6    7.0   \n",
       "235159             youngstown       550  apartment     250  1000   25.0   \n",
       "320953                vermont      2600  apartment    1300     4    7.5   \n",
       "375187            los angeles     11000      house    4929     6    6.5   \n",
       "384010                redding     10000      house    7800     5    6.5   \n",
       "\n",
       "        pets_allowed  smoking_allowed  laundry_options     parking_options  \\\n",
       "15677              1                1      w/d in unit     detached garage   \n",
       "26784              0                0  laundry in bldg  off-street parking   \n",
       "37586              0                0      w/d in unit     attached garage   \n",
       "69221              0                0      w/d in unit     attached garage   \n",
       "81630              0                0      w/d in unit             carport   \n",
       "89776              0                1      w/d in unit             carport   \n",
       "90779              0                1      w/d in unit             carport   \n",
       "111395             0                1      w/d hookups     attached garage   \n",
       "111586             1                1      w/d in unit     attached garage   \n",
       "161911             1                0  laundry in bldg  off-street parking   \n",
       "227657             0                1      w/d in unit  off-street parking   \n",
       "235159             0                0      w/d in unit      street parking   \n",
       "320953             0                1      w/d in unit  off-street parking   \n",
       "375187             1                1      w/d in unit     attached garage   \n",
       "384010             0                1  laundry in bldg     attached garage   \n",
       "\n",
       "            lat      long state  \n",
       "15677   39.9611 -105.2050    co  \n",
       "26784   41.8620  -71.9672    ct  \n",
       "37586   25.9941  -80.1183    fl  \n",
       "69221   33.8420  -84.4127    ga  \n",
       "81630   21.3453 -158.0870    hi  \n",
       "89776   42.0195  -87.6650    il  \n",
       "90779   42.0195  -87.6650    il  \n",
       "111395  38.9660  -94.6342    ks  \n",
       "111586  39.1736  -94.8668    ks  \n",
       "161911  44.9585  -93.2970    mn  \n",
       "227657  41.4826  -81.5635    oh  \n",
       "235159  41.0252  -80.6687    oh  \n",
       "320953  44.4840  -73.2199    vt  \n",
       "375187  34.1713 -118.4110    ca  \n",
       "384010  40.5802 -122.3620    ca  "
      ]
     },
     "execution_count": 27,
     "metadata": {},
     "output_type": "execute_result"
    }
   ],
   "source": [
    "#bathroom outliers\n",
    "df1[df1.baths>6]"
   ]
  },
  {
   "cell_type": "code",
   "execution_count": 28,
   "metadata": {},
   "outputs": [],
   "source": [
    "df2 = df1[df1.baths<6]\n",
    "\n",
    "#check: # should return 0 \n",
    "# df2[df2.baths>6] "
   ]
  },
  {
   "cell_type": "code",
   "execution_count": 29,
   "metadata": {},
   "outputs": [
    {
     "data": {
      "text/html": [
       "<div>\n",
       "<style scoped>\n",
       "    .dataframe tbody tr th:only-of-type {\n",
       "        vertical-align: middle;\n",
       "    }\n",
       "\n",
       "    .dataframe tbody tr th {\n",
       "        vertical-align: top;\n",
       "    }\n",
       "\n",
       "    .dataframe thead th {\n",
       "        text-align: right;\n",
       "    }\n",
       "</style>\n",
       "<table border=\"1\" class=\"dataframe\">\n",
       "  <thead>\n",
       "    <tr style=\"text-align: right;\">\n",
       "      <th></th>\n",
       "      <th>region</th>\n",
       "      <th>price</th>\n",
       "      <th>type</th>\n",
       "      <th>sqfeet</th>\n",
       "      <th>beds</th>\n",
       "      <th>baths</th>\n",
       "      <th>pets_allowed</th>\n",
       "      <th>smoking_allowed</th>\n",
       "      <th>laundry_options</th>\n",
       "      <th>parking_options</th>\n",
       "      <th>lat</th>\n",
       "      <th>long</th>\n",
       "      <th>state</th>\n",
       "    </tr>\n",
       "  </thead>\n",
       "  <tbody>\n",
       "    <tr>\n",
       "      <th>1988</th>\n",
       "      <td>sacramento</td>\n",
       "      <td>95834</td>\n",
       "      <td>apartment</td>\n",
       "      <td>1060</td>\n",
       "      <td>2</td>\n",
       "      <td>2.0</td>\n",
       "      <td>0</td>\n",
       "      <td>1</td>\n",
       "      <td>w/d in unit</td>\n",
       "      <td>off-street parking</td>\n",
       "      <td>38.6560</td>\n",
       "      <td>-121.512</td>\n",
       "      <td>ca</td>\n",
       "    </tr>\n",
       "    <tr>\n",
       "      <th>4798</th>\n",
       "      <td>san diego</td>\n",
       "      <td>11995</td>\n",
       "      <td>apartment</td>\n",
       "      <td>2000</td>\n",
       "      <td>4</td>\n",
       "      <td>3.0</td>\n",
       "      <td>0</td>\n",
       "      <td>0</td>\n",
       "      <td>w/d in unit</td>\n",
       "      <td>off-street parking</td>\n",
       "      <td>32.7483</td>\n",
       "      <td>-117.217</td>\n",
       "      <td>ca</td>\n",
       "    </tr>\n",
       "    <tr>\n",
       "      <th>4922</th>\n",
       "      <td>san diego</td>\n",
       "      <td>11400</td>\n",
       "      <td>apartment</td>\n",
       "      <td>1969</td>\n",
       "      <td>3</td>\n",
       "      <td>3.0</td>\n",
       "      <td>1</td>\n",
       "      <td>0</td>\n",
       "      <td>w/d in unit</td>\n",
       "      <td>attached garage</td>\n",
       "      <td>32.7104</td>\n",
       "      <td>-117.151</td>\n",
       "      <td>ca</td>\n",
       "    </tr>\n",
       "    <tr>\n",
       "      <th>6445</th>\n",
       "      <td>santa barbara</td>\n",
       "      <td>15000</td>\n",
       "      <td>house</td>\n",
       "      <td>5386</td>\n",
       "      <td>6</td>\n",
       "      <td>4.5</td>\n",
       "      <td>0</td>\n",
       "      <td>1</td>\n",
       "      <td>w/d in unit</td>\n",
       "      <td>attached garage</td>\n",
       "      <td>34.4378</td>\n",
       "      <td>-119.616</td>\n",
       "      <td>ca</td>\n",
       "    </tr>\n",
       "    <tr>\n",
       "      <th>6607</th>\n",
       "      <td>santa barbara</td>\n",
       "      <td>11350</td>\n",
       "      <td>house</td>\n",
       "      <td>1019856</td>\n",
       "      <td>5</td>\n",
       "      <td>4.0</td>\n",
       "      <td>1</td>\n",
       "      <td>0</td>\n",
       "      <td>laundry in bldg</td>\n",
       "      <td>attached garage</td>\n",
       "      <td>34.4478</td>\n",
       "      <td>-119.703</td>\n",
       "      <td>ca</td>\n",
       "    </tr>\n",
       "    <tr>\n",
       "      <th>...</th>\n",
       "      <td>...</td>\n",
       "      <td>...</td>\n",
       "      <td>...</td>\n",
       "      <td>...</td>\n",
       "      <td>...</td>\n",
       "      <td>...</td>\n",
       "      <td>...</td>\n",
       "      <td>...</td>\n",
       "      <td>...</td>\n",
       "      <td>...</td>\n",
       "      <td>...</td>\n",
       "      <td>...</td>\n",
       "      <td>...</td>\n",
       "    </tr>\n",
       "    <tr>\n",
       "      <th>383429</th>\n",
       "      <td>palm springs</td>\n",
       "      <td>10010</td>\n",
       "      <td>house</td>\n",
       "      <td>4565</td>\n",
       "      <td>4</td>\n",
       "      <td>5.0</td>\n",
       "      <td>0</td>\n",
       "      <td>1</td>\n",
       "      <td>w/d in unit</td>\n",
       "      <td>off-street parking</td>\n",
       "      <td>33.7644</td>\n",
       "      <td>-116.340</td>\n",
       "      <td>ca</td>\n",
       "    </tr>\n",
       "    <tr>\n",
       "      <th>383744</th>\n",
       "      <td>palm springs</td>\n",
       "      <td>10060</td>\n",
       "      <td>condo</td>\n",
       "      <td>2836</td>\n",
       "      <td>2</td>\n",
       "      <td>3.0</td>\n",
       "      <td>0</td>\n",
       "      <td>1</td>\n",
       "      <td>w/d in unit</td>\n",
       "      <td>off-street parking</td>\n",
       "      <td>33.6685</td>\n",
       "      <td>-116.308</td>\n",
       "      <td>ca</td>\n",
       "    </tr>\n",
       "    <tr>\n",
       "      <th>383904</th>\n",
       "      <td>palm springs</td>\n",
       "      <td>15010</td>\n",
       "      <td>house</td>\n",
       "      <td>2632</td>\n",
       "      <td>3</td>\n",
       "      <td>2.0</td>\n",
       "      <td>0</td>\n",
       "      <td>1</td>\n",
       "      <td>w/d in unit</td>\n",
       "      <td>off-street parking</td>\n",
       "      <td>33.6685</td>\n",
       "      <td>-116.308</td>\n",
       "      <td>ca</td>\n",
       "    </tr>\n",
       "    <tr>\n",
       "      <th>383905</th>\n",
       "      <td>palm springs</td>\n",
       "      <td>10510</td>\n",
       "      <td>house</td>\n",
       "      <td>2442</td>\n",
       "      <td>3</td>\n",
       "      <td>4.0</td>\n",
       "      <td>0</td>\n",
       "      <td>1</td>\n",
       "      <td>w/d in unit</td>\n",
       "      <td>off-street parking</td>\n",
       "      <td>33.7643</td>\n",
       "      <td>-116.423</td>\n",
       "      <td>ca</td>\n",
       "    </tr>\n",
       "    <tr>\n",
       "      <th>384236</th>\n",
       "      <td>redding</td>\n",
       "      <td>29500</td>\n",
       "      <td>manufactured</td>\n",
       "      <td>910</td>\n",
       "      <td>2</td>\n",
       "      <td>1.0</td>\n",
       "      <td>0</td>\n",
       "      <td>1</td>\n",
       "      <td>w/d in unit</td>\n",
       "      <td>off-street parking</td>\n",
       "      <td>40.5671</td>\n",
       "      <td>-122.192</td>\n",
       "      <td>ca</td>\n",
       "    </tr>\n",
       "  </tbody>\n",
       "</table>\n",
       "<p>260 rows × 13 columns</p>\n",
       "</div>"
      ],
      "text/plain": [
       "               region  price          type   sqfeet  beds  baths  \\\n",
       "1988       sacramento  95834     apartment     1060     2    2.0   \n",
       "4798        san diego  11995     apartment     2000     4    3.0   \n",
       "4922        san diego  11400     apartment     1969     3    3.0   \n",
       "6445    santa barbara  15000         house     5386     6    4.5   \n",
       "6607    santa barbara  11350         house  1019856     5    4.0   \n",
       "...               ...    ...           ...      ...   ...    ...   \n",
       "383429   palm springs  10010         house     4565     4    5.0   \n",
       "383744   palm springs  10060         condo     2836     2    3.0   \n",
       "383904   palm springs  15010         house     2632     3    2.0   \n",
       "383905   palm springs  10510         house     2442     3    4.0   \n",
       "384236        redding  29500  manufactured      910     2    1.0   \n",
       "\n",
       "        pets_allowed  smoking_allowed  laundry_options     parking_options  \\\n",
       "1988               0                1      w/d in unit  off-street parking   \n",
       "4798               0                0      w/d in unit  off-street parking   \n",
       "4922               1                0      w/d in unit     attached garage   \n",
       "6445               0                1      w/d in unit     attached garage   \n",
       "6607               1                0  laundry in bldg     attached garage   \n",
       "...              ...              ...              ...                 ...   \n",
       "383429             0                1      w/d in unit  off-street parking   \n",
       "383744             0                1      w/d in unit  off-street parking   \n",
       "383904             0                1      w/d in unit  off-street parking   \n",
       "383905             0                1      w/d in unit  off-street parking   \n",
       "384236             0                1      w/d in unit  off-street parking   \n",
       "\n",
       "            lat     long state  \n",
       "1988    38.6560 -121.512    ca  \n",
       "4798    32.7483 -117.217    ca  \n",
       "4922    32.7104 -117.151    ca  \n",
       "6445    34.4378 -119.616    ca  \n",
       "6607    34.4478 -119.703    ca  \n",
       "...         ...      ...   ...  \n",
       "383429  33.7644 -116.340    ca  \n",
       "383744  33.6685 -116.308    ca  \n",
       "383904  33.6685 -116.308    ca  \n",
       "383905  33.7643 -116.423    ca  \n",
       "384236  40.5671 -122.192    ca  \n",
       "\n",
       "[260 rows x 13 columns]"
      ]
     },
     "execution_count": 29,
     "metadata": {},
     "output_type": "execute_result"
    }
   ],
   "source": [
    "#remove prices above 10k because realistically people who can afford more than 10k a month can already buy their own house\n",
    "#some of the data is already skewed\n",
    "df2[df2.price>10000] "
   ]
  },
  {
   "cell_type": "code",
   "execution_count": 30,
   "metadata": {},
   "outputs": [
    {
     "data": {
      "text/html": [
       "<div>\n",
       "<style scoped>\n",
       "    .dataframe tbody tr th:only-of-type {\n",
       "        vertical-align: middle;\n",
       "    }\n",
       "\n",
       "    .dataframe tbody tr th {\n",
       "        vertical-align: top;\n",
       "    }\n",
       "\n",
       "    .dataframe thead th {\n",
       "        text-align: right;\n",
       "    }\n",
       "</style>\n",
       "<table border=\"1\" class=\"dataframe\">\n",
       "  <thead>\n",
       "    <tr style=\"text-align: right;\">\n",
       "      <th></th>\n",
       "      <th>region</th>\n",
       "      <th>price</th>\n",
       "      <th>type</th>\n",
       "      <th>sqfeet</th>\n",
       "      <th>beds</th>\n",
       "      <th>baths</th>\n",
       "      <th>pets_allowed</th>\n",
       "      <th>smoking_allowed</th>\n",
       "      <th>laundry_options</th>\n",
       "      <th>parking_options</th>\n",
       "      <th>lat</th>\n",
       "      <th>long</th>\n",
       "      <th>state</th>\n",
       "    </tr>\n",
       "  </thead>\n",
       "  <tbody>\n",
       "  </tbody>\n",
       "</table>\n",
       "</div>"
      ],
      "text/plain": [
       "Empty DataFrame\n",
       "Columns: [region, price, type, sqfeet, beds, baths, pets_allowed, smoking_allowed, laundry_options, parking_options, lat, long, state]\n",
       "Index: []"
      ]
     },
     "execution_count": 30,
     "metadata": {},
     "output_type": "execute_result"
    }
   ],
   "source": [
    "df2 = df2[df2.price<10000]\n",
    "df2[df2.price>10000] \n"
   ]
  },
  {
   "cell_type": "markdown",
   "metadata": {},
   "source": [
    "### Prices with 0 "
   ]
  },
  {
   "cell_type": "code",
   "execution_count": 31,
   "metadata": {
    "scrolled": true
   },
   "outputs": [
    {
     "data": {
      "text/html": [
       "<div>\n",
       "<style scoped>\n",
       "    .dataframe tbody tr th:only-of-type {\n",
       "        vertical-align: middle;\n",
       "    }\n",
       "\n",
       "    .dataframe tbody tr th {\n",
       "        vertical-align: top;\n",
       "    }\n",
       "\n",
       "    .dataframe thead th {\n",
       "        text-align: right;\n",
       "    }\n",
       "</style>\n",
       "<table border=\"1\" class=\"dataframe\">\n",
       "  <thead>\n",
       "    <tr style=\"text-align: right;\">\n",
       "      <th></th>\n",
       "      <th>region</th>\n",
       "      <th>price</th>\n",
       "      <th>type</th>\n",
       "      <th>sqfeet</th>\n",
       "      <th>beds</th>\n",
       "      <th>baths</th>\n",
       "      <th>pets_allowed</th>\n",
       "      <th>smoking_allowed</th>\n",
       "      <th>laundry_options</th>\n",
       "      <th>parking_options</th>\n",
       "      <th>lat</th>\n",
       "      <th>long</th>\n",
       "      <th>state</th>\n",
       "    </tr>\n",
       "  </thead>\n",
       "  <tbody>\n",
       "    <tr>\n",
       "      <th>2205</th>\n",
       "      <td>sacramento</td>\n",
       "      <td>0</td>\n",
       "      <td>apartment</td>\n",
       "      <td>500</td>\n",
       "      <td>1</td>\n",
       "      <td>1.0</td>\n",
       "      <td>0</td>\n",
       "      <td>1</td>\n",
       "      <td>w/d in unit</td>\n",
       "      <td>off-street parking</td>\n",
       "      <td>38.4718</td>\n",
       "      <td>-121.427</td>\n",
       "      <td>ca</td>\n",
       "    </tr>\n",
       "    <tr>\n",
       "      <th>3351</th>\n",
       "      <td>sacramento</td>\n",
       "      <td>0</td>\n",
       "      <td>apartment</td>\n",
       "      <td>500</td>\n",
       "      <td>1</td>\n",
       "      <td>1.0</td>\n",
       "      <td>0</td>\n",
       "      <td>1</td>\n",
       "      <td>w/d in unit</td>\n",
       "      <td>off-street parking</td>\n",
       "      <td>38.4718</td>\n",
       "      <td>-121.427</td>\n",
       "      <td>ca</td>\n",
       "    </tr>\n",
       "    <tr>\n",
       "      <th>3375</th>\n",
       "      <td>sacramento</td>\n",
       "      <td>0</td>\n",
       "      <td>apartment</td>\n",
       "      <td>500</td>\n",
       "      <td>1</td>\n",
       "      <td>1.0</td>\n",
       "      <td>0</td>\n",
       "      <td>1</td>\n",
       "      <td>w/d in unit</td>\n",
       "      <td>off-street parking</td>\n",
       "      <td>38.4718</td>\n",
       "      <td>-121.427</td>\n",
       "      <td>ca</td>\n",
       "    </tr>\n",
       "    <tr>\n",
       "      <th>3474</th>\n",
       "      <td>sacramento</td>\n",
       "      <td>0</td>\n",
       "      <td>apartment</td>\n",
       "      <td>500</td>\n",
       "      <td>1</td>\n",
       "      <td>1.0</td>\n",
       "      <td>0</td>\n",
       "      <td>1</td>\n",
       "      <td>w/d in unit</td>\n",
       "      <td>off-street parking</td>\n",
       "      <td>38.4718</td>\n",
       "      <td>-121.427</td>\n",
       "      <td>ca</td>\n",
       "    </tr>\n",
       "    <tr>\n",
       "      <th>3486</th>\n",
       "      <td>sacramento</td>\n",
       "      <td>0</td>\n",
       "      <td>apartment</td>\n",
       "      <td>500</td>\n",
       "      <td>1</td>\n",
       "      <td>1.0</td>\n",
       "      <td>0</td>\n",
       "      <td>1</td>\n",
       "      <td>w/d in unit</td>\n",
       "      <td>off-street parking</td>\n",
       "      <td>38.4718</td>\n",
       "      <td>-121.427</td>\n",
       "      <td>ca</td>\n",
       "    </tr>\n",
       "    <tr>\n",
       "      <th>...</th>\n",
       "      <td>...</td>\n",
       "      <td>...</td>\n",
       "      <td>...</td>\n",
       "      <td>...</td>\n",
       "      <td>...</td>\n",
       "      <td>...</td>\n",
       "      <td>...</td>\n",
       "      <td>...</td>\n",
       "      <td>...</td>\n",
       "      <td>...</td>\n",
       "      <td>...</td>\n",
       "      <td>...</td>\n",
       "      <td>...</td>\n",
       "    </tr>\n",
       "    <tr>\n",
       "      <th>381925</th>\n",
       "      <td>orange county</td>\n",
       "      <td>0</td>\n",
       "      <td>apartment</td>\n",
       "      <td>446</td>\n",
       "      <td>0</td>\n",
       "      <td>1.0</td>\n",
       "      <td>0</td>\n",
       "      <td>1</td>\n",
       "      <td>laundry in bldg</td>\n",
       "      <td>carport</td>\n",
       "      <td>33.7691</td>\n",
       "      <td>-117.885</td>\n",
       "      <td>ca</td>\n",
       "    </tr>\n",
       "    <tr>\n",
       "      <th>382005</th>\n",
       "      <td>orange county</td>\n",
       "      <td>0</td>\n",
       "      <td>apartment</td>\n",
       "      <td>750</td>\n",
       "      <td>1</td>\n",
       "      <td>1.0</td>\n",
       "      <td>1</td>\n",
       "      <td>1</td>\n",
       "      <td>laundry on site</td>\n",
       "      <td>carport</td>\n",
       "      <td>33.7524</td>\n",
       "      <td>-117.994</td>\n",
       "      <td>ca</td>\n",
       "    </tr>\n",
       "    <tr>\n",
       "      <th>382063</th>\n",
       "      <td>orange county</td>\n",
       "      <td>0</td>\n",
       "      <td>apartment</td>\n",
       "      <td>446</td>\n",
       "      <td>0</td>\n",
       "      <td>1.0</td>\n",
       "      <td>0</td>\n",
       "      <td>1</td>\n",
       "      <td>laundry in bldg</td>\n",
       "      <td>carport</td>\n",
       "      <td>33.7691</td>\n",
       "      <td>-117.885</td>\n",
       "      <td>ca</td>\n",
       "    </tr>\n",
       "    <tr>\n",
       "      <th>382349</th>\n",
       "      <td>orange county</td>\n",
       "      <td>0</td>\n",
       "      <td>apartment</td>\n",
       "      <td>446</td>\n",
       "      <td>0</td>\n",
       "      <td>1.0</td>\n",
       "      <td>0</td>\n",
       "      <td>1</td>\n",
       "      <td>laundry in bldg</td>\n",
       "      <td>carport</td>\n",
       "      <td>33.7691</td>\n",
       "      <td>-117.885</td>\n",
       "      <td>ca</td>\n",
       "    </tr>\n",
       "    <tr>\n",
       "      <th>383137</th>\n",
       "      <td>palm springs</td>\n",
       "      <td>99</td>\n",
       "      <td>condo</td>\n",
       "      <td>800</td>\n",
       "      <td>2</td>\n",
       "      <td>1.0</td>\n",
       "      <td>0</td>\n",
       "      <td>0</td>\n",
       "      <td>laundry on site</td>\n",
       "      <td>off-street parking</td>\n",
       "      <td>33.6970</td>\n",
       "      <td>-116.217</td>\n",
       "      <td>ca</td>\n",
       "    </tr>\n",
       "  </tbody>\n",
       "</table>\n",
       "<p>2205 rows × 13 columns</p>\n",
       "</div>"
      ],
      "text/plain": [
       "               region  price       type  sqfeet  beds  baths  pets_allowed  \\\n",
       "2205       sacramento      0  apartment     500     1    1.0             0   \n",
       "3351       sacramento      0  apartment     500     1    1.0             0   \n",
       "3375       sacramento      0  apartment     500     1    1.0             0   \n",
       "3474       sacramento      0  apartment     500     1    1.0             0   \n",
       "3486       sacramento      0  apartment     500     1    1.0             0   \n",
       "...               ...    ...        ...     ...   ...    ...           ...   \n",
       "381925  orange county      0  apartment     446     0    1.0             0   \n",
       "382005  orange county      0  apartment     750     1    1.0             1   \n",
       "382063  orange county      0  apartment     446     0    1.0             0   \n",
       "382349  orange county      0  apartment     446     0    1.0             0   \n",
       "383137   palm springs     99      condo     800     2    1.0             0   \n",
       "\n",
       "        smoking_allowed  laundry_options     parking_options      lat  \\\n",
       "2205                  1      w/d in unit  off-street parking  38.4718   \n",
       "3351                  1      w/d in unit  off-street parking  38.4718   \n",
       "3375                  1      w/d in unit  off-street parking  38.4718   \n",
       "3474                  1      w/d in unit  off-street parking  38.4718   \n",
       "3486                  1      w/d in unit  off-street parking  38.4718   \n",
       "...                 ...              ...                 ...      ...   \n",
       "381925                1  laundry in bldg             carport  33.7691   \n",
       "382005                1  laundry on site             carport  33.7524   \n",
       "382063                1  laundry in bldg             carport  33.7691   \n",
       "382349                1  laundry in bldg             carport  33.7691   \n",
       "383137                0  laundry on site  off-street parking  33.6970   \n",
       "\n",
       "           long state  \n",
       "2205   -121.427    ca  \n",
       "3351   -121.427    ca  \n",
       "3375   -121.427    ca  \n",
       "3474   -121.427    ca  \n",
       "3486   -121.427    ca  \n",
       "...         ...   ...  \n",
       "381925 -117.885    ca  \n",
       "382005 -117.994    ca  \n",
       "382063 -117.885    ca  \n",
       "382349 -117.885    ca  \n",
       "383137 -116.217    ca  \n",
       "\n",
       "[2205 rows x 13 columns]"
      ]
     },
     "execution_count": 31,
     "metadata": {},
     "output_type": "execute_result"
    }
   ],
   "source": [
    "df2[df2.price<100] #2200 outliers"
   ]
  },
  {
   "cell_type": "code",
   "execution_count": 32,
   "metadata": {},
   "outputs": [
    {
     "data": {
      "text/html": [
       "<div>\n",
       "<style scoped>\n",
       "    .dataframe tbody tr th:only-of-type {\n",
       "        vertical-align: middle;\n",
       "    }\n",
       "\n",
       "    .dataframe tbody tr th {\n",
       "        vertical-align: top;\n",
       "    }\n",
       "\n",
       "    .dataframe thead th {\n",
       "        text-align: right;\n",
       "    }\n",
       "</style>\n",
       "<table border=\"1\" class=\"dataframe\">\n",
       "  <thead>\n",
       "    <tr style=\"text-align: right;\">\n",
       "      <th></th>\n",
       "      <th>region</th>\n",
       "      <th>price</th>\n",
       "      <th>type</th>\n",
       "      <th>sqfeet</th>\n",
       "      <th>beds</th>\n",
       "      <th>baths</th>\n",
       "      <th>pets_allowed</th>\n",
       "      <th>smoking_allowed</th>\n",
       "      <th>laundry_options</th>\n",
       "      <th>parking_options</th>\n",
       "      <th>lat</th>\n",
       "      <th>long</th>\n",
       "      <th>state</th>\n",
       "    </tr>\n",
       "  </thead>\n",
       "  <tbody>\n",
       "  </tbody>\n",
       "</table>\n",
       "</div>"
      ],
      "text/plain": [
       "Empty DataFrame\n",
       "Columns: [region, price, type, sqfeet, beds, baths, pets_allowed, smoking_allowed, laundry_options, parking_options, lat, long, state]\n",
       "Index: []"
      ]
     },
     "execution_count": 32,
     "metadata": {},
     "output_type": "execute_result"
    }
   ],
   "source": [
    "df2 = df2[df2.price>100]\n",
    "df2[df2.price<100]\n"
   ]
  },
  {
   "cell_type": "code",
   "execution_count": 33,
   "metadata": {
    "scrolled": true
   },
   "outputs": [
    {
     "data": {
      "text/html": [
       "<div>\n",
       "<style scoped>\n",
       "    .dataframe tbody tr th:only-of-type {\n",
       "        vertical-align: middle;\n",
       "    }\n",
       "\n",
       "    .dataframe tbody tr th {\n",
       "        vertical-align: top;\n",
       "    }\n",
       "\n",
       "    .dataframe thead th {\n",
       "        text-align: right;\n",
       "    }\n",
       "</style>\n",
       "<table border=\"1\" class=\"dataframe\">\n",
       "  <thead>\n",
       "    <tr style=\"text-align: right;\">\n",
       "      <th></th>\n",
       "      <th>region</th>\n",
       "      <th>price</th>\n",
       "      <th>type</th>\n",
       "      <th>sqfeet</th>\n",
       "      <th>beds</th>\n",
       "      <th>baths</th>\n",
       "      <th>pets_allowed</th>\n",
       "      <th>smoking_allowed</th>\n",
       "      <th>laundry_options</th>\n",
       "      <th>parking_options</th>\n",
       "      <th>lat</th>\n",
       "      <th>long</th>\n",
       "      <th>state</th>\n",
       "    </tr>\n",
       "  </thead>\n",
       "  <tbody>\n",
       "    <tr>\n",
       "      <th>4</th>\n",
       "      <td>reno / tahoe</td>\n",
       "      <td>289</td>\n",
       "      <td>apartment</td>\n",
       "      <td>250</td>\n",
       "      <td>0</td>\n",
       "      <td>1.0</td>\n",
       "      <td>1</td>\n",
       "      <td>1</td>\n",
       "      <td>laundry on site</td>\n",
       "      <td>off-street parking</td>\n",
       "      <td>39.5357</td>\n",
       "      <td>-119.805</td>\n",
       "      <td>ca</td>\n",
       "    </tr>\n",
       "    <tr>\n",
       "      <th>72</th>\n",
       "      <td>reno / tahoe</td>\n",
       "      <td>289</td>\n",
       "      <td>apartment</td>\n",
       "      <td>250</td>\n",
       "      <td>0</td>\n",
       "      <td>1.0</td>\n",
       "      <td>1</td>\n",
       "      <td>1</td>\n",
       "      <td>w/d in unit</td>\n",
       "      <td>off-street parking</td>\n",
       "      <td>39.5357</td>\n",
       "      <td>-119.805</td>\n",
       "      <td>ca</td>\n",
       "    </tr>\n",
       "    <tr>\n",
       "      <th>120</th>\n",
       "      <td>reno / tahoe</td>\n",
       "      <td>274</td>\n",
       "      <td>apartment</td>\n",
       "      <td>220</td>\n",
       "      <td>0</td>\n",
       "      <td>1.0</td>\n",
       "      <td>0</td>\n",
       "      <td>0</td>\n",
       "      <td>laundry on site</td>\n",
       "      <td>no parking</td>\n",
       "      <td>39.5268</td>\n",
       "      <td>-119.811</td>\n",
       "      <td>ca</td>\n",
       "    </tr>\n",
       "    <tr>\n",
       "      <th>144</th>\n",
       "      <td>reno / tahoe</td>\n",
       "      <td>289</td>\n",
       "      <td>apartment</td>\n",
       "      <td>250</td>\n",
       "      <td>0</td>\n",
       "      <td>1.0</td>\n",
       "      <td>1</td>\n",
       "      <td>1</td>\n",
       "      <td>laundry on site</td>\n",
       "      <td>off-street parking</td>\n",
       "      <td>39.5357</td>\n",
       "      <td>-119.805</td>\n",
       "      <td>ca</td>\n",
       "    </tr>\n",
       "    <tr>\n",
       "      <th>178</th>\n",
       "      <td>reno / tahoe</td>\n",
       "      <td>274</td>\n",
       "      <td>apartment</td>\n",
       "      <td>220</td>\n",
       "      <td>0</td>\n",
       "      <td>1.0</td>\n",
       "      <td>0</td>\n",
       "      <td>0</td>\n",
       "      <td>laundry on site</td>\n",
       "      <td>no parking</td>\n",
       "      <td>39.5263</td>\n",
       "      <td>-119.813</td>\n",
       "      <td>ca</td>\n",
       "    </tr>\n",
       "    <tr>\n",
       "      <th>...</th>\n",
       "      <td>...</td>\n",
       "      <td>...</td>\n",
       "      <td>...</td>\n",
       "      <td>...</td>\n",
       "      <td>...</td>\n",
       "      <td>...</td>\n",
       "      <td>...</td>\n",
       "      <td>...</td>\n",
       "      <td>...</td>\n",
       "      <td>...</td>\n",
       "      <td>...</td>\n",
       "      <td>...</td>\n",
       "      <td>...</td>\n",
       "    </tr>\n",
       "    <tr>\n",
       "      <th>384942</th>\n",
       "      <td>reno / tahoe</td>\n",
       "      <td>289</td>\n",
       "      <td>apartment</td>\n",
       "      <td>250</td>\n",
       "      <td>0</td>\n",
       "      <td>1.0</td>\n",
       "      <td>1</td>\n",
       "      <td>1</td>\n",
       "      <td>laundry on site</td>\n",
       "      <td>off-street parking</td>\n",
       "      <td>39.5483</td>\n",
       "      <td>-119.796</td>\n",
       "      <td>ca</td>\n",
       "    </tr>\n",
       "    <tr>\n",
       "      <th>384943</th>\n",
       "      <td>reno / tahoe</td>\n",
       "      <td>289</td>\n",
       "      <td>apartment</td>\n",
       "      <td>250</td>\n",
       "      <td>0</td>\n",
       "      <td>1.0</td>\n",
       "      <td>1</td>\n",
       "      <td>1</td>\n",
       "      <td>laundry on site</td>\n",
       "      <td>off-street parking</td>\n",
       "      <td>39.5357</td>\n",
       "      <td>-119.805</td>\n",
       "      <td>ca</td>\n",
       "    </tr>\n",
       "    <tr>\n",
       "      <th>384946</th>\n",
       "      <td>reno / tahoe</td>\n",
       "      <td>289</td>\n",
       "      <td>apartment</td>\n",
       "      <td>250</td>\n",
       "      <td>0</td>\n",
       "      <td>1.0</td>\n",
       "      <td>1</td>\n",
       "      <td>1</td>\n",
       "      <td>laundry on site</td>\n",
       "      <td>off-street parking</td>\n",
       "      <td>39.5357</td>\n",
       "      <td>-119.805</td>\n",
       "      <td>ca</td>\n",
       "    </tr>\n",
       "    <tr>\n",
       "      <th>384954</th>\n",
       "      <td>reno / tahoe</td>\n",
       "      <td>289</td>\n",
       "      <td>apartment</td>\n",
       "      <td>250</td>\n",
       "      <td>0</td>\n",
       "      <td>1.0</td>\n",
       "      <td>1</td>\n",
       "      <td>1</td>\n",
       "      <td>laundry on site</td>\n",
       "      <td>off-street parking</td>\n",
       "      <td>39.5357</td>\n",
       "      <td>-119.805</td>\n",
       "      <td>ca</td>\n",
       "    </tr>\n",
       "    <tr>\n",
       "      <th>384959</th>\n",
       "      <td>reno / tahoe</td>\n",
       "      <td>289</td>\n",
       "      <td>apartment</td>\n",
       "      <td>250</td>\n",
       "      <td>1</td>\n",
       "      <td>0.0</td>\n",
       "      <td>1</td>\n",
       "      <td>1</td>\n",
       "      <td>laundry on site</td>\n",
       "      <td>off-street parking</td>\n",
       "      <td>39.5357</td>\n",
       "      <td>-119.805</td>\n",
       "      <td>ca</td>\n",
       "    </tr>\n",
       "  </tbody>\n",
       "</table>\n",
       "<p>1165 rows × 13 columns</p>\n",
       "</div>"
      ],
      "text/plain": [
       "              region  price       type  sqfeet  beds  baths  pets_allowed  \\\n",
       "4       reno / tahoe    289  apartment     250     0    1.0             1   \n",
       "72      reno / tahoe    289  apartment     250     0    1.0             1   \n",
       "120     reno / tahoe    274  apartment     220     0    1.0             0   \n",
       "144     reno / tahoe    289  apartment     250     0    1.0             1   \n",
       "178     reno / tahoe    274  apartment     220     0    1.0             0   \n",
       "...              ...    ...        ...     ...   ...    ...           ...   \n",
       "384942  reno / tahoe    289  apartment     250     0    1.0             1   \n",
       "384943  reno / tahoe    289  apartment     250     0    1.0             1   \n",
       "384946  reno / tahoe    289  apartment     250     0    1.0             1   \n",
       "384954  reno / tahoe    289  apartment     250     0    1.0             1   \n",
       "384959  reno / tahoe    289  apartment     250     1    0.0             1   \n",
       "\n",
       "        smoking_allowed  laundry_options     parking_options      lat  \\\n",
       "4                     1  laundry on site  off-street parking  39.5357   \n",
       "72                    1      w/d in unit  off-street parking  39.5357   \n",
       "120                   0  laundry on site          no parking  39.5268   \n",
       "144                   1  laundry on site  off-street parking  39.5357   \n",
       "178                   0  laundry on site          no parking  39.5263   \n",
       "...                 ...              ...                 ...      ...   \n",
       "384942                1  laundry on site  off-street parking  39.5483   \n",
       "384943                1  laundry on site  off-street parking  39.5357   \n",
       "384946                1  laundry on site  off-street parking  39.5357   \n",
       "384954                1  laundry on site  off-street parking  39.5357   \n",
       "384959                1  laundry on site  off-street parking  39.5357   \n",
       "\n",
       "           long state  \n",
       "4      -119.805    ca  \n",
       "72     -119.805    ca  \n",
       "120    -119.811    ca  \n",
       "144    -119.805    ca  \n",
       "178    -119.813    ca  \n",
       "...         ...   ...  \n",
       "384942 -119.796    ca  \n",
       "384943 -119.805    ca  \n",
       "384946 -119.805    ca  \n",
       "384954 -119.805    ca  \n",
       "384959 -119.805    ca  \n",
       "\n",
       "[1165 rows x 13 columns]"
      ]
     },
     "execution_count": 33,
     "metadata": {},
     "output_type": "execute_result"
    }
   ],
   "source": [
    "df2[df2.price<300] #potential to remove later depending on model "
   ]
  },
  {
   "cell_type": "code",
   "execution_count": 34,
   "metadata": {},
   "outputs": [
    {
     "data": {
      "text/plain": [
       "(380525, 13)"
      ]
     },
     "execution_count": 34,
     "metadata": {},
     "output_type": "execute_result"
    }
   ],
   "source": [
    "df2.shape"
   ]
  },
  {
   "cell_type": "code",
   "execution_count": 35,
   "metadata": {},
   "outputs": [],
   "source": [
    "df3 = df2.copy()"
   ]
  },
  {
   "cell_type": "markdown",
   "metadata": {},
   "source": [
    "### IRC Code states that minimum sqfootage has to be minimum of 120sqfeet "
   ]
  },
  {
   "cell_type": "code",
   "execution_count": 36,
   "metadata": {
    "scrolled": true
   },
   "outputs": [
    {
     "data": {
      "text/html": [
       "<div>\n",
       "<style scoped>\n",
       "    .dataframe tbody tr th:only-of-type {\n",
       "        vertical-align: middle;\n",
       "    }\n",
       "\n",
       "    .dataframe tbody tr th {\n",
       "        vertical-align: top;\n",
       "    }\n",
       "\n",
       "    .dataframe thead th {\n",
       "        text-align: right;\n",
       "    }\n",
       "</style>\n",
       "<table border=\"1\" class=\"dataframe\">\n",
       "  <thead>\n",
       "    <tr style=\"text-align: right;\">\n",
       "      <th></th>\n",
       "      <th>region</th>\n",
       "      <th>price</th>\n",
       "      <th>type</th>\n",
       "      <th>sqfeet</th>\n",
       "      <th>beds</th>\n",
       "      <th>baths</th>\n",
       "      <th>pets_allowed</th>\n",
       "      <th>smoking_allowed</th>\n",
       "      <th>laundry_options</th>\n",
       "      <th>parking_options</th>\n",
       "      <th>lat</th>\n",
       "      <th>long</th>\n",
       "      <th>state</th>\n",
       "    </tr>\n",
       "  </thead>\n",
       "  <tbody>\n",
       "    <tr>\n",
       "      <th>546</th>\n",
       "      <td>reno / tahoe</td>\n",
       "      <td>817</td>\n",
       "      <td>apartment</td>\n",
       "      <td>70</td>\n",
       "      <td>1</td>\n",
       "      <td>1.0</td>\n",
       "      <td>1</td>\n",
       "      <td>1</td>\n",
       "      <td>laundry on site</td>\n",
       "      <td>off-street parking</td>\n",
       "      <td>39.5473</td>\n",
       "      <td>-119.756</td>\n",
       "      <td>ca</td>\n",
       "    </tr>\n",
       "    <tr>\n",
       "      <th>2134</th>\n",
       "      <td>sacramento</td>\n",
       "      <td>2025</td>\n",
       "      <td>apartment</td>\n",
       "      <td>13</td>\n",
       "      <td>3</td>\n",
       "      <td>2.0</td>\n",
       "      <td>1</td>\n",
       "      <td>0</td>\n",
       "      <td>w/d in unit</td>\n",
       "      <td>carport</td>\n",
       "      <td>38.4541</td>\n",
       "      <td>-121.412</td>\n",
       "      <td>ca</td>\n",
       "    </tr>\n",
       "    <tr>\n",
       "      <th>5571</th>\n",
       "      <td>san diego</td>\n",
       "      <td>1200</td>\n",
       "      <td>apartment</td>\n",
       "      <td>1</td>\n",
       "      <td>1</td>\n",
       "      <td>1.0</td>\n",
       "      <td>0</td>\n",
       "      <td>1</td>\n",
       "      <td>laundry on site</td>\n",
       "      <td>off-street parking</td>\n",
       "      <td>32.7560</td>\n",
       "      <td>-117.112</td>\n",
       "      <td>ca</td>\n",
       "    </tr>\n",
       "    <tr>\n",
       "      <th>5955</th>\n",
       "      <td>SF bay area</td>\n",
       "      <td>2650</td>\n",
       "      <td>apartment</td>\n",
       "      <td>100</td>\n",
       "      <td>3</td>\n",
       "      <td>1.5</td>\n",
       "      <td>0</td>\n",
       "      <td>0</td>\n",
       "      <td>w/d in unit</td>\n",
       "      <td>carport</td>\n",
       "      <td>37.5668</td>\n",
       "      <td>-121.972</td>\n",
       "      <td>ca</td>\n",
       "    </tr>\n",
       "    <tr>\n",
       "      <th>6090</th>\n",
       "      <td>san luis obispo</td>\n",
       "      <td>3400</td>\n",
       "      <td>apartment</td>\n",
       "      <td>65</td>\n",
       "      <td>3</td>\n",
       "      <td>2.5</td>\n",
       "      <td>1</td>\n",
       "      <td>0</td>\n",
       "      <td>w/d in unit</td>\n",
       "      <td>attached garage</td>\n",
       "      <td>35.4010</td>\n",
       "      <td>-120.864</td>\n",
       "      <td>ca</td>\n",
       "    </tr>\n",
       "    <tr>\n",
       "      <th>...</th>\n",
       "      <td>...</td>\n",
       "      <td>...</td>\n",
       "      <td>...</td>\n",
       "      <td>...</td>\n",
       "      <td>...</td>\n",
       "      <td>...</td>\n",
       "      <td>...</td>\n",
       "      <td>...</td>\n",
       "      <td>...</td>\n",
       "      <td>...</td>\n",
       "      <td>...</td>\n",
       "      <td>...</td>\n",
       "      <td>...</td>\n",
       "    </tr>\n",
       "    <tr>\n",
       "      <th>380339</th>\n",
       "      <td>orange county</td>\n",
       "      <td>2092</td>\n",
       "      <td>apartment</td>\n",
       "      <td>1</td>\n",
       "      <td>1</td>\n",
       "      <td>1.0</td>\n",
       "      <td>1</td>\n",
       "      <td>1</td>\n",
       "      <td>w/d in unit</td>\n",
       "      <td>detached garage</td>\n",
       "      <td>33.8701</td>\n",
       "      <td>-117.921</td>\n",
       "      <td>ca</td>\n",
       "    </tr>\n",
       "    <tr>\n",
       "      <th>381504</th>\n",
       "      <td>orange county</td>\n",
       "      <td>2445</td>\n",
       "      <td>apartment</td>\n",
       "      <td>2</td>\n",
       "      <td>2</td>\n",
       "      <td>2.0</td>\n",
       "      <td>1</td>\n",
       "      <td>1</td>\n",
       "      <td>w/d in unit</td>\n",
       "      <td>attached garage</td>\n",
       "      <td>33.8697</td>\n",
       "      <td>-117.831</td>\n",
       "      <td>ca</td>\n",
       "    </tr>\n",
       "    <tr>\n",
       "      <th>381765</th>\n",
       "      <td>orange county</td>\n",
       "      <td>900</td>\n",
       "      <td>house</td>\n",
       "      <td>72</td>\n",
       "      <td>1</td>\n",
       "      <td>1.0</td>\n",
       "      <td>0</td>\n",
       "      <td>1</td>\n",
       "      <td>no laundry on site</td>\n",
       "      <td>street parking</td>\n",
       "      <td>33.9331</td>\n",
       "      <td>-117.949</td>\n",
       "      <td>ca</td>\n",
       "    </tr>\n",
       "    <tr>\n",
       "      <th>382061</th>\n",
       "      <td>orange county</td>\n",
       "      <td>900</td>\n",
       "      <td>house</td>\n",
       "      <td>75</td>\n",
       "      <td>1</td>\n",
       "      <td>1.0</td>\n",
       "      <td>0</td>\n",
       "      <td>1</td>\n",
       "      <td>no laundry on site</td>\n",
       "      <td>street parking</td>\n",
       "      <td>33.9331</td>\n",
       "      <td>-117.949</td>\n",
       "      <td>ca</td>\n",
       "    </tr>\n",
       "    <tr>\n",
       "      <th>383424</th>\n",
       "      <td>palm springs</td>\n",
       "      <td>1480</td>\n",
       "      <td>apartment</td>\n",
       "      <td>105</td>\n",
       "      <td>2</td>\n",
       "      <td>2.0</td>\n",
       "      <td>1</td>\n",
       "      <td>1</td>\n",
       "      <td>laundry on site</td>\n",
       "      <td>carport</td>\n",
       "      <td>33.7089</td>\n",
       "      <td>-116.234</td>\n",
       "      <td>ca</td>\n",
       "    </tr>\n",
       "  </tbody>\n",
       "</table>\n",
       "<p>1004 rows × 13 columns</p>\n",
       "</div>"
      ],
      "text/plain": [
       "                 region  price       type  sqfeet  beds  baths  pets_allowed  \\\n",
       "546        reno / tahoe    817  apartment      70     1    1.0             1   \n",
       "2134         sacramento   2025  apartment      13     3    2.0             1   \n",
       "5571          san diego   1200  apartment       1     1    1.0             0   \n",
       "5955        SF bay area   2650  apartment     100     3    1.5             0   \n",
       "6090    san luis obispo   3400  apartment      65     3    2.5             1   \n",
       "...                 ...    ...        ...     ...   ...    ...           ...   \n",
       "380339    orange county   2092  apartment       1     1    1.0             1   \n",
       "381504    orange county   2445  apartment       2     2    2.0             1   \n",
       "381765    orange county    900      house      72     1    1.0             0   \n",
       "382061    orange county    900      house      75     1    1.0             0   \n",
       "383424     palm springs   1480  apartment     105     2    2.0             1   \n",
       "\n",
       "        smoking_allowed     laundry_options     parking_options      lat  \\\n",
       "546                   1     laundry on site  off-street parking  39.5473   \n",
       "2134                  0         w/d in unit             carport  38.4541   \n",
       "5571                  1     laundry on site  off-street parking  32.7560   \n",
       "5955                  0         w/d in unit             carport  37.5668   \n",
       "6090                  0         w/d in unit     attached garage  35.4010   \n",
       "...                 ...                 ...                 ...      ...   \n",
       "380339                1         w/d in unit     detached garage  33.8701   \n",
       "381504                1         w/d in unit     attached garage  33.8697   \n",
       "381765                1  no laundry on site      street parking  33.9331   \n",
       "382061                1  no laundry on site      street parking  33.9331   \n",
       "383424                1     laundry on site             carport  33.7089   \n",
       "\n",
       "           long state  \n",
       "546    -119.756    ca  \n",
       "2134   -121.412    ca  \n",
       "5571   -117.112    ca  \n",
       "5955   -121.972    ca  \n",
       "6090   -120.864    ca  \n",
       "...         ...   ...  \n",
       "380339 -117.921    ca  \n",
       "381504 -117.831    ca  \n",
       "381765 -117.949    ca  \n",
       "382061 -117.949    ca  \n",
       "383424 -116.234    ca  \n",
       "\n",
       "[1004 rows x 13 columns]"
      ]
     },
     "execution_count": 36,
     "metadata": {},
     "output_type": "execute_result"
    }
   ],
   "source": [
    "df3[df3.sqfeet<120]"
   ]
  },
  {
   "cell_type": "code",
   "execution_count": 37,
   "metadata": {},
   "outputs": [
    {
     "data": {
      "text/html": [
       "<div>\n",
       "<style scoped>\n",
       "    .dataframe tbody tr th:only-of-type {\n",
       "        vertical-align: middle;\n",
       "    }\n",
       "\n",
       "    .dataframe tbody tr th {\n",
       "        vertical-align: top;\n",
       "    }\n",
       "\n",
       "    .dataframe thead th {\n",
       "        text-align: right;\n",
       "    }\n",
       "</style>\n",
       "<table border=\"1\" class=\"dataframe\">\n",
       "  <thead>\n",
       "    <tr style=\"text-align: right;\">\n",
       "      <th></th>\n",
       "      <th>region</th>\n",
       "      <th>price</th>\n",
       "      <th>type</th>\n",
       "      <th>sqfeet</th>\n",
       "      <th>beds</th>\n",
       "      <th>baths</th>\n",
       "      <th>pets_allowed</th>\n",
       "      <th>smoking_allowed</th>\n",
       "      <th>laundry_options</th>\n",
       "      <th>parking_options</th>\n",
       "      <th>lat</th>\n",
       "      <th>long</th>\n",
       "      <th>state</th>\n",
       "    </tr>\n",
       "  </thead>\n",
       "  <tbody>\n",
       "  </tbody>\n",
       "</table>\n",
       "</div>"
      ],
      "text/plain": [
       "Empty DataFrame\n",
       "Columns: [region, price, type, sqfeet, beds, baths, pets_allowed, smoking_allowed, laundry_options, parking_options, lat, long, state]\n",
       "Index: []"
      ]
     },
     "execution_count": 37,
     "metadata": {},
     "output_type": "execute_result"
    }
   ],
   "source": [
    "df3 = df3[df3.sqfeet>120]\n",
    "df3[df3.sqfeet<120]"
   ]
  },
  {
   "cell_type": "code",
   "execution_count": 38,
   "metadata": {
    "scrolled": false
   },
   "outputs": [
    {
     "data": {
      "text/html": [
       "<div>\n",
       "<style scoped>\n",
       "    .dataframe tbody tr th:only-of-type {\n",
       "        vertical-align: middle;\n",
       "    }\n",
       "\n",
       "    .dataframe tbody tr th {\n",
       "        vertical-align: top;\n",
       "    }\n",
       "\n",
       "    .dataframe thead th {\n",
       "        text-align: right;\n",
       "    }\n",
       "</style>\n",
       "<table border=\"1\" class=\"dataframe\">\n",
       "  <thead>\n",
       "    <tr style=\"text-align: right;\">\n",
       "      <th></th>\n",
       "      <th>region</th>\n",
       "      <th>price</th>\n",
       "      <th>type</th>\n",
       "      <th>sqfeet</th>\n",
       "      <th>beds</th>\n",
       "      <th>baths</th>\n",
       "      <th>pets_allowed</th>\n",
       "      <th>smoking_allowed</th>\n",
       "      <th>laundry_options</th>\n",
       "      <th>parking_options</th>\n",
       "      <th>lat</th>\n",
       "      <th>long</th>\n",
       "      <th>state</th>\n",
       "    </tr>\n",
       "  </thead>\n",
       "  <tbody>\n",
       "    <tr>\n",
       "      <th>625</th>\n",
       "      <td>reno / tahoe</td>\n",
       "      <td>1995</td>\n",
       "      <td>house</td>\n",
       "      <td>17951</td>\n",
       "      <td>3</td>\n",
       "      <td>2.0</td>\n",
       "      <td>0</td>\n",
       "      <td>1</td>\n",
       "      <td>w/d hookups</td>\n",
       "      <td>attached garage</td>\n",
       "      <td>38.9166</td>\n",
       "      <td>-119.727</td>\n",
       "      <td>ca</td>\n",
       "    </tr>\n",
       "    <tr>\n",
       "      <th>929</th>\n",
       "      <td>reno / tahoe</td>\n",
       "      <td>1950</td>\n",
       "      <td>house</td>\n",
       "      <td>5081</td>\n",
       "      <td>3</td>\n",
       "      <td>2.5</td>\n",
       "      <td>1</td>\n",
       "      <td>0</td>\n",
       "      <td>w/d hookups</td>\n",
       "      <td>attached garage</td>\n",
       "      <td>39.5461</td>\n",
       "      <td>-119.724</td>\n",
       "      <td>ca</td>\n",
       "    </tr>\n",
       "    <tr>\n",
       "      <th>3481</th>\n",
       "      <td>sacramento</td>\n",
       "      <td>5500</td>\n",
       "      <td>house</td>\n",
       "      <td>5282</td>\n",
       "      <td>6</td>\n",
       "      <td>5.0</td>\n",
       "      <td>0</td>\n",
       "      <td>1</td>\n",
       "      <td>w/d hookups</td>\n",
       "      <td>off-street parking</td>\n",
       "      <td>38.4490</td>\n",
       "      <td>-121.194</td>\n",
       "      <td>ca</td>\n",
       "    </tr>\n",
       "    <tr>\n",
       "      <th>5517</th>\n",
       "      <td>san diego</td>\n",
       "      <td>2100</td>\n",
       "      <td>apartment</td>\n",
       "      <td>92037</td>\n",
       "      <td>1</td>\n",
       "      <td>1.0</td>\n",
       "      <td>1</td>\n",
       "      <td>1</td>\n",
       "      <td>w/d in unit</td>\n",
       "      <td>off-street parking</td>\n",
       "      <td>32.8455</td>\n",
       "      <td>-117.252</td>\n",
       "      <td>ca</td>\n",
       "    </tr>\n",
       "    <tr>\n",
       "      <th>6047</th>\n",
       "      <td>san luis obispo</td>\n",
       "      <td>6000</td>\n",
       "      <td>house</td>\n",
       "      <td>5100</td>\n",
       "      <td>5</td>\n",
       "      <td>4.0</td>\n",
       "      <td>0</td>\n",
       "      <td>0</td>\n",
       "      <td>w/d hookups</td>\n",
       "      <td>attached garage</td>\n",
       "      <td>35.0858</td>\n",
       "      <td>-120.505</td>\n",
       "      <td>ca</td>\n",
       "    </tr>\n",
       "    <tr>\n",
       "      <th>...</th>\n",
       "      <td>...</td>\n",
       "      <td>...</td>\n",
       "      <td>...</td>\n",
       "      <td>...</td>\n",
       "      <td>...</td>\n",
       "      <td>...</td>\n",
       "      <td>...</td>\n",
       "      <td>...</td>\n",
       "      <td>...</td>\n",
       "      <td>...</td>\n",
       "      <td>...</td>\n",
       "      <td>...</td>\n",
       "      <td>...</td>\n",
       "    </tr>\n",
       "    <tr>\n",
       "      <th>380218</th>\n",
       "      <td>monterey bay</td>\n",
       "      <td>3000</td>\n",
       "      <td>house</td>\n",
       "      <td>14000</td>\n",
       "      <td>3</td>\n",
       "      <td>2.0</td>\n",
       "      <td>0</td>\n",
       "      <td>1</td>\n",
       "      <td>w/d hookups</td>\n",
       "      <td>attached garage</td>\n",
       "      <td>36.9102</td>\n",
       "      <td>-121.757</td>\n",
       "      <td>ca</td>\n",
       "    </tr>\n",
       "    <tr>\n",
       "      <th>381763</th>\n",
       "      <td>orange county</td>\n",
       "      <td>9910</td>\n",
       "      <td>house</td>\n",
       "      <td>6190</td>\n",
       "      <td>6</td>\n",
       "      <td>5.0</td>\n",
       "      <td>0</td>\n",
       "      <td>1</td>\n",
       "      <td>w/d in unit</td>\n",
       "      <td>off-street parking</td>\n",
       "      <td>33.4615</td>\n",
       "      <td>-117.637</td>\n",
       "      <td>ca</td>\n",
       "    </tr>\n",
       "    <tr>\n",
       "      <th>381852</th>\n",
       "      <td>orange county</td>\n",
       "      <td>5510</td>\n",
       "      <td>house</td>\n",
       "      <td>5201</td>\n",
       "      <td>5</td>\n",
       "      <td>3.0</td>\n",
       "      <td>0</td>\n",
       "      <td>1</td>\n",
       "      <td>w/d in unit</td>\n",
       "      <td>off-street parking</td>\n",
       "      <td>33.9058</td>\n",
       "      <td>-117.786</td>\n",
       "      <td>ca</td>\n",
       "    </tr>\n",
       "    <tr>\n",
       "      <th>382276</th>\n",
       "      <td>orange county</td>\n",
       "      <td>6025</td>\n",
       "      <td>house</td>\n",
       "      <td>5452</td>\n",
       "      <td>4</td>\n",
       "      <td>4.0</td>\n",
       "      <td>1</td>\n",
       "      <td>1</td>\n",
       "      <td>w/d in unit</td>\n",
       "      <td>off-street parking</td>\n",
       "      <td>33.8841</td>\n",
       "      <td>-117.730</td>\n",
       "      <td>ca</td>\n",
       "    </tr>\n",
       "    <tr>\n",
       "      <th>383234</th>\n",
       "      <td>palm springs</td>\n",
       "      <td>6010</td>\n",
       "      <td>house</td>\n",
       "      <td>5251</td>\n",
       "      <td>4</td>\n",
       "      <td>4.0</td>\n",
       "      <td>0</td>\n",
       "      <td>1</td>\n",
       "      <td>w/d in unit</td>\n",
       "      <td>off-street parking</td>\n",
       "      <td>33.7225</td>\n",
       "      <td>-116.377</td>\n",
       "      <td>ca</td>\n",
       "    </tr>\n",
       "  </tbody>\n",
       "</table>\n",
       "<p>217 rows × 13 columns</p>\n",
       "</div>"
      ],
      "text/plain": [
       "                 region  price       type  sqfeet  beds  baths  pets_allowed  \\\n",
       "625        reno / tahoe   1995      house   17951     3    2.0             0   \n",
       "929        reno / tahoe   1950      house    5081     3    2.5             1   \n",
       "3481         sacramento   5500      house    5282     6    5.0             0   \n",
       "5517          san diego   2100  apartment   92037     1    1.0             1   \n",
       "6047    san luis obispo   6000      house    5100     5    4.0             0   \n",
       "...                 ...    ...        ...     ...   ...    ...           ...   \n",
       "380218     monterey bay   3000      house   14000     3    2.0             0   \n",
       "381763    orange county   9910      house    6190     6    5.0             0   \n",
       "381852    orange county   5510      house    5201     5    3.0             0   \n",
       "382276    orange county   6025      house    5452     4    4.0             1   \n",
       "383234     palm springs   6010      house    5251     4    4.0             0   \n",
       "\n",
       "        smoking_allowed laundry_options     parking_options      lat     long  \\\n",
       "625                   1     w/d hookups     attached garage  38.9166 -119.727   \n",
       "929                   0     w/d hookups     attached garage  39.5461 -119.724   \n",
       "3481                  1     w/d hookups  off-street parking  38.4490 -121.194   \n",
       "5517                  1     w/d in unit  off-street parking  32.8455 -117.252   \n",
       "6047                  0     w/d hookups     attached garage  35.0858 -120.505   \n",
       "...                 ...             ...                 ...      ...      ...   \n",
       "380218                1     w/d hookups     attached garage  36.9102 -121.757   \n",
       "381763                1     w/d in unit  off-street parking  33.4615 -117.637   \n",
       "381852                1     w/d in unit  off-street parking  33.9058 -117.786   \n",
       "382276                1     w/d in unit  off-street parking  33.8841 -117.730   \n",
       "383234                1     w/d in unit  off-street parking  33.7225 -116.377   \n",
       "\n",
       "       state  \n",
       "625       ca  \n",
       "929       ca  \n",
       "3481      ca  \n",
       "5517      ca  \n",
       "6047      ca  \n",
       "...      ...  \n",
       "380218    ca  \n",
       "381763    ca  \n",
       "381852    ca  \n",
       "382276    ca  \n",
       "383234    ca  \n",
       "\n",
       "[217 rows x 13 columns]"
      ]
     },
     "execution_count": 38,
     "metadata": {},
     "output_type": "execute_result"
    }
   ],
   "source": [
    "df3[df3.sqfeet>5000]\n",
    "# remove some outliers here, set the max to just 5000 "
   ]
  },
  {
   "cell_type": "code",
   "execution_count": 39,
   "metadata": {},
   "outputs": [
    {
     "data": {
      "text/html": [
       "<div>\n",
       "<style scoped>\n",
       "    .dataframe tbody tr th:only-of-type {\n",
       "        vertical-align: middle;\n",
       "    }\n",
       "\n",
       "    .dataframe tbody tr th {\n",
       "        vertical-align: top;\n",
       "    }\n",
       "\n",
       "    .dataframe thead th {\n",
       "        text-align: right;\n",
       "    }\n",
       "</style>\n",
       "<table border=\"1\" class=\"dataframe\">\n",
       "  <thead>\n",
       "    <tr style=\"text-align: right;\">\n",
       "      <th></th>\n",
       "      <th>region</th>\n",
       "      <th>price</th>\n",
       "      <th>type</th>\n",
       "      <th>sqfeet</th>\n",
       "      <th>beds</th>\n",
       "      <th>baths</th>\n",
       "      <th>pets_allowed</th>\n",
       "      <th>smoking_allowed</th>\n",
       "      <th>laundry_options</th>\n",
       "      <th>parking_options</th>\n",
       "      <th>lat</th>\n",
       "      <th>long</th>\n",
       "      <th>state</th>\n",
       "    </tr>\n",
       "  </thead>\n",
       "  <tbody>\n",
       "  </tbody>\n",
       "</table>\n",
       "</div>"
      ],
      "text/plain": [
       "Empty DataFrame\n",
       "Columns: [region, price, type, sqfeet, beds, baths, pets_allowed, smoking_allowed, laundry_options, parking_options, lat, long, state]\n",
       "Index: []"
      ]
     },
     "execution_count": 39,
     "metadata": {},
     "output_type": "execute_result"
    }
   ],
   "source": [
    "df3 = df3[df3.sqfeet<5000]\n",
    "df3[df3.sqfeet>5000]\n"
   ]
  },
  {
   "cell_type": "code",
   "execution_count": 40,
   "metadata": {},
   "outputs": [],
   "source": [
    "## Beds"
   ]
  },
  {
   "cell_type": "code",
   "execution_count": 41,
   "metadata": {},
   "outputs": [
    {
     "data": {
      "text/plain": [
       "array([3, 2, 1, 0, 4, 5, 7, 6, 8], dtype=int64)"
      ]
     },
     "execution_count": 41,
     "metadata": {},
     "output_type": "execute_result"
    }
   ],
   "source": [
    "df3.beds.unique()"
   ]
  },
  {
   "cell_type": "code",
   "execution_count": 42,
   "metadata": {
    "scrolled": true
   },
   "outputs": [
    {
     "data": {
      "text/html": [
       "<div>\n",
       "<style scoped>\n",
       "    .dataframe tbody tr th:only-of-type {\n",
       "        vertical-align: middle;\n",
       "    }\n",
       "\n",
       "    .dataframe tbody tr th {\n",
       "        vertical-align: top;\n",
       "    }\n",
       "\n",
       "    .dataframe thead th {\n",
       "        text-align: right;\n",
       "    }\n",
       "</style>\n",
       "<table border=\"1\" class=\"dataframe\">\n",
       "  <thead>\n",
       "    <tr style=\"text-align: right;\">\n",
       "      <th></th>\n",
       "      <th>region</th>\n",
       "      <th>price</th>\n",
       "      <th>type</th>\n",
       "      <th>sqfeet</th>\n",
       "      <th>beds</th>\n",
       "      <th>baths</th>\n",
       "      <th>pets_allowed</th>\n",
       "      <th>smoking_allowed</th>\n",
       "      <th>laundry_options</th>\n",
       "      <th>parking_options</th>\n",
       "      <th>lat</th>\n",
       "      <th>long</th>\n",
       "      <th>state</th>\n",
       "    </tr>\n",
       "  </thead>\n",
       "  <tbody>\n",
       "    <tr>\n",
       "      <th>107</th>\n",
       "      <td>reno / tahoe</td>\n",
       "      <td>1125</td>\n",
       "      <td>apartment</td>\n",
       "      <td>1939</td>\n",
       "      <td>5</td>\n",
       "      <td>2.5</td>\n",
       "      <td>0</td>\n",
       "      <td>1</td>\n",
       "      <td>w/d in unit</td>\n",
       "      <td>off-street parking</td>\n",
       "      <td>39.0786</td>\n",
       "      <td>-120.173</td>\n",
       "      <td>ca</td>\n",
       "    </tr>\n",
       "    <tr>\n",
       "      <th>930</th>\n",
       "      <td>reno / tahoe</td>\n",
       "      <td>2495</td>\n",
       "      <td>house</td>\n",
       "      <td>3300</td>\n",
       "      <td>5</td>\n",
       "      <td>3.0</td>\n",
       "      <td>1</td>\n",
       "      <td>0</td>\n",
       "      <td>w/d hookups</td>\n",
       "      <td>attached garage</td>\n",
       "      <td>39.6077</td>\n",
       "      <td>-119.813</td>\n",
       "      <td>ca</td>\n",
       "    </tr>\n",
       "    <tr>\n",
       "      <th>1407</th>\n",
       "      <td>sacramento</td>\n",
       "      <td>2900</td>\n",
       "      <td>house</td>\n",
       "      <td>2900</td>\n",
       "      <td>7</td>\n",
       "      <td>3.0</td>\n",
       "      <td>0</td>\n",
       "      <td>1</td>\n",
       "      <td>w/d in unit</td>\n",
       "      <td>attached garage</td>\n",
       "      <td>38.4243</td>\n",
       "      <td>-121.437</td>\n",
       "      <td>ca</td>\n",
       "    </tr>\n",
       "    <tr>\n",
       "      <th>1789</th>\n",
       "      <td>sacramento</td>\n",
       "      <td>2250</td>\n",
       "      <td>house</td>\n",
       "      <td>2030</td>\n",
       "      <td>5</td>\n",
       "      <td>3.0</td>\n",
       "      <td>0</td>\n",
       "      <td>1</td>\n",
       "      <td>laundry on site</td>\n",
       "      <td>attached garage</td>\n",
       "      <td>38.6626</td>\n",
       "      <td>-121.483</td>\n",
       "      <td>ca</td>\n",
       "    </tr>\n",
       "    <tr>\n",
       "      <th>1923</th>\n",
       "      <td>sacramento</td>\n",
       "      <td>900</td>\n",
       "      <td>house</td>\n",
       "      <td>2340</td>\n",
       "      <td>6</td>\n",
       "      <td>2.5</td>\n",
       "      <td>0</td>\n",
       "      <td>0</td>\n",
       "      <td>w/d in unit</td>\n",
       "      <td>off-street parking</td>\n",
       "      <td>38.6383</td>\n",
       "      <td>-121.507</td>\n",
       "      <td>ca</td>\n",
       "    </tr>\n",
       "    <tr>\n",
       "      <th>...</th>\n",
       "      <td>...</td>\n",
       "      <td>...</td>\n",
       "      <td>...</td>\n",
       "      <td>...</td>\n",
       "      <td>...</td>\n",
       "      <td>...</td>\n",
       "      <td>...</td>\n",
       "      <td>...</td>\n",
       "      <td>...</td>\n",
       "      <td>...</td>\n",
       "      <td>...</td>\n",
       "      <td>...</td>\n",
       "      <td>...</td>\n",
       "    </tr>\n",
       "    <tr>\n",
       "      <th>383696</th>\n",
       "      <td>palm springs</td>\n",
       "      <td>6000</td>\n",
       "      <td>house</td>\n",
       "      <td>3000</td>\n",
       "      <td>6</td>\n",
       "      <td>5.0</td>\n",
       "      <td>0</td>\n",
       "      <td>0</td>\n",
       "      <td>w/d hookups</td>\n",
       "      <td>attached garage</td>\n",
       "      <td>33.7225</td>\n",
       "      <td>-116.377</td>\n",
       "      <td>ca</td>\n",
       "    </tr>\n",
       "    <tr>\n",
       "      <th>383747</th>\n",
       "      <td>palm springs</td>\n",
       "      <td>1000</td>\n",
       "      <td>apartment</td>\n",
       "      <td>1836</td>\n",
       "      <td>5</td>\n",
       "      <td>1.5</td>\n",
       "      <td>1</td>\n",
       "      <td>1</td>\n",
       "      <td>w/d in unit</td>\n",
       "      <td>off-street parking</td>\n",
       "      <td>33.7997</td>\n",
       "      <td>-116.986</td>\n",
       "      <td>ca</td>\n",
       "    </tr>\n",
       "    <tr>\n",
       "      <th>383769</th>\n",
       "      <td>palm springs</td>\n",
       "      <td>2195</td>\n",
       "      <td>house</td>\n",
       "      <td>2300</td>\n",
       "      <td>5</td>\n",
       "      <td>2.0</td>\n",
       "      <td>1</td>\n",
       "      <td>1</td>\n",
       "      <td>w/d hookups</td>\n",
       "      <td>attached garage</td>\n",
       "      <td>33.9460</td>\n",
       "      <td>-116.507</td>\n",
       "      <td>ca</td>\n",
       "    </tr>\n",
       "    <tr>\n",
       "      <th>383916</th>\n",
       "      <td>palm springs</td>\n",
       "      <td>3210</td>\n",
       "      <td>house</td>\n",
       "      <td>2426</td>\n",
       "      <td>5</td>\n",
       "      <td>3.0</td>\n",
       "      <td>1</td>\n",
       "      <td>1</td>\n",
       "      <td>w/d in unit</td>\n",
       "      <td>off-street parking</td>\n",
       "      <td>33.6685</td>\n",
       "      <td>-116.308</td>\n",
       "      <td>ca</td>\n",
       "    </tr>\n",
       "    <tr>\n",
       "      <th>384232</th>\n",
       "      <td>redding</td>\n",
       "      <td>2300</td>\n",
       "      <td>house</td>\n",
       "      <td>2100</td>\n",
       "      <td>5</td>\n",
       "      <td>2.0</td>\n",
       "      <td>0</td>\n",
       "      <td>0</td>\n",
       "      <td>w/d in unit</td>\n",
       "      <td>attached garage</td>\n",
       "      <td>40.5873</td>\n",
       "      <td>-122.306</td>\n",
       "      <td>ca</td>\n",
       "    </tr>\n",
       "  </tbody>\n",
       "</table>\n",
       "<p>2455 rows × 13 columns</p>\n",
       "</div>"
      ],
      "text/plain": [
       "              region  price       type  sqfeet  beds  baths  pets_allowed  \\\n",
       "107     reno / tahoe   1125  apartment    1939     5    2.5             0   \n",
       "930     reno / tahoe   2495      house    3300     5    3.0             1   \n",
       "1407      sacramento   2900      house    2900     7    3.0             0   \n",
       "1789      sacramento   2250      house    2030     5    3.0             0   \n",
       "1923      sacramento    900      house    2340     6    2.5             0   \n",
       "...              ...    ...        ...     ...   ...    ...           ...   \n",
       "383696  palm springs   6000      house    3000     6    5.0             0   \n",
       "383747  palm springs   1000  apartment    1836     5    1.5             1   \n",
       "383769  palm springs   2195      house    2300     5    2.0             1   \n",
       "383916  palm springs   3210      house    2426     5    3.0             1   \n",
       "384232       redding   2300      house    2100     5    2.0             0   \n",
       "\n",
       "        smoking_allowed  laundry_options     parking_options      lat  \\\n",
       "107                   1      w/d in unit  off-street parking  39.0786   \n",
       "930                   0      w/d hookups     attached garage  39.6077   \n",
       "1407                  1      w/d in unit     attached garage  38.4243   \n",
       "1789                  1  laundry on site     attached garage  38.6626   \n",
       "1923                  0      w/d in unit  off-street parking  38.6383   \n",
       "...                 ...              ...                 ...      ...   \n",
       "383696                0      w/d hookups     attached garage  33.7225   \n",
       "383747                1      w/d in unit  off-street parking  33.7997   \n",
       "383769                1      w/d hookups     attached garage  33.9460   \n",
       "383916                1      w/d in unit  off-street parking  33.6685   \n",
       "384232                0      w/d in unit     attached garage  40.5873   \n",
       "\n",
       "           long state  \n",
       "107    -120.173    ca  \n",
       "930    -119.813    ca  \n",
       "1407   -121.437    ca  \n",
       "1789   -121.483    ca  \n",
       "1923   -121.507    ca  \n",
       "...         ...   ...  \n",
       "383696 -116.377    ca  \n",
       "383747 -116.986    ca  \n",
       "383769 -116.507    ca  \n",
       "383916 -116.308    ca  \n",
       "384232 -122.306    ca  \n",
       "\n",
       "[2455 rows x 13 columns]"
      ]
     },
     "execution_count": 42,
     "metadata": {},
     "output_type": "execute_result"
    }
   ],
   "source": [
    "df3[df3.beds>4]"
   ]
  },
  {
   "cell_type": "code",
   "execution_count": 43,
   "metadata": {},
   "outputs": [],
   "source": [
    "# Only take bedrooms less than or equal to 4\n",
    "df3 = df3[df3.beds<=4]\n"
   ]
  },
  {
   "cell_type": "code",
   "execution_count": 44,
   "metadata": {
    "scrolled": true
   },
   "outputs": [
    {
     "data": {
      "text/html": [
       "<div>\n",
       "<style scoped>\n",
       "    .dataframe tbody tr th:only-of-type {\n",
       "        vertical-align: middle;\n",
       "    }\n",
       "\n",
       "    .dataframe tbody tr th {\n",
       "        vertical-align: top;\n",
       "    }\n",
       "\n",
       "    .dataframe thead th {\n",
       "        text-align: right;\n",
       "    }\n",
       "</style>\n",
       "<table border=\"1\" class=\"dataframe\">\n",
       "  <thead>\n",
       "    <tr style=\"text-align: right;\">\n",
       "      <th></th>\n",
       "      <th>region</th>\n",
       "      <th>price</th>\n",
       "      <th>type</th>\n",
       "      <th>sqfeet</th>\n",
       "      <th>beds</th>\n",
       "      <th>baths</th>\n",
       "      <th>pets_allowed</th>\n",
       "      <th>smoking_allowed</th>\n",
       "      <th>laundry_options</th>\n",
       "      <th>parking_options</th>\n",
       "      <th>lat</th>\n",
       "      <th>long</th>\n",
       "      <th>state</th>\n",
       "    </tr>\n",
       "  </thead>\n",
       "  <tbody>\n",
       "    <tr>\n",
       "      <th>4</th>\n",
       "      <td>reno / tahoe</td>\n",
       "      <td>289</td>\n",
       "      <td>apartment</td>\n",
       "      <td>250</td>\n",
       "      <td>0</td>\n",
       "      <td>1.0</td>\n",
       "      <td>1</td>\n",
       "      <td>1</td>\n",
       "      <td>laundry on site</td>\n",
       "      <td>off-street parking</td>\n",
       "      <td>39.5357</td>\n",
       "      <td>-119.805</td>\n",
       "      <td>ca</td>\n",
       "    </tr>\n",
       "    <tr>\n",
       "      <th>36</th>\n",
       "      <td>reno / tahoe</td>\n",
       "      <td>875</td>\n",
       "      <td>apartment</td>\n",
       "      <td>550</td>\n",
       "      <td>0</td>\n",
       "      <td>1.0</td>\n",
       "      <td>0</td>\n",
       "      <td>0</td>\n",
       "      <td>laundry on site</td>\n",
       "      <td>off-street parking</td>\n",
       "      <td>39.4972</td>\n",
       "      <td>-119.776</td>\n",
       "      <td>ca</td>\n",
       "    </tr>\n",
       "    <tr>\n",
       "      <th>70</th>\n",
       "      <td>reno / tahoe</td>\n",
       "      <td>1095</td>\n",
       "      <td>apartment</td>\n",
       "      <td>435</td>\n",
       "      <td>0</td>\n",
       "      <td>1.0</td>\n",
       "      <td>0</td>\n",
       "      <td>1</td>\n",
       "      <td>laundry in bldg</td>\n",
       "      <td>off-street parking</td>\n",
       "      <td>39.2548</td>\n",
       "      <td>-120.046</td>\n",
       "      <td>ca</td>\n",
       "    </tr>\n",
       "    <tr>\n",
       "      <th>72</th>\n",
       "      <td>reno / tahoe</td>\n",
       "      <td>289</td>\n",
       "      <td>apartment</td>\n",
       "      <td>250</td>\n",
       "      <td>0</td>\n",
       "      <td>1.0</td>\n",
       "      <td>1</td>\n",
       "      <td>1</td>\n",
       "      <td>w/d in unit</td>\n",
       "      <td>off-street parking</td>\n",
       "      <td>39.5357</td>\n",
       "      <td>-119.805</td>\n",
       "      <td>ca</td>\n",
       "    </tr>\n",
       "    <tr>\n",
       "      <th>120</th>\n",
       "      <td>reno / tahoe</td>\n",
       "      <td>274</td>\n",
       "      <td>apartment</td>\n",
       "      <td>220</td>\n",
       "      <td>0</td>\n",
       "      <td>1.0</td>\n",
       "      <td>0</td>\n",
       "      <td>0</td>\n",
       "      <td>laundry on site</td>\n",
       "      <td>no parking</td>\n",
       "      <td>39.5268</td>\n",
       "      <td>-119.811</td>\n",
       "      <td>ca</td>\n",
       "    </tr>\n",
       "    <tr>\n",
       "      <th>...</th>\n",
       "      <td>...</td>\n",
       "      <td>...</td>\n",
       "      <td>...</td>\n",
       "      <td>...</td>\n",
       "      <td>...</td>\n",
       "      <td>...</td>\n",
       "      <td>...</td>\n",
       "      <td>...</td>\n",
       "      <td>...</td>\n",
       "      <td>...</td>\n",
       "      <td>...</td>\n",
       "      <td>...</td>\n",
       "      <td>...</td>\n",
       "    </tr>\n",
       "    <tr>\n",
       "      <th>384939</th>\n",
       "      <td>reno / tahoe</td>\n",
       "      <td>289</td>\n",
       "      <td>apartment</td>\n",
       "      <td>250</td>\n",
       "      <td>0</td>\n",
       "      <td>1.0</td>\n",
       "      <td>1</td>\n",
       "      <td>1</td>\n",
       "      <td>laundry on site</td>\n",
       "      <td>off-street parking</td>\n",
       "      <td>39.5357</td>\n",
       "      <td>-119.805</td>\n",
       "      <td>ca</td>\n",
       "    </tr>\n",
       "    <tr>\n",
       "      <th>384942</th>\n",
       "      <td>reno / tahoe</td>\n",
       "      <td>289</td>\n",
       "      <td>apartment</td>\n",
       "      <td>250</td>\n",
       "      <td>0</td>\n",
       "      <td>1.0</td>\n",
       "      <td>1</td>\n",
       "      <td>1</td>\n",
       "      <td>laundry on site</td>\n",
       "      <td>off-street parking</td>\n",
       "      <td>39.5483</td>\n",
       "      <td>-119.796</td>\n",
       "      <td>ca</td>\n",
       "    </tr>\n",
       "    <tr>\n",
       "      <th>384943</th>\n",
       "      <td>reno / tahoe</td>\n",
       "      <td>289</td>\n",
       "      <td>apartment</td>\n",
       "      <td>250</td>\n",
       "      <td>0</td>\n",
       "      <td>1.0</td>\n",
       "      <td>1</td>\n",
       "      <td>1</td>\n",
       "      <td>laundry on site</td>\n",
       "      <td>off-street parking</td>\n",
       "      <td>39.5357</td>\n",
       "      <td>-119.805</td>\n",
       "      <td>ca</td>\n",
       "    </tr>\n",
       "    <tr>\n",
       "      <th>384946</th>\n",
       "      <td>reno / tahoe</td>\n",
       "      <td>289</td>\n",
       "      <td>apartment</td>\n",
       "      <td>250</td>\n",
       "      <td>0</td>\n",
       "      <td>1.0</td>\n",
       "      <td>1</td>\n",
       "      <td>1</td>\n",
       "      <td>laundry on site</td>\n",
       "      <td>off-street parking</td>\n",
       "      <td>39.5357</td>\n",
       "      <td>-119.805</td>\n",
       "      <td>ca</td>\n",
       "    </tr>\n",
       "    <tr>\n",
       "      <th>384954</th>\n",
       "      <td>reno / tahoe</td>\n",
       "      <td>289</td>\n",
       "      <td>apartment</td>\n",
       "      <td>250</td>\n",
       "      <td>0</td>\n",
       "      <td>1.0</td>\n",
       "      <td>1</td>\n",
       "      <td>1</td>\n",
       "      <td>laundry on site</td>\n",
       "      <td>off-street parking</td>\n",
       "      <td>39.5357</td>\n",
       "      <td>-119.805</td>\n",
       "      <td>ca</td>\n",
       "    </tr>\n",
       "  </tbody>\n",
       "</table>\n",
       "<p>10805 rows × 13 columns</p>\n",
       "</div>"
      ],
      "text/plain": [
       "              region  price       type  sqfeet  beds  baths  pets_allowed  \\\n",
       "4       reno / tahoe    289  apartment     250     0    1.0             1   \n",
       "36      reno / tahoe    875  apartment     550     0    1.0             0   \n",
       "70      reno / tahoe   1095  apartment     435     0    1.0             0   \n",
       "72      reno / tahoe    289  apartment     250     0    1.0             1   \n",
       "120     reno / tahoe    274  apartment     220     0    1.0             0   \n",
       "...              ...    ...        ...     ...   ...    ...           ...   \n",
       "384939  reno / tahoe    289  apartment     250     0    1.0             1   \n",
       "384942  reno / tahoe    289  apartment     250     0    1.0             1   \n",
       "384943  reno / tahoe    289  apartment     250     0    1.0             1   \n",
       "384946  reno / tahoe    289  apartment     250     0    1.0             1   \n",
       "384954  reno / tahoe    289  apartment     250     0    1.0             1   \n",
       "\n",
       "        smoking_allowed  laundry_options     parking_options      lat  \\\n",
       "4                     1  laundry on site  off-street parking  39.5357   \n",
       "36                    0  laundry on site  off-street parking  39.4972   \n",
       "70                    1  laundry in bldg  off-street parking  39.2548   \n",
       "72                    1      w/d in unit  off-street parking  39.5357   \n",
       "120                   0  laundry on site          no parking  39.5268   \n",
       "...                 ...              ...                 ...      ...   \n",
       "384939                1  laundry on site  off-street parking  39.5357   \n",
       "384942                1  laundry on site  off-street parking  39.5483   \n",
       "384943                1  laundry on site  off-street parking  39.5357   \n",
       "384946                1  laundry on site  off-street parking  39.5357   \n",
       "384954                1  laundry on site  off-street parking  39.5357   \n",
       "\n",
       "           long state  \n",
       "4      -119.805    ca  \n",
       "36     -119.776    ca  \n",
       "70     -120.046    ca  \n",
       "72     -119.805    ca  \n",
       "120    -119.811    ca  \n",
       "...         ...   ...  \n",
       "384939 -119.805    ca  \n",
       "384942 -119.796    ca  \n",
       "384943 -119.805    ca  \n",
       "384946 -119.805    ca  \n",
       "384954 -119.805    ca  \n",
       "\n",
       "[10805 rows x 13 columns]"
      ]
     },
     "execution_count": 44,
     "metadata": {},
     "output_type": "execute_result"
    }
   ],
   "source": [
    "df3[df3.beds==0] #== studios, this looks good"
   ]
  },
  {
   "cell_type": "code",
   "execution_count": null,
   "metadata": {},
   "outputs": [],
   "source": []
  },
  {
   "cell_type": "markdown",
   "metadata": {},
   "source": [
    "### Further Dimensionality reduction, remove regions with less than 100 data points"
   ]
  },
  {
   "cell_type": "code",
   "execution_count": 45,
   "metadata": {
    "scrolled": true
   },
   "outputs": [
    {
     "data": {
      "text/plain": [
       "jacksonville      4205\n",
       "columbus          3638\n",
       "jackson           3635\n",
       "rochester         3624\n",
       "fayetteville      3623\n",
       "                  ... \n",
       "southwest MS        10\n",
       "st louis             9\n",
       "southwest TX         6\n",
       "fort smith, AR       4\n",
       "kansas city          3\n",
       "Name: region, Length: 404, dtype: int64"
      ]
     },
     "execution_count": 45,
     "metadata": {},
     "output_type": "execute_result"
    }
   ],
   "source": [
    "regions = df3['region'].value_counts()\n",
    "regions\n",
    "# drop listings where there are less than 100 listings to simplify training"
   ]
  },
  {
   "cell_type": "code",
   "execution_count": 46,
   "metadata": {},
   "outputs": [],
   "source": [
    "regions_100 = regions[regions<100]"
   ]
  },
  {
   "cell_type": "code",
   "execution_count": 47,
   "metadata": {},
   "outputs": [],
   "source": [
    "# df3['region'].value_counts()>100\n"
   ]
  },
  {
   "cell_type": "code",
   "execution_count": 48,
   "metadata": {},
   "outputs": [],
   "source": [
    "df3.region = df3.region.apply(lambda x: 'other' if x in regions_100 else x)"
   ]
  },
  {
   "cell_type": "code",
   "execution_count": 49,
   "metadata": {
    "scrolled": true
   },
   "outputs": [
    {
     "data": {
      "text/plain": [
       "jacksonville         True\n",
       "columbus             True\n",
       "jackson              True\n",
       "rochester            True\n",
       "fayetteville         True\n",
       "                     ... \n",
       "fort dodge           True\n",
       "mansfield            True\n",
       "st george            True\n",
       "show low             True\n",
       "central louisiana    True\n",
       "Name: region, Length: 321, dtype: bool"
      ]
     },
     "execution_count": 49,
     "metadata": {},
     "output_type": "execute_result"
    }
   ],
   "source": [
    "df4 = df3.drop(df3[df3['region'] == 'other'].index)\n",
    "\n",
    "df4.region.value_counts()>100"
   ]
  },
  {
   "cell_type": "code",
   "execution_count": 50,
   "metadata": {},
   "outputs": [],
   "source": [
    "# df4['region'].value_counts()"
   ]
  },
  {
   "cell_type": "markdown",
   "metadata": {},
   "source": [
    "# Data Visualizations"
   ]
  },
  {
   "cell_type": "code",
   "execution_count": 51,
   "metadata": {},
   "outputs": [
    {
     "data": {
      "text/plain": [
       "Text(0.5, 1.0, 'Types of Rentals with the most squareefootage')"
      ]
     },
     "execution_count": 51,
     "metadata": {},
     "output_type": "execute_result"
    },
    {
     "data": {
      "image/png": "[encoded data removed]",
      "text/plain": [
       "<Figure size 1080x1080 with 1 Axes>"
      ]
     },
     "metadata": {
      "needs_background": "light"
     },
     "output_type": "display_data"
    }
   ],
   "source": [
    "plt.figure(figsize=(15,15))\n",
    "sns.barplot(x=df4.type, y=df4.sqfeet)\n",
    "plt.title('Types of Rentals with the most squareefootage')\n"
   ]
  },
  {
   "cell_type": "code",
   "execution_count": 52,
   "metadata": {},
   "outputs": [
    {
     "data": {
      "text/plain": [
       "Text(0.5, 1.0, 'Types of Rentals with the highest cost')"
      ]
     },
     "execution_count": 52,
     "metadata": {},
     "output_type": "execute_result"
    },
    {
     "data": {
      "image/png": "[encoded data removed]",
      "text/plain": [
       "<Figure size 1080x1080 with 1 Axes>"
      ]
     },
     "metadata": {
      "needs_background": "light"
     },
     "output_type": "display_data"
    }
   ],
   "source": [
    "plt.figure(figsize=(15,15))\n",
    "sns.barplot(x=df4.type, y=df4.price)\n",
    "plt.title('Types of Rentals with the highest cost')"
   ]
  },
  {
   "cell_type": "code",
   "execution_count": 53,
   "metadata": {},
   "outputs": [
    {
     "data": {
      "text/plain": [
       "Text(0.5, 1.0, 'Does parking availability affect the cost of rent?')"
      ]
     },
     "execution_count": 53,
     "metadata": {},
     "output_type": "execute_result"
    },
    {
     "data": {
      "image/png": "[encoded data removed]",
      "text/plain": [
       "<Figure size 1080x1080 with 1 Axes>"
      ]
     },
     "metadata": {
      "needs_background": "light"
     },
     "output_type": "display_data"
    }
   ],
   "source": [
    "plt.figure(figsize=(15,15))\n",
    "sns.barplot(x=df4.parking_options, y=df4.sqfeet)\n",
    "plt.title('Does parking availability affect the cost of rent?')"
   ]
  },
  {
   "cell_type": "code",
   "execution_count": 54,
   "metadata": {
    "scrolled": false
   },
   "outputs": [
    {
     "data": {
      "text/plain": [
       "Text(0.5, 1.0, 'Do pets affect price across america?')"
      ]
     },
     "execution_count": 54,
     "metadata": {},
     "output_type": "execute_result"
    },
    {
     "data": {
      "image/png": "[encoded data removed]",
      "text/plain": [
       "<Figure size 360x360 with 1 Axes>"
      ]
     },
     "metadata": {
      "needs_background": "light"
     },
     "output_type": "display_data"
    }
   ],
   "source": [
    "plt.figure(figsize=(5,5))\n",
    "sns.barplot(x=df4.pets_allowed, y=df4.price)\n",
    "plt.title('Do pets affect price across america?')"
   ]
  },
  {
   "cell_type": "code",
   "execution_count": 55,
   "metadata": {
    "scrolled": false
   },
   "outputs": [
    {
     "data": {
      "text/plain": [
       "Text(0.5, 1.0, 'Which state has the highest mean rental prices')"
      ]
     },
     "execution_count": 55,
     "metadata": {},
     "output_type": "execute_result"
    },
    {
     "data": {
      "image/png": "[encoded data removed]",
      "text/plain": [
       "<Figure size 1080x1080 with 1 Axes>"
      ]
     },
     "metadata": {
      "needs_background": "light"
     },
     "output_type": "display_data"
    }
   ],
   "source": [
    "plt.figure(figsize=(15,15))\n",
    "sns.barplot(x=df4.state, y=df4.price)\n",
    "plt.title('Which state has the highest mean rental prices')"
   ]
  },
  {
   "cell_type": "code",
   "execution_count": 56,
   "metadata": {},
   "outputs": [],
   "source": [
    "# df4.groupby(['region']).count().sort('price').index[-1]"
   ]
  },
  {
   "cell_type": "code",
   "execution_count": 57,
   "metadata": {},
   "outputs": [
    {
     "data": {
      "text/plain": [
       "region\n",
       "santa barbara      3000.0\n",
       "SF bay area        2730.0\n",
       "florida keys       2470.0\n",
       "long island        2400.0\n",
       "new york city      2400.0\n",
       "los angeles        2295.0\n",
       "ventura county     2215.0\n",
       "boston             2200.0\n",
       "san luis obispo    2150.0\n",
       "high rockies       2100.0\n",
       "Name: price, dtype: float64"
      ]
     },
     "execution_count": 57,
     "metadata": {},
     "output_type": "execute_result"
    }
   ],
   "source": [
    "df4.groupby('region')['price'].median().sort_values(ascending=False)[:10]"
   ]
  },
  {
   "cell_type": "code",
   "execution_count": 58,
   "metadata": {},
   "outputs": [
    {
     "data": {
      "text/plain": [
       "region\n",
       "santa barbara     3084.749153\n",
       "SF bay area       2981.116586\n",
       "new york city     2615.438108\n",
       "los angeles       2485.650901\n",
       "florida keys      2443.464126\n",
       "long island       2380.555755\n",
       "high rockies      2373.156627\n",
       "boston            2352.946545\n",
       "ventura county    2346.294555\n",
       "monterey bay      2295.390374\n",
       "Name: price, dtype: float64"
      ]
     },
     "execution_count": 58,
     "metadata": {},
     "output_type": "execute_result"
    }
   ],
   "source": [
    "df4.groupby('region')['price'].mean().sort_values(ascending=False)[:10]"
   ]
  },
  {
   "cell_type": "code",
   "execution_count": 59,
   "metadata": {},
   "outputs": [],
   "source": [
    "top_ten = df4.groupby('region')['price'].median().sort_values(ascending=False)[:10]"
   ]
  },
  {
   "cell_type": "code",
   "execution_count": 60,
   "metadata": {},
   "outputs": [
    {
     "data": {
      "text/plain": [
       "<matplotlib.axes._subplots.AxesSubplot at 0x25c81515550>"
      ]
     },
     "execution_count": 60,
     "metadata": {},
     "output_type": "execute_result"
    },
    {
     "data": {
      "image/png": "[encoded data removed]",
      "text/plain": [
       "<Figure size 432x288 with 1 Axes>"
      ]
     },
     "metadata": {
      "needs_background": "light"
     },
     "output_type": "display_data"
    }
   ],
   "source": [
    "top_ten.plot(kind='bar', title='Top Ten Regions with Highest Median Rent Based on Craigslist')"
   ]
  },
  {
   "cell_type": "code",
   "execution_count": 61,
   "metadata": {},
   "outputs": [],
   "source": [
    "top_ten = top_ten.reset_index()"
   ]
  },
  {
   "cell_type": "code",
   "execution_count": 62,
   "metadata": {},
   "outputs": [
    {
     "data": {
      "text/html": [
       "<div>\n",
       "<style scoped>\n",
       "    .dataframe tbody tr th:only-of-type {\n",
       "        vertical-align: middle;\n",
       "    }\n",
       "\n",
       "    .dataframe tbody tr th {\n",
       "        vertical-align: top;\n",
       "    }\n",
       "\n",
       "    .dataframe thead th {\n",
       "        text-align: right;\n",
       "    }\n",
       "</style>\n",
       "<table border=\"1\" class=\"dataframe\">\n",
       "  <thead>\n",
       "    <tr style=\"text-align: right;\">\n",
       "      <th></th>\n",
       "      <th>region</th>\n",
       "      <th>price</th>\n",
       "    </tr>\n",
       "  </thead>\n",
       "  <tbody>\n",
       "    <tr>\n",
       "      <th>0</th>\n",
       "      <td>santa barbara</td>\n",
       "      <td>3000.0</td>\n",
       "    </tr>\n",
       "    <tr>\n",
       "      <th>1</th>\n",
       "      <td>SF bay area</td>\n",
       "      <td>2730.0</td>\n",
       "    </tr>\n",
       "    <tr>\n",
       "      <th>2</th>\n",
       "      <td>florida keys</td>\n",
       "      <td>2470.0</td>\n",
       "    </tr>\n",
       "    <tr>\n",
       "      <th>3</th>\n",
       "      <td>long island</td>\n",
       "      <td>2400.0</td>\n",
       "    </tr>\n",
       "    <tr>\n",
       "      <th>4</th>\n",
       "      <td>new york city</td>\n",
       "      <td>2400.0</td>\n",
       "    </tr>\n",
       "    <tr>\n",
       "      <th>5</th>\n",
       "      <td>los angeles</td>\n",
       "      <td>2295.0</td>\n",
       "    </tr>\n",
       "    <tr>\n",
       "      <th>6</th>\n",
       "      <td>ventura county</td>\n",
       "      <td>2215.0</td>\n",
       "    </tr>\n",
       "    <tr>\n",
       "      <th>7</th>\n",
       "      <td>boston</td>\n",
       "      <td>2200.0</td>\n",
       "    </tr>\n",
       "    <tr>\n",
       "      <th>8</th>\n",
       "      <td>san luis obispo</td>\n",
       "      <td>2150.0</td>\n",
       "    </tr>\n",
       "    <tr>\n",
       "      <th>9</th>\n",
       "      <td>high rockies</td>\n",
       "      <td>2100.0</td>\n",
       "    </tr>\n",
       "  </tbody>\n",
       "</table>\n",
       "</div>"
      ],
      "text/plain": [
       "            region   price\n",
       "0    santa barbara  3000.0\n",
       "1      SF bay area  2730.0\n",
       "2     florida keys  2470.0\n",
       "3      long island  2400.0\n",
       "4    new york city  2400.0\n",
       "5      los angeles  2295.0\n",
       "6   ventura county  2215.0\n",
       "7           boston  2200.0\n",
       "8  san luis obispo  2150.0\n",
       "9     high rockies  2100.0"
      ]
     },
     "execution_count": 62,
     "metadata": {},
     "output_type": "execute_result"
    }
   ],
   "source": [
    "top_ten"
   ]
  },
  {
   "cell_type": "code",
   "execution_count": 63,
   "metadata": {},
   "outputs": [
    {
     "data": {
      "text/plain": [
       "<matplotlib.axes._subplots.AxesSubplot at 0x25c814f6280>"
      ]
     },
     "execution_count": 63,
     "metadata": {},
     "output_type": "execute_result"
    },
    {
     "data": {
      "image/png": "[encoded data removed]",
      "text/plain": [
       "<Figure size 1440x720 with 1 Axes>"
      ]
     },
     "metadata": {
      "needs_background": "light"
     },
     "output_type": "display_data"
    }
   ],
   "source": [
    "plt.figure(figsize=(20,10))\n",
    "plt.xticks(rotation=30)\n",
    "plt.title('Top Ten Regions with Highest Median Rent Based on Craigslist')\n",
    "sns.barplot(x=top_ten['region'],y=top_ten['price'])"
   ]
  },
  {
   "cell_type": "code",
   "execution_count": null,
   "metadata": {},
   "outputs": [],
   "source": []
  },
  {
   "cell_type": "code",
   "execution_count": 64,
   "metadata": {
    "scrolled": false
   },
   "outputs": [
    {
     "data": {
      "text/plain": [
       "<matplotlib.axes._subplots.AxesSubplot at 0x25c827f0250>"
      ]
     },
     "execution_count": 64,
     "metadata": {},
     "output_type": "execute_result"
    },
    {
     "data": {
      "image/png": "[encoded data removed]",
      "text/plain": [
       "<Figure size 1440x720 with 2 Axes>"
      ]
     },
     "metadata": {
      "needs_background": "light"
     },
     "output_type": "display_data"
    }
   ],
   "source": [
    "plt.figure(figsize=(20,10))\n",
    "plt.title('Multicorrenlinarity')\n",
    "sns.heatmap(df4.corr(), cbar=True, square= True,fmt='.1f', annot=True, annot_kws={'size':15}, cmap='Blues')"
   ]
  },
  {
   "cell_type": "markdown",
   "metadata": {},
   "source": [
    "As you might expect, there is not much correlation except with # of beds and baths because the more sqfootage you have, the more room you have to add additional bathrooms and baths."
   ]
  },
  {
   "cell_type": "code",
   "execution_count": null,
   "metadata": {},
   "outputs": [],
   "source": []
  },
  {
   "cell_type": "code",
   "execution_count": 65,
   "metadata": {},
   "outputs": [],
   "source": [
    "#Saving some progress\n",
    "df5 = df4.copy()"
   ]
  },
  {
   "cell_type": "markdown",
   "metadata": {},
   "source": [
    "## Start of Model building"
   ]
  },
  {
   "cell_type": "markdown",
   "metadata": {},
   "source": [
    "Some assumptions:\n",
    "We are dropping the latitude, longitude and state because we want to predict rent based on a set of defined features and the geo coordinates will add additional complexity. Additionally, we are dropping state because there should be no overlapping region, as each region should be unique to the state.\n",
    "\n",
    "2/1/2021: Note that it turns out that there are overlapping regions so we should not remove the state and include this in our model building and training"
   ]
  },
  {
   "cell_type": "code",
   "execution_count": 66,
   "metadata": {},
   "outputs": [
    {
     "data": {
      "text/plain": [
       "(372658, 10)"
      ]
     },
     "execution_count": 66,
     "metadata": {},
     "output_type": "execute_result"
    }
   ],
   "source": [
    "\n",
    "df5=df5.drop([\"lat\",\"long\",\"state\"],axis=1)\n",
    "\n",
    "df5.shape"
   ]
  },
  {
   "cell_type": "code",
   "execution_count": 67,
   "metadata": {
    "scrolled": true
   },
   "outputs": [
    {
     "data": {
      "text/html": [
       "<div>\n",
       "<style scoped>\n",
       "    .dataframe tbody tr th:only-of-type {\n",
       "        vertical-align: middle;\n",
       "    }\n",
       "\n",
       "    .dataframe tbody tr th {\n",
       "        vertical-align: top;\n",
       "    }\n",
       "\n",
       "    .dataframe thead th {\n",
       "        text-align: right;\n",
       "    }\n",
       "</style>\n",
       "<table border=\"1\" class=\"dataframe\">\n",
       "  <thead>\n",
       "    <tr style=\"text-align: right;\">\n",
       "      <th></th>\n",
       "      <th>region</th>\n",
       "      <th>price</th>\n",
       "      <th>type</th>\n",
       "      <th>sqfeet</th>\n",
       "      <th>beds</th>\n",
       "      <th>baths</th>\n",
       "      <th>pets_allowed</th>\n",
       "      <th>smoking_allowed</th>\n",
       "      <th>laundry_options</th>\n",
       "      <th>parking_options</th>\n",
       "    </tr>\n",
       "  </thead>\n",
       "  <tbody>\n",
       "    <tr>\n",
       "      <th>0</th>\n",
       "      <td>reno / tahoe</td>\n",
       "      <td>1148</td>\n",
       "      <td>apartment</td>\n",
       "      <td>1078</td>\n",
       "      <td>3</td>\n",
       "      <td>2.0</td>\n",
       "      <td>1</td>\n",
       "      <td>0</td>\n",
       "      <td>w/d in unit</td>\n",
       "      <td>carport</td>\n",
       "    </tr>\n",
       "    <tr>\n",
       "      <th>1</th>\n",
       "      <td>reno / tahoe</td>\n",
       "      <td>1200</td>\n",
       "      <td>condo</td>\n",
       "      <td>1001</td>\n",
       "      <td>2</td>\n",
       "      <td>2.0</td>\n",
       "      <td>0</td>\n",
       "      <td>0</td>\n",
       "      <td>w/d hookups</td>\n",
       "      <td>carport</td>\n",
       "    </tr>\n",
       "    <tr>\n",
       "      <th>2</th>\n",
       "      <td>reno / tahoe</td>\n",
       "      <td>1813</td>\n",
       "      <td>apartment</td>\n",
       "      <td>1683</td>\n",
       "      <td>2</td>\n",
       "      <td>2.0</td>\n",
       "      <td>1</td>\n",
       "      <td>1</td>\n",
       "      <td>w/d in unit</td>\n",
       "      <td>attached garage</td>\n",
       "    </tr>\n",
       "  </tbody>\n",
       "</table>\n",
       "</div>"
      ],
      "text/plain": [
       "         region  price       type  sqfeet  beds  baths  pets_allowed  \\\n",
       "0  reno / tahoe   1148  apartment    1078     3    2.0             1   \n",
       "1  reno / tahoe   1200      condo    1001     2    2.0             0   \n",
       "2  reno / tahoe   1813  apartment    1683     2    2.0             1   \n",
       "\n",
       "   smoking_allowed laundry_options  parking_options  \n",
       "0                0     w/d in unit          carport  \n",
       "1                0     w/d hookups          carport  \n",
       "2                1     w/d in unit  attached garage  "
      ]
     },
     "execution_count": 67,
     "metadata": {},
     "output_type": "execute_result"
    }
   ],
   "source": [
    "df5.head(3)"
   ]
  },
  {
   "cell_type": "code",
   "execution_count": 73,
   "metadata": {},
   "outputs": [
    {
     "data": {
      "text/html": [
       "<div>\n",
       "<style scoped>\n",
       "    .dataframe tbody tr th:only-of-type {\n",
       "        vertical-align: middle;\n",
       "    }\n",
       "\n",
       "    .dataframe tbody tr th {\n",
       "        vertical-align: top;\n",
       "    }\n",
       "\n",
       "    .dataframe thead th {\n",
       "        text-align: right;\n",
       "    }\n",
       "</style>\n",
       "<table border=\"1\" class=\"dataframe\">\n",
       "  <thead>\n",
       "    <tr style=\"text-align: right;\">\n",
       "      <th></th>\n",
       "      <th>region</th>\n",
       "      <th>price</th>\n",
       "      <th>type</th>\n",
       "      <th>sqfeet</th>\n",
       "      <th>beds</th>\n",
       "      <th>baths</th>\n",
       "      <th>pets_allowed</th>\n",
       "      <th>smoking_allowed</th>\n",
       "      <th>laundry_options</th>\n",
       "      <th>parking_options</th>\n",
       "    </tr>\n",
       "  </thead>\n",
       "  <tbody>\n",
       "    <tr>\n",
       "      <th>0</th>\n",
       "      <td>reno / tahoe</td>\n",
       "      <td>1148</td>\n",
       "      <td>apartment</td>\n",
       "      <td>1078</td>\n",
       "      <td>3</td>\n",
       "      <td>2.0</td>\n",
       "      <td>1</td>\n",
       "      <td>0</td>\n",
       "      <td>w/d in unit</td>\n",
       "      <td>carport</td>\n",
       "    </tr>\n",
       "    <tr>\n",
       "      <th>1</th>\n",
       "      <td>reno / tahoe</td>\n",
       "      <td>1200</td>\n",
       "      <td>condo</td>\n",
       "      <td>1001</td>\n",
       "      <td>2</td>\n",
       "      <td>2.0</td>\n",
       "      <td>0</td>\n",
       "      <td>0</td>\n",
       "      <td>w/d hookups</td>\n",
       "      <td>carport</td>\n",
       "    </tr>\n",
       "  </tbody>\n",
       "</table>\n",
       "</div>"
      ],
      "text/plain": [
       "         region  price       type  sqfeet  beds  baths  pets_allowed  \\\n",
       "0  reno / tahoe   1148  apartment    1078     3    2.0             1   \n",
       "1  reno / tahoe   1200      condo    1001     2    2.0             0   \n",
       "\n",
       "   smoking_allowed laundry_options parking_options  \n",
       "0                0     w/d in unit         carport  \n",
       "1                0     w/d hookups         carport  "
      ]
     },
     "execution_count": 73,
     "metadata": {},
     "output_type": "execute_result"
    }
   ],
   "source": [
    "df6 = df5.copy()\n",
    "df6.head(2)"
   ]
  },
  {
   "cell_type": "code",
   "execution_count": 74,
   "metadata": {},
   "outputs": [
    {
     "data": {
      "text/html": [
       "<div>\n",
       "<style scoped>\n",
       "    .dataframe tbody tr th:only-of-type {\n",
       "        vertical-align: middle;\n",
       "    }\n",
       "\n",
       "    .dataframe tbody tr th {\n",
       "        vertical-align: top;\n",
       "    }\n",
       "\n",
       "    .dataframe thead th {\n",
       "        text-align: right;\n",
       "    }\n",
       "</style>\n",
       "<table border=\"1\" class=\"dataframe\">\n",
       "  <thead>\n",
       "    <tr style=\"text-align: right;\">\n",
       "      <th></th>\n",
       "      <th>region</th>\n",
       "      <th>price</th>\n",
       "      <th>type</th>\n",
       "      <th>sqfeet</th>\n",
       "      <th>beds</th>\n",
       "      <th>baths</th>\n",
       "      <th>pets_allowed</th>\n",
       "      <th>smoking_allowed</th>\n",
       "      <th>laundry_options</th>\n",
       "      <th>parking_options</th>\n",
       "    </tr>\n",
       "  </thead>\n",
       "  <tbody>\n",
       "    <tr>\n",
       "      <th>0</th>\n",
       "      <td>reno / tahoe</td>\n",
       "      <td>1148</td>\n",
       "      <td>apartment</td>\n",
       "      <td>1078</td>\n",
       "      <td>3</td>\n",
       "      <td>2.0</td>\n",
       "      <td>1</td>\n",
       "      <td>0</td>\n",
       "      <td>w/d in unit</td>\n",
       "      <td>carport</td>\n",
       "    </tr>\n",
       "    <tr>\n",
       "      <th>1</th>\n",
       "      <td>reno / tahoe</td>\n",
       "      <td>1200</td>\n",
       "      <td>condo</td>\n",
       "      <td>1001</td>\n",
       "      <td>2</td>\n",
       "      <td>2.0</td>\n",
       "      <td>0</td>\n",
       "      <td>0</td>\n",
       "      <td>w/d hookups</td>\n",
       "      <td>carport</td>\n",
       "    </tr>\n",
       "    <tr>\n",
       "      <th>2</th>\n",
       "      <td>reno / tahoe</td>\n",
       "      <td>1813</td>\n",
       "      <td>apartment</td>\n",
       "      <td>1683</td>\n",
       "      <td>2</td>\n",
       "      <td>2.0</td>\n",
       "      <td>1</td>\n",
       "      <td>1</td>\n",
       "      <td>w/d in unit</td>\n",
       "      <td>attached garage</td>\n",
       "    </tr>\n",
       "    <tr>\n",
       "      <th>3</th>\n",
       "      <td>reno / tahoe</td>\n",
       "      <td>1095</td>\n",
       "      <td>apartment</td>\n",
       "      <td>708</td>\n",
       "      <td>1</td>\n",
       "      <td>1.0</td>\n",
       "      <td>1</td>\n",
       "      <td>1</td>\n",
       "      <td>w/d in unit</td>\n",
       "      <td>carport</td>\n",
       "    </tr>\n",
       "    <tr>\n",
       "      <th>4</th>\n",
       "      <td>reno / tahoe</td>\n",
       "      <td>289</td>\n",
       "      <td>apartment</td>\n",
       "      <td>250</td>\n",
       "      <td>0</td>\n",
       "      <td>1.0</td>\n",
       "      <td>1</td>\n",
       "      <td>1</td>\n",
       "      <td>laundry on site</td>\n",
       "      <td>off-street parking</td>\n",
       "    </tr>\n",
       "    <tr>\n",
       "      <th>...</th>\n",
       "      <td>...</td>\n",
       "      <td>...</td>\n",
       "      <td>...</td>\n",
       "      <td>...</td>\n",
       "      <td>...</td>\n",
       "      <td>...</td>\n",
       "      <td>...</td>\n",
       "      <td>...</td>\n",
       "      <td>...</td>\n",
       "      <td>...</td>\n",
       "    </tr>\n",
       "    <tr>\n",
       "      <th>384972</th>\n",
       "      <td>reno / tahoe</td>\n",
       "      <td>1295</td>\n",
       "      <td>apartment</td>\n",
       "      <td>957</td>\n",
       "      <td>2</td>\n",
       "      <td>2.0</td>\n",
       "      <td>1</td>\n",
       "      <td>1</td>\n",
       "      <td>w/d in unit</td>\n",
       "      <td>carport</td>\n",
       "    </tr>\n",
       "    <tr>\n",
       "      <th>384973</th>\n",
       "      <td>reno / tahoe</td>\n",
       "      <td>1549</td>\n",
       "      <td>apartment</td>\n",
       "      <td>1034</td>\n",
       "      <td>2</td>\n",
       "      <td>2.0</td>\n",
       "      <td>1</td>\n",
       "      <td>0</td>\n",
       "      <td>w/d in unit</td>\n",
       "      <td>off-street parking</td>\n",
       "    </tr>\n",
       "    <tr>\n",
       "      <th>384974</th>\n",
       "      <td>reno / tahoe</td>\n",
       "      <td>1249</td>\n",
       "      <td>apartment</td>\n",
       "      <td>840</td>\n",
       "      <td>2</td>\n",
       "      <td>1.0</td>\n",
       "      <td>1</td>\n",
       "      <td>1</td>\n",
       "      <td>laundry on site</td>\n",
       "      <td>off-street parking</td>\n",
       "    </tr>\n",
       "    <tr>\n",
       "      <th>384975</th>\n",
       "      <td>reno / tahoe</td>\n",
       "      <td>1429</td>\n",
       "      <td>apartment</td>\n",
       "      <td>976</td>\n",
       "      <td>2</td>\n",
       "      <td>2.0</td>\n",
       "      <td>1</td>\n",
       "      <td>1</td>\n",
       "      <td>w/d in unit</td>\n",
       "      <td>carport</td>\n",
       "    </tr>\n",
       "    <tr>\n",
       "      <th>384976</th>\n",
       "      <td>reno / tahoe</td>\n",
       "      <td>1295</td>\n",
       "      <td>apartment</td>\n",
       "      <td>957</td>\n",
       "      <td>2</td>\n",
       "      <td>2.0</td>\n",
       "      <td>1</td>\n",
       "      <td>1</td>\n",
       "      <td>w/d in unit</td>\n",
       "      <td>carport</td>\n",
       "    </tr>\n",
       "  </tbody>\n",
       "</table>\n",
       "<p>372658 rows × 10 columns</p>\n",
       "</div>"
      ],
      "text/plain": [
       "              region  price       type  sqfeet  beds  baths  pets_allowed  \\\n",
       "0       reno / tahoe   1148  apartment    1078     3    2.0             1   \n",
       "1       reno / tahoe   1200      condo    1001     2    2.0             0   \n",
       "2       reno / tahoe   1813  apartment    1683     2    2.0             1   \n",
       "3       reno / tahoe   1095  apartment     708     1    1.0             1   \n",
       "4       reno / tahoe    289  apartment     250     0    1.0             1   \n",
       "...              ...    ...        ...     ...   ...    ...           ...   \n",
       "384972  reno / tahoe   1295  apartment     957     2    2.0             1   \n",
       "384973  reno / tahoe   1549  apartment    1034     2    2.0             1   \n",
       "384974  reno / tahoe   1249  apartment     840     2    1.0             1   \n",
       "384975  reno / tahoe   1429  apartment     976     2    2.0             1   \n",
       "384976  reno / tahoe   1295  apartment     957     2    2.0             1   \n",
       "\n",
       "        smoking_allowed  laundry_options     parking_options  \n",
       "0                     0      w/d in unit             carport  \n",
       "1                     0      w/d hookups             carport  \n",
       "2                     1      w/d in unit     attached garage  \n",
       "3                     1      w/d in unit             carport  \n",
       "4                     1  laundry on site  off-street parking  \n",
       "...                 ...              ...                 ...  \n",
       "384972                1      w/d in unit             carport  \n",
       "384973                0      w/d in unit  off-street parking  \n",
       "384974                1  laundry on site  off-street parking  \n",
       "384975                1      w/d in unit             carport  \n",
       "384976                1      w/d in unit             carport  \n",
       "\n",
       "[372658 rows x 10 columns]"
      ]
     },
     "execution_count": 74,
     "metadata": {},
     "output_type": "execute_result"
    }
   ],
   "source": [
    "df8 = df5.copy()\n",
    "df8"
   ]
  },
  {
   "cell_type": "code",
   "execution_count": 75,
   "metadata": {},
   "outputs": [
    {
     "data": {
      "text/html": [
       "<div>\n",
       "<style scoped>\n",
       "    .dataframe tbody tr th:only-of-type {\n",
       "        vertical-align: middle;\n",
       "    }\n",
       "\n",
       "    .dataframe tbody tr th {\n",
       "        vertical-align: top;\n",
       "    }\n",
       "\n",
       "    .dataframe thead th {\n",
       "        text-align: right;\n",
       "    }\n",
       "</style>\n",
       "<table border=\"1\" class=\"dataframe\">\n",
       "  <thead>\n",
       "    <tr style=\"text-align: right;\">\n",
       "      <th></th>\n",
       "      <th>region</th>\n",
       "      <th>price</th>\n",
       "      <th>type</th>\n",
       "      <th>sqfeet</th>\n",
       "      <th>beds</th>\n",
       "      <th>baths</th>\n",
       "      <th>pets_allowed</th>\n",
       "      <th>smoking_allowed</th>\n",
       "      <th>laundry_options</th>\n",
       "      <th>parking_options</th>\n",
       "    </tr>\n",
       "  </thead>\n",
       "  <tbody>\n",
       "    <tr>\n",
       "      <th>0</th>\n",
       "      <td>reno / tahoe</td>\n",
       "      <td>1148</td>\n",
       "      <td>apartment</td>\n",
       "      <td>1078</td>\n",
       "      <td>3</td>\n",
       "      <td>2.0</td>\n",
       "      <td>1</td>\n",
       "      <td>0</td>\n",
       "      <td>w/d in unit</td>\n",
       "      <td>carport</td>\n",
       "    </tr>\n",
       "    <tr>\n",
       "      <th>1</th>\n",
       "      <td>reno / tahoe</td>\n",
       "      <td>1200</td>\n",
       "      <td>condo</td>\n",
       "      <td>1001</td>\n",
       "      <td>2</td>\n",
       "      <td>2.0</td>\n",
       "      <td>0</td>\n",
       "      <td>0</td>\n",
       "      <td>w/d hookups</td>\n",
       "      <td>carport</td>\n",
       "    </tr>\n",
       "    <tr>\n",
       "      <th>2</th>\n",
       "      <td>reno / tahoe</td>\n",
       "      <td>1813</td>\n",
       "      <td>apartment</td>\n",
       "      <td>1683</td>\n",
       "      <td>2</td>\n",
       "      <td>2.0</td>\n",
       "      <td>1</td>\n",
       "      <td>1</td>\n",
       "      <td>w/d in unit</td>\n",
       "      <td>attached garage</td>\n",
       "    </tr>\n",
       "    <tr>\n",
       "      <th>3</th>\n",
       "      <td>reno / tahoe</td>\n",
       "      <td>1095</td>\n",
       "      <td>apartment</td>\n",
       "      <td>708</td>\n",
       "      <td>1</td>\n",
       "      <td>1.0</td>\n",
       "      <td>1</td>\n",
       "      <td>1</td>\n",
       "      <td>w/d in unit</td>\n",
       "      <td>carport</td>\n",
       "    </tr>\n",
       "    <tr>\n",
       "      <th>4</th>\n",
       "      <td>reno / tahoe</td>\n",
       "      <td>289</td>\n",
       "      <td>apartment</td>\n",
       "      <td>250</td>\n",
       "      <td>0</td>\n",
       "      <td>1.0</td>\n",
       "      <td>1</td>\n",
       "      <td>1</td>\n",
       "      <td>laundry on site</td>\n",
       "      <td>off-street parking</td>\n",
       "    </tr>\n",
       "    <tr>\n",
       "      <th>...</th>\n",
       "      <td>...</td>\n",
       "      <td>...</td>\n",
       "      <td>...</td>\n",
       "      <td>...</td>\n",
       "      <td>...</td>\n",
       "      <td>...</td>\n",
       "      <td>...</td>\n",
       "      <td>...</td>\n",
       "      <td>...</td>\n",
       "      <td>...</td>\n",
       "    </tr>\n",
       "    <tr>\n",
       "      <th>384972</th>\n",
       "      <td>reno / tahoe</td>\n",
       "      <td>1295</td>\n",
       "      <td>apartment</td>\n",
       "      <td>957</td>\n",
       "      <td>2</td>\n",
       "      <td>2.0</td>\n",
       "      <td>1</td>\n",
       "      <td>1</td>\n",
       "      <td>w/d in unit</td>\n",
       "      <td>carport</td>\n",
       "    </tr>\n",
       "    <tr>\n",
       "      <th>384973</th>\n",
       "      <td>reno / tahoe</td>\n",
       "      <td>1549</td>\n",
       "      <td>apartment</td>\n",
       "      <td>1034</td>\n",
       "      <td>2</td>\n",
       "      <td>2.0</td>\n",
       "      <td>1</td>\n",
       "      <td>0</td>\n",
       "      <td>w/d in unit</td>\n",
       "      <td>off-street parking</td>\n",
       "    </tr>\n",
       "    <tr>\n",
       "      <th>384974</th>\n",
       "      <td>reno / tahoe</td>\n",
       "      <td>1249</td>\n",
       "      <td>apartment</td>\n",
       "      <td>840</td>\n",
       "      <td>2</td>\n",
       "      <td>1.0</td>\n",
       "      <td>1</td>\n",
       "      <td>1</td>\n",
       "      <td>laundry on site</td>\n",
       "      <td>off-street parking</td>\n",
       "    </tr>\n",
       "    <tr>\n",
       "      <th>384975</th>\n",
       "      <td>reno / tahoe</td>\n",
       "      <td>1429</td>\n",
       "      <td>apartment</td>\n",
       "      <td>976</td>\n",
       "      <td>2</td>\n",
       "      <td>2.0</td>\n",
       "      <td>1</td>\n",
       "      <td>1</td>\n",
       "      <td>w/d in unit</td>\n",
       "      <td>carport</td>\n",
       "    </tr>\n",
       "    <tr>\n",
       "      <th>384976</th>\n",
       "      <td>reno / tahoe</td>\n",
       "      <td>1295</td>\n",
       "      <td>apartment</td>\n",
       "      <td>957</td>\n",
       "      <td>2</td>\n",
       "      <td>2.0</td>\n",
       "      <td>1</td>\n",
       "      <td>1</td>\n",
       "      <td>w/d in unit</td>\n",
       "      <td>carport</td>\n",
       "    </tr>\n",
       "  </tbody>\n",
       "</table>\n",
       "<p>372658 rows × 10 columns</p>\n",
       "</div>"
      ],
      "text/plain": [
       "              region  price       type  sqfeet  beds  baths  pets_allowed  \\\n",
       "0       reno / tahoe   1148  apartment    1078     3    2.0             1   \n",
       "1       reno / tahoe   1200      condo    1001     2    2.0             0   \n",
       "2       reno / tahoe   1813  apartment    1683     2    2.0             1   \n",
       "3       reno / tahoe   1095  apartment     708     1    1.0             1   \n",
       "4       reno / tahoe    289  apartment     250     0    1.0             1   \n",
       "...              ...    ...        ...     ...   ...    ...           ...   \n",
       "384972  reno / tahoe   1295  apartment     957     2    2.0             1   \n",
       "384973  reno / tahoe   1549  apartment    1034     2    2.0             1   \n",
       "384974  reno / tahoe   1249  apartment     840     2    1.0             1   \n",
       "384975  reno / tahoe   1429  apartment     976     2    2.0             1   \n",
       "384976  reno / tahoe   1295  apartment     957     2    2.0             1   \n",
       "\n",
       "        smoking_allowed  laundry_options     parking_options  \n",
       "0                     0      w/d in unit             carport  \n",
       "1                     0      w/d hookups             carport  \n",
       "2                     1      w/d in unit     attached garage  \n",
       "3                     1      w/d in unit             carport  \n",
       "4                     1  laundry on site  off-street parking  \n",
       "...                 ...              ...                 ...  \n",
       "384972                1      w/d in unit             carport  \n",
       "384973                0      w/d in unit  off-street parking  \n",
       "384974                1  laundry on site  off-street parking  \n",
       "384975                1      w/d in unit             carport  \n",
       "384976                1      w/d in unit             carport  \n",
       "\n",
       "[372658 rows x 10 columns]"
      ]
     },
     "execution_count": 75,
     "metadata": {},
     "output_type": "execute_result"
    }
   ],
   "source": [
    "# df4[\"state\"]=le.fit_transform(df4[\"state\"])\n",
    "df6"
   ]
  },
  {
   "cell_type": "markdown",
   "metadata": {},
   "source": [
    "## One Hot Encoding using column transformer"
   ]
  },
  {
   "cell_type": "code",
   "execution_count": 76,
   "metadata": {},
   "outputs": [],
   "source": [
    "from sklearn.preprocessing import OneHotEncoder\n",
    "from sklearn.compose import make_column_transformer"
   ]
  },
  {
   "cell_type": "code",
   "execution_count": 77,
   "metadata": {
    "scrolled": true
   },
   "outputs": [],
   "source": [
    "column_trans = make_column_transformer(\n",
    "(OneHotEncoder(),['region','type','laundry_options','parking_options']),remainder='passthrough')"
   ]
  },
  {
   "cell_type": "code",
   "execution_count": 78,
   "metadata": {},
   "outputs": [],
   "source": [
    "x=df6.drop(columns=[\"price\"])\n",
    "y=df6[\"price\"]"
   ]
  },
  {
   "cell_type": "code",
   "execution_count": 79,
   "metadata": {
    "scrolled": true
   },
   "outputs": [],
   "source": [
    "x = column_trans.fit_transform(x).toarray()"
   ]
  },
  {
   "cell_type": "code",
   "execution_count": 80,
   "metadata": {},
   "outputs": [
    {
     "data": {
      "text/plain": [
       "(372658, 348)"
      ]
     },
     "execution_count": 80,
     "metadata": {},
     "output_type": "execute_result"
    }
   ],
   "source": [
    "x.shape"
   ]
  },
  {
   "cell_type": "markdown",
   "metadata": {},
   "source": [
    "### Train Test Split"
   ]
  },
  {
   "cell_type": "code",
   "execution_count": 81,
   "metadata": {},
   "outputs": [],
   "source": [
    "from sklearn.model_selection import train_test_split"
   ]
  },
  {
   "cell_type": "code",
   "execution_count": 82,
   "metadata": {},
   "outputs": [],
   "source": [
    "x_train, x_test, y_train, y_test = train_test_split(x,y,test_size = 0.20,random_state=0)"
   ]
  },
  {
   "cell_type": "code",
   "execution_count": null,
   "metadata": {},
   "outputs": [],
   "source": [
    "# x_train.shape()"
   ]
  },
  {
   "cell_type": "code",
   "execution_count": 83,
   "metadata": {},
   "outputs": [],
   "source": [
    "from sklearn.model_selection import ShuffleSplit\n",
    "from sklearn.model_selection import GridSearchCV\n",
    "from sklearn.linear_model import LinearRegression\n",
    "from sklearn.linear_model import Lasso\n",
    "from sklearn.tree import DecisionTreeRegressor\n",
    "from sklearn.ensemble import RandomForestClassifier\n",
    "from sklearn.ensemble import RandomForestRegressor\n",
    "from sklearn.model_selection import cross_val_score\n"
   ]
  },
  {
   "cell_type": "markdown",
   "metadata": {},
   "source": [
    "### Train our model using Linear Regression first just to get fast baseline estimate of a simple model"
   ]
  },
  {
   "cell_type": "code",
   "execution_count": 84,
   "metadata": {
    "scrolled": true
   },
   "outputs": [
    {
     "data": {
      "text/plain": [
       "0.6606543547584811"
      ]
     },
     "execution_count": 84,
     "metadata": {},
     "output_type": "execute_result"
    }
   ],
   "source": [
    "lr_clf = LinearRegression()\n",
    "lr_clf.fit(x_train,y_train)\n",
    "lr_clf.score(x_test,y_test)"
   ]
  },
  {
   "cell_type": "code",
   "execution_count": 87,
   "metadata": {},
   "outputs": [],
   "source": [
    "def find_best_model_using_gridsearchcv(x,y):\n",
    "    algos = {\n",
    "        'linear_regression' : {\n",
    "            'model': LinearRegression(),\n",
    "            'params': {\n",
    "                'normalize': [True, False]\n",
    "            }\n",
    "        },\n",
    "        'lasso': {\n",
    "            'model': Lasso(),\n",
    "            'params': {\n",
    "                'alpha': [1,2],\n",
    "                'selection': ['random', 'cyclic']\n",
    "            }\n",
    "        },\n",
    "        'decision_tree': {\n",
    "            'model': DecisionTreeRegressor(),\n",
    "            'params': {\n",
    "                'criterion' : ['mse','friedman_mse'],\n",
    "                'splitter': ['best','random']\n",
    "            }\n",
    "    }\n",
    "    scores = []\n",
    "    cv = ShuffleSplit(n_splits=3, test_size=0.2, random_state=0)\n",
    "    for algo_name, config in algos.items():\n",
    "        gs =  GridSearchCV(config['model'], config['params'], cv=cv, return_train_score=False)\n",
    "        gs.fit(x,y)\n",
    "        scores.append({\n",
    "            'model': algo_name,\n",
    "            'best_score': gs.best_score_,\n",
    "            'best_params': gs.best_params_\n",
    "        })\n",
    "\n",
    "    return pd.DataFrame(scores,columns=['model','best_score','best_params'])\n",
    "\n"
   ]
  },
  {
   "cell_type": "code",
   "execution_count": 89,
   "metadata": {},
   "outputs": [
    {
     "data": {
      "text/html": [
       "<div>\n",
       "<style scoped>\n",
       "    .dataframe tbody tr th:only-of-type {\n",
       "        vertical-align: middle;\n",
       "    }\n",
       "\n",
       "    .dataframe tbody tr th {\n",
       "        vertical-align: top;\n",
       "    }\n",
       "\n",
       "    .dataframe thead th {\n",
       "        text-align: right;\n",
       "    }\n",
       "</style>\n",
       "<table border=\"1\" class=\"dataframe\">\n",
       "  <thead>\n",
       "    <tr style=\"text-align: right;\">\n",
       "      <th></th>\n",
       "      <th>model</th>\n",
       "      <th>best_score</th>\n",
       "      <th>best_params</th>\n",
       "    </tr>\n",
       "  </thead>\n",
       "  <tbody>\n",
       "    <tr>\n",
       "      <th>0</th>\n",
       "      <td>linear_regression</td>\n",
       "      <td>0.662116</td>\n",
       "      <td>{'normalize': False}</td>\n",
       "    </tr>\n",
       "    <tr>\n",
       "      <th>1</th>\n",
       "      <td>lasso</td>\n",
       "      <td>0.557975</td>\n",
       "      <td>{'alpha': 1, 'selection': 'random'}</td>\n",
       "    </tr>\n",
       "    <tr>\n",
       "      <th>2</th>\n",
       "      <td>decision_tree</td>\n",
       "      <td>0.730536</td>\n",
       "      <td>{'criterion': 'mse', 'splitter': 'random'}</td>\n",
       "    </tr>\n",
       "  </tbody>\n",
       "</table>\n",
       "</div>"
      ],
      "text/plain": [
       "               model  best_score                                 best_params\n",
       "0  linear_regression    0.662116                        {'normalize': False}\n",
       "1              lasso    0.557975         {'alpha': 1, 'selection': 'random'}\n",
       "2      decision_tree    0.730536  {'criterion': 'mse', 'splitter': 'random'}"
      ]
     },
     "execution_count": 89,
     "metadata": {},
     "output_type": "execute_result"
    }
   ],
   "source": [
    "find_best_model_using_gridsearchcv(x,y) \n"
   ]
  },
  {
   "cell_type": "markdown",
   "metadata": {},
   "source": [
    "None of these models predicted very well, let's try using a Random Forest Regressor, we will use a grid search again to get the best model for our predictions"
   ]
  },
  {
   "cell_type": "code",
   "execution_count": null,
   "metadata": {},
   "outputs": [],
   "source": [
    "# If we were just making one instance of a default Random Forest Regressor:\n",
    "# rf_clf = RandomForestRegressor()\n",
    "# rf_clf.fit(x_train,y_train)\n",
    "# rf_clf.score(x_test,y_test)"
   ]
  },
  {
   "cell_type": "markdown",
   "metadata": {},
   "source": [
    "### Hyper tuning Random Forest and Cross Validating with Gridsearch\n",
    "\n",
    "**Do not** run ths gridsearch at home as it is very expensive and will take over a day to run the gridsearch. I did it for you so you can just look at the results in the csv. A downside to this model is that RandomForest takes a long time to train since we have  over 370,000 records and 349 categorical features we are training it on. Even just one instance of a training will take hours on the CPU as it preforms matrix calculations. This would have been easier if we just ran it on one region, which you can do at home. Just drop the other regions in your dataframe. This was done purely as a side project and to test the limits of my CPU and resources. You can look at the time it took for each instance to run within the provided CSV."
   ]
  },
  {
   "cell_type": "code",
   "execution_count": 96,
   "metadata": {},
   "outputs": [],
   "source": [
    "cv = ShuffleSplit(n_splits=3, test_size=0.2, random_state=0)\n",
    "\n",
    "gridsearch = GridSearchCV(RandomForestRegressor(warm_start=True, n_jobs=-1),{\n",
    "    'n_estimators':[90, 100, 150],\n",
    "    'oob_score' : [True, False],\n",
    "    'min_impurity_decrease':[0, .25, 1]\n",
    "},cv=cv)\n",
    "\n"
   ]
  },
  {
   "cell_type": "code",
   "execution_count": 97,
   "metadata": {},
   "outputs": [
    {
     "data": {
      "text/plain": [
       "GridSearchCV(cv=ShuffleSplit(n_splits=3, random_state=0, test_size=0.2, train_size=None),\n",
       "             estimator=RandomForestRegressor(n_jobs=-1, warm_start=True),\n",
       "             param_grid={'min_impurity_decrease': [0, 0.25, 1],\n",
       "                         'n_estimators': [90, 100, 150],\n",
       "                         'oob_score': [True, False]})"
      ]
     },
     "execution_count": 97,
     "metadata": {},
     "output_type": "execute_result"
    }
   ],
   "source": [
    "gridsearch.fit(x, y)"
   ]
  },
  {
   "cell_type": "code",
   "execution_count": 98,
   "metadata": {},
   "outputs": [
    {
     "data": {
      "text/plain": [
       "{'mean_fit_time': array([1974.81383745, 1947.62862221, 2040.67599567, 1937.21129815,\n",
       "        2917.44835981, 2900.32530785, 1751.49001296, 1855.72506364,\n",
       "        1968.33166774, 1942.76784952, 2630.18886312, 3561.00702381,\n",
       "        2266.18220949, 1894.08255545, 1666.76366576, 1647.91212034,\n",
       "        2493.98917135, 2470.92663519]),\n",
       " 'std_fit_time': array([ 14.30622149,   7.92978417,  47.01363967,  13.81009397,\n",
       "         26.04416014,  16.41065688,   8.89691213,  22.3509528 ,\n",
       "         10.5062304 ,  13.92469118,  27.96468878, 477.88902539,\n",
       "         83.81637473, 408.28125852,   9.75604778,   7.30925268,\n",
       "         18.90285401,  13.84337282]),\n",
       " 'mean_score_time': array([1.47359284, 1.43198148, 1.45910962, 1.41429122, 2.10205984,\n",
       "        2.13398671, 1.05265133, 1.10324105, 1.18472902, 1.15882881,\n",
       "        1.49800626, 2.31221128, 1.19508489, 0.91247336, 0.75898139,\n",
       "        0.76953983, 1.13802751, 1.12110774]),\n",
       " 'std_score_time': array([0.01719626, 0.00484996, 0.05501591, 0.01341026, 0.05537511,\n",
       "        0.04523811, 0.01705003, 0.0084816 , 0.01164624, 0.01396224,\n",
       "        0.02733627, 0.28735062, 0.05202668, 0.26923442, 0.01654223,\n",
       "        0.0290659 , 0.01414868, 0.017996  ]),\n",
       " 'param_min_impurity_decrease': masked_array(data=[0, 0, 0, 0, 0, 0, 0.25, 0.25, 0.25, 0.25, 0.25, 0.25,\n",
       "                    1, 1, 1, 1, 1, 1],\n",
       "              mask=[False, False, False, False, False, False, False, False,\n",
       "                    False, False, False, False, False, False, False, False,\n",
       "                    False, False],\n",
       "        fill_value='?',\n",
       "             dtype=object),\n",
       " 'param_n_estimators': masked_array(data=[90, 90, 100, 100, 150, 150, 90, 90, 100, 100, 150, 150,\n",
       "                    90, 90, 100, 100, 150, 150],\n",
       "              mask=[False, False, False, False, False, False, False, False,\n",
       "                    False, False, False, False, False, False, False, False,\n",
       "                    False, False],\n",
       "        fill_value='?',\n",
       "             dtype=object),\n",
       " 'param_oob_score': masked_array(data=[True, False, True, False, True, False, True, False,\n",
       "                    True, False, True, False, True, False, True, False,\n",
       "                    True, False],\n",
       "              mask=[False, False, False, False, False, False, False, False,\n",
       "                    False, False, False, False, False, False, False, False,\n",
       "                    False, False],\n",
       "        fill_value='?',\n",
       "             dtype=object),\n",
       " 'params': [{'min_impurity_decrease': 0,\n",
       "   'n_estimators': 90,\n",
       "   'oob_score': True},\n",
       "  {'min_impurity_decrease': 0, 'n_estimators': 90, 'oob_score': False},\n",
       "  {'min_impurity_decrease': 0, 'n_estimators': 100, 'oob_score': True},\n",
       "  {'min_impurity_decrease': 0, 'n_estimators': 100, 'oob_score': False},\n",
       "  {'min_impurity_decrease': 0, 'n_estimators': 150, 'oob_score': True},\n",
       "  {'min_impurity_decrease': 0, 'n_estimators': 150, 'oob_score': False},\n",
       "  {'min_impurity_decrease': 0.25, 'n_estimators': 90, 'oob_score': True},\n",
       "  {'min_impurity_decrease': 0.25, 'n_estimators': 90, 'oob_score': False},\n",
       "  {'min_impurity_decrease': 0.25, 'n_estimators': 100, 'oob_score': True},\n",
       "  {'min_impurity_decrease': 0.25, 'n_estimators': 100, 'oob_score': False},\n",
       "  {'min_impurity_decrease': 0.25, 'n_estimators': 150, 'oob_score': True},\n",
       "  {'min_impurity_decrease': 0.25, 'n_estimators': 150, 'oob_score': False},\n",
       "  {'min_impurity_decrease': 1, 'n_estimators': 90, 'oob_score': True},\n",
       "  {'min_impurity_decrease': 1, 'n_estimators': 90, 'oob_score': False},\n",
       "  {'min_impurity_decrease': 1, 'n_estimators': 100, 'oob_score': True},\n",
       "  {'min_impurity_decrease': 1, 'n_estimators': 100, 'oob_score': False},\n",
       "  {'min_impurity_decrease': 1, 'n_estimators': 150, 'oob_score': True},\n",
       "  {'min_impurity_decrease': 1, 'n_estimators': 150, 'oob_score': False}],\n",
       " 'split0_test_score': array([0.82127454, 0.82217812, 0.82098436, 0.82232734, 0.82181291,\n",
       "        0.82281696, 0.82028698, 0.82051358, 0.82129271, 0.82054612,\n",
       "        0.82107471, 0.8216024 , 0.81155898, 0.81125824, 0.81302071,\n",
       "        0.81231591, 0.81203394, 0.81263212]),\n",
       " 'split1_test_score': array([0.81981291, 0.81837526, 0.81861154, 0.81873905, 0.81896574,\n",
       "        0.81855628, 0.81729759, 0.81775032, 0.81723219, 0.81632911,\n",
       "        0.8181901 , 0.81832664, 0.80931778, 0.80909034, 0.80952925,\n",
       "        0.81054734, 0.81031501, 0.80973751]),\n",
       " 'split2_test_score': array([0.82291842, 0.8253098 , 0.82442188, 0.82427962, 0.82503383,\n",
       "        0.82491749, 0.82199785, 0.82272292, 0.82244318, 0.82229736,\n",
       "        0.82246237, 0.82324685, 0.81453879, 0.81299399, 0.81535461,\n",
       "        0.81427684, 0.81481382, 0.81468416]),\n",
       " 'mean_test_score': array([0.82133529, 0.82195439, 0.82133926, 0.821782  , 0.82193749,\n",
       "        0.82209691, 0.81986081, 0.82032894, 0.82032269, 0.8197242 ,\n",
       "        0.82057573, 0.82105863, 0.81180518, 0.81111419, 0.81263486,\n",
       "        0.81238003, 0.81238759, 0.81235126]),\n",
       " 'std_test_score': array([0.00126854, 0.00283543, 0.0023853 , 0.00229456, 0.00247885,\n",
       "        0.00264639, 0.00194239, 0.00203425, 0.00223522, 0.00250488,\n",
       "        0.00177948, 0.00204513, 0.00213857, 0.00159691, 0.0023938 ,\n",
       "        0.00152324, 0.00185358, 0.0020292 ]),\n",
       " 'rank_test_score': array([ 6,  2,  5,  4,  3,  1, 11,  9, 10, 12,  8,  7, 17, 18, 13, 15, 14,\n",
       "        16])}"
      ]
     },
     "execution_count": 98,
     "metadata": {},
     "output_type": "execute_result"
    }
   ],
   "source": [
    "gridsearch.cv_results_"
   ]
  },
  {
   "cell_type": "code",
   "execution_count": 101,
   "metadata": {},
   "outputs": [
    {
     "data": {
      "text/plain": [
       "0.8220969084146441"
      ]
     },
     "execution_count": 101,
     "metadata": {},
     "output_type": "execute_result"
    }
   ],
   "source": [
    "gridsearch.best_score_"
   ]
  },
  {
   "cell_type": "code",
   "execution_count": 102,
   "metadata": {},
   "outputs": [
    {
     "data": {
      "text/plain": [
       "{'min_impurity_decrease': 0, 'n_estimators': 150, 'oob_score': False}"
      ]
     },
     "execution_count": 102,
     "metadata": {},
     "output_type": "execute_result"
    }
   ],
   "source": [
    "gridsearch.best_params_"
   ]
  },
  {
   "cell_type": "code",
   "execution_count": 103,
   "metadata": {},
   "outputs": [],
   "source": [
    "results = pd.DataFrame(gridsearch.cv_results_)"
   ]
  },
  {
   "cell_type": "code",
   "execution_count": 104,
   "metadata": {},
   "outputs": [
    {
     "data": {
      "text/html": [
       "<div>\n",
       "<style scoped>\n",
       "    .dataframe tbody tr th:only-of-type {\n",
       "        vertical-align: middle;\n",
       "    }\n",
       "\n",
       "    .dataframe tbody tr th {\n",
       "        vertical-align: top;\n",
       "    }\n",
       "\n",
       "    .dataframe thead th {\n",
       "        text-align: right;\n",
       "    }\n",
       "</style>\n",
       "<table border=\"1\" class=\"dataframe\">\n",
       "  <thead>\n",
       "    <tr style=\"text-align: right;\">\n",
       "      <th></th>\n",
       "      <th>mean_fit_time</th>\n",
       "      <th>std_fit_time</th>\n",
       "      <th>mean_score_time</th>\n",
       "      <th>std_score_time</th>\n",
       "      <th>param_min_impurity_decrease</th>\n",
       "      <th>param_n_estimators</th>\n",
       "      <th>param_oob_score</th>\n",
       "      <th>params</th>\n",
       "      <th>split0_test_score</th>\n",
       "      <th>split1_test_score</th>\n",
       "      <th>split2_test_score</th>\n",
       "      <th>mean_test_score</th>\n",
       "      <th>std_test_score</th>\n",
       "      <th>rank_test_score</th>\n",
       "    </tr>\n",
       "  </thead>\n",
       "  <tbody>\n",
       "    <tr>\n",
       "      <th>0</th>\n",
       "      <td>1974.813837</td>\n",
       "      <td>14.306221</td>\n",
       "      <td>1.473593</td>\n",
       "      <td>0.017196</td>\n",
       "      <td>0</td>\n",
       "      <td>90</td>\n",
       "      <td>True</td>\n",
       "      <td>{'min_impurity_decrease': 0, 'n_estimators': 9...</td>\n",
       "      <td>0.821275</td>\n",
       "      <td>0.819813</td>\n",
       "      <td>0.822918</td>\n",
       "      <td>0.821335</td>\n",
       "      <td>0.001269</td>\n",
       "      <td>6</td>\n",
       "    </tr>\n",
       "    <tr>\n",
       "      <th>1</th>\n",
       "      <td>1947.628622</td>\n",
       "      <td>7.929784</td>\n",
       "      <td>1.431981</td>\n",
       "      <td>0.004850</td>\n",
       "      <td>0</td>\n",
       "      <td>90</td>\n",
       "      <td>False</td>\n",
       "      <td>{'min_impurity_decrease': 0, 'n_estimators': 9...</td>\n",
       "      <td>0.822178</td>\n",
       "      <td>0.818375</td>\n",
       "      <td>0.825310</td>\n",
       "      <td>0.821954</td>\n",
       "      <td>0.002835</td>\n",
       "      <td>2</td>\n",
       "    </tr>\n",
       "    <tr>\n",
       "      <th>2</th>\n",
       "      <td>2040.675996</td>\n",
       "      <td>47.013640</td>\n",
       "      <td>1.459110</td>\n",
       "      <td>0.055016</td>\n",
       "      <td>0</td>\n",
       "      <td>100</td>\n",
       "      <td>True</td>\n",
       "      <td>{'min_impurity_decrease': 0, 'n_estimators': 1...</td>\n",
       "      <td>0.820984</td>\n",
       "      <td>0.818612</td>\n",
       "      <td>0.824422</td>\n",
       "      <td>0.821339</td>\n",
       "      <td>0.002385</td>\n",
       "      <td>5</td>\n",
       "    </tr>\n",
       "    <tr>\n",
       "      <th>3</th>\n",
       "      <td>1937.211298</td>\n",
       "      <td>13.810094</td>\n",
       "      <td>1.414291</td>\n",
       "      <td>0.013410</td>\n",
       "      <td>0</td>\n",
       "      <td>100</td>\n",
       "      <td>False</td>\n",
       "      <td>{'min_impurity_decrease': 0, 'n_estimators': 1...</td>\n",
       "      <td>0.822327</td>\n",
       "      <td>0.818739</td>\n",
       "      <td>0.824280</td>\n",
       "      <td>0.821782</td>\n",
       "      <td>0.002295</td>\n",
       "      <td>4</td>\n",
       "    </tr>\n",
       "    <tr>\n",
       "      <th>4</th>\n",
       "      <td>2917.448360</td>\n",
       "      <td>26.044160</td>\n",
       "      <td>2.102060</td>\n",
       "      <td>0.055375</td>\n",
       "      <td>0</td>\n",
       "      <td>150</td>\n",
       "      <td>True</td>\n",
       "      <td>{'min_impurity_decrease': 0, 'n_estimators': 1...</td>\n",
       "      <td>0.821813</td>\n",
       "      <td>0.818966</td>\n",
       "      <td>0.825034</td>\n",
       "      <td>0.821937</td>\n",
       "      <td>0.002479</td>\n",
       "      <td>3</td>\n",
       "    </tr>\n",
       "    <tr>\n",
       "      <th>5</th>\n",
       "      <td>2900.325308</td>\n",
       "      <td>16.410657</td>\n",
       "      <td>2.133987</td>\n",
       "      <td>0.045238</td>\n",
       "      <td>0</td>\n",
       "      <td>150</td>\n",
       "      <td>False</td>\n",
       "      <td>{'min_impurity_decrease': 0, 'n_estimators': 1...</td>\n",
       "      <td>0.822817</td>\n",
       "      <td>0.818556</td>\n",
       "      <td>0.824917</td>\n",
       "      <td>0.822097</td>\n",
       "      <td>0.002646</td>\n",
       "      <td>1</td>\n",
       "    </tr>\n",
       "    <tr>\n",
       "      <th>6</th>\n",
       "      <td>1751.490013</td>\n",
       "      <td>8.896912</td>\n",
       "      <td>1.052651</td>\n",
       "      <td>0.017050</td>\n",
       "      <td>0.25</td>\n",
       "      <td>90</td>\n",
       "      <td>True</td>\n",
       "      <td>{'min_impurity_decrease': 0.25, 'n_estimators'...</td>\n",
       "      <td>0.820287</td>\n",
       "      <td>0.817298</td>\n",
       "      <td>0.821998</td>\n",
       "      <td>0.819861</td>\n",
       "      <td>0.001942</td>\n",
       "      <td>11</td>\n",
       "    </tr>\n",
       "    <tr>\n",
       "      <th>7</th>\n",
       "      <td>1855.725064</td>\n",
       "      <td>22.350953</td>\n",
       "      <td>1.103241</td>\n",
       "      <td>0.008482</td>\n",
       "      <td>0.25</td>\n",
       "      <td>90</td>\n",
       "      <td>False</td>\n",
       "      <td>{'min_impurity_decrease': 0.25, 'n_estimators'...</td>\n",
       "      <td>0.820514</td>\n",
       "      <td>0.817750</td>\n",
       "      <td>0.822723</td>\n",
       "      <td>0.820329</td>\n",
       "      <td>0.002034</td>\n",
       "      <td>9</td>\n",
       "    </tr>\n",
       "    <tr>\n",
       "      <th>8</th>\n",
       "      <td>1968.331668</td>\n",
       "      <td>10.506230</td>\n",
       "      <td>1.184729</td>\n",
       "      <td>0.011646</td>\n",
       "      <td>0.25</td>\n",
       "      <td>100</td>\n",
       "      <td>True</td>\n",
       "      <td>{'min_impurity_decrease': 0.25, 'n_estimators'...</td>\n",
       "      <td>0.821293</td>\n",
       "      <td>0.817232</td>\n",
       "      <td>0.822443</td>\n",
       "      <td>0.820323</td>\n",
       "      <td>0.002235</td>\n",
       "      <td>10</td>\n",
       "    </tr>\n",
       "    <tr>\n",
       "      <th>9</th>\n",
       "      <td>1942.767850</td>\n",
       "      <td>13.924691</td>\n",
       "      <td>1.158829</td>\n",
       "      <td>0.013962</td>\n",
       "      <td>0.25</td>\n",
       "      <td>100</td>\n",
       "      <td>False</td>\n",
       "      <td>{'min_impurity_decrease': 0.25, 'n_estimators'...</td>\n",
       "      <td>0.820546</td>\n",
       "      <td>0.816329</td>\n",
       "      <td>0.822297</td>\n",
       "      <td>0.819724</td>\n",
       "      <td>0.002505</td>\n",
       "      <td>12</td>\n",
       "    </tr>\n",
       "    <tr>\n",
       "      <th>10</th>\n",
       "      <td>2630.188863</td>\n",
       "      <td>27.964689</td>\n",
       "      <td>1.498006</td>\n",
       "      <td>0.027336</td>\n",
       "      <td>0.25</td>\n",
       "      <td>150</td>\n",
       "      <td>True</td>\n",
       "      <td>{'min_impurity_decrease': 0.25, 'n_estimators'...</td>\n",
       "      <td>0.821075</td>\n",
       "      <td>0.818190</td>\n",
       "      <td>0.822462</td>\n",
       "      <td>0.820576</td>\n",
       "      <td>0.001779</td>\n",
       "      <td>8</td>\n",
       "    </tr>\n",
       "    <tr>\n",
       "      <th>11</th>\n",
       "      <td>3561.007024</td>\n",
       "      <td>477.889025</td>\n",
       "      <td>2.312211</td>\n",
       "      <td>0.287351</td>\n",
       "      <td>0.25</td>\n",
       "      <td>150</td>\n",
       "      <td>False</td>\n",
       "      <td>{'min_impurity_decrease': 0.25, 'n_estimators'...</td>\n",
       "      <td>0.821602</td>\n",
       "      <td>0.818327</td>\n",
       "      <td>0.823247</td>\n",
       "      <td>0.821059</td>\n",
       "      <td>0.002045</td>\n",
       "      <td>7</td>\n",
       "    </tr>\n",
       "    <tr>\n",
       "      <th>12</th>\n",
       "      <td>2266.182209</td>\n",
       "      <td>83.816375</td>\n",
       "      <td>1.195085</td>\n",
       "      <td>0.052027</td>\n",
       "      <td>1</td>\n",
       "      <td>90</td>\n",
       "      <td>True</td>\n",
       "      <td>{'min_impurity_decrease': 1, 'n_estimators': 9...</td>\n",
       "      <td>0.811559</td>\n",
       "      <td>0.809318</td>\n",
       "      <td>0.814539</td>\n",
       "      <td>0.811805</td>\n",
       "      <td>0.002139</td>\n",
       "      <td>17</td>\n",
       "    </tr>\n",
       "    <tr>\n",
       "      <th>13</th>\n",
       "      <td>1894.082555</td>\n",
       "      <td>408.281259</td>\n",
       "      <td>0.912473</td>\n",
       "      <td>0.269234</td>\n",
       "      <td>1</td>\n",
       "      <td>90</td>\n",
       "      <td>False</td>\n",
       "      <td>{'min_impurity_decrease': 1, 'n_estimators': 9...</td>\n",
       "      <td>0.811258</td>\n",
       "      <td>0.809090</td>\n",
       "      <td>0.812994</td>\n",
       "      <td>0.811114</td>\n",
       "      <td>0.001597</td>\n",
       "      <td>18</td>\n",
       "    </tr>\n",
       "    <tr>\n",
       "      <th>14</th>\n",
       "      <td>1666.763666</td>\n",
       "      <td>9.756048</td>\n",
       "      <td>0.758981</td>\n",
       "      <td>0.016542</td>\n",
       "      <td>1</td>\n",
       "      <td>100</td>\n",
       "      <td>True</td>\n",
       "      <td>{'min_impurity_decrease': 1, 'n_estimators': 1...</td>\n",
       "      <td>0.813021</td>\n",
       "      <td>0.809529</td>\n",
       "      <td>0.815355</td>\n",
       "      <td>0.812635</td>\n",
       "      <td>0.002394</td>\n",
       "      <td>13</td>\n",
       "    </tr>\n",
       "    <tr>\n",
       "      <th>15</th>\n",
       "      <td>1647.912120</td>\n",
       "      <td>7.309253</td>\n",
       "      <td>0.769540</td>\n",
       "      <td>0.029066</td>\n",
       "      <td>1</td>\n",
       "      <td>100</td>\n",
       "      <td>False</td>\n",
       "      <td>{'min_impurity_decrease': 1, 'n_estimators': 1...</td>\n",
       "      <td>0.812316</td>\n",
       "      <td>0.810547</td>\n",
       "      <td>0.814277</td>\n",
       "      <td>0.812380</td>\n",
       "      <td>0.001523</td>\n",
       "      <td>15</td>\n",
       "    </tr>\n",
       "    <tr>\n",
       "      <th>16</th>\n",
       "      <td>2493.989171</td>\n",
       "      <td>18.902854</td>\n",
       "      <td>1.138028</td>\n",
       "      <td>0.014149</td>\n",
       "      <td>1</td>\n",
       "      <td>150</td>\n",
       "      <td>True</td>\n",
       "      <td>{'min_impurity_decrease': 1, 'n_estimators': 1...</td>\n",
       "      <td>0.812034</td>\n",
       "      <td>0.810315</td>\n",
       "      <td>0.814814</td>\n",
       "      <td>0.812388</td>\n",
       "      <td>0.001854</td>\n",
       "      <td>14</td>\n",
       "    </tr>\n",
       "    <tr>\n",
       "      <th>17</th>\n",
       "      <td>2470.926635</td>\n",
       "      <td>13.843373</td>\n",
       "      <td>1.121108</td>\n",
       "      <td>0.017996</td>\n",
       "      <td>1</td>\n",
       "      <td>150</td>\n",
       "      <td>False</td>\n",
       "      <td>{'min_impurity_decrease': 1, 'n_estimators': 1...</td>\n",
       "      <td>0.812632</td>\n",
       "      <td>0.809738</td>\n",
       "      <td>0.814684</td>\n",
       "      <td>0.812351</td>\n",
       "      <td>0.002029</td>\n",
       "      <td>16</td>\n",
       "    </tr>\n",
       "  </tbody>\n",
       "</table>\n",
       "</div>"
      ],
      "text/plain": [
       "    mean_fit_time  std_fit_time  mean_score_time  std_score_time  \\\n",
       "0     1974.813837     14.306221         1.473593        0.017196   \n",
       "1     1947.628622      7.929784         1.431981        0.004850   \n",
       "2     2040.675996     47.013640         1.459110        0.055016   \n",
       "3     1937.211298     13.810094         1.414291        0.013410   \n",
       "4     2917.448360     26.044160         2.102060        0.055375   \n",
       "5     2900.325308     16.410657         2.133987        0.045238   \n",
       "6     1751.490013      8.896912         1.052651        0.017050   \n",
       "7     1855.725064     22.350953         1.103241        0.008482   \n",
       "8     1968.331668     10.506230         1.184729        0.011646   \n",
       "9     1942.767850     13.924691         1.158829        0.013962   \n",
       "10    2630.188863     27.964689         1.498006        0.027336   \n",
       "11    3561.007024    477.889025         2.312211        0.287351   \n",
       "12    2266.182209     83.816375         1.195085        0.052027   \n",
       "13    1894.082555    408.281259         0.912473        0.269234   \n",
       "14    1666.763666      9.756048         0.758981        0.016542   \n",
       "15    1647.912120      7.309253         0.769540        0.029066   \n",
       "16    2493.989171     18.902854         1.138028        0.014149   \n",
       "17    2470.926635     13.843373         1.121108        0.017996   \n",
       "\n",
       "   param_min_impurity_decrease param_n_estimators param_oob_score  \\\n",
       "0                            0                 90            True   \n",
       "1                            0                 90           False   \n",
       "2                            0                100            True   \n",
       "3                            0                100           False   \n",
       "4                            0                150            True   \n",
       "5                            0                150           False   \n",
       "6                         0.25                 90            True   \n",
       "7                         0.25                 90           False   \n",
       "8                         0.25                100            True   \n",
       "9                         0.25                100           False   \n",
       "10                        0.25                150            True   \n",
       "11                        0.25                150           False   \n",
       "12                           1                 90            True   \n",
       "13                           1                 90           False   \n",
       "14                           1                100            True   \n",
       "15                           1                100           False   \n",
       "16                           1                150            True   \n",
       "17                           1                150           False   \n",
       "\n",
       "                                               params  split0_test_score  \\\n",
       "0   {'min_impurity_decrease': 0, 'n_estimators': 9...           0.821275   \n",
       "1   {'min_impurity_decrease': 0, 'n_estimators': 9...           0.822178   \n",
       "2   {'min_impurity_decrease': 0, 'n_estimators': 1...           0.820984   \n",
       "3   {'min_impurity_decrease': 0, 'n_estimators': 1...           0.822327   \n",
       "4   {'min_impurity_decrease': 0, 'n_estimators': 1...           0.821813   \n",
       "5   {'min_impurity_decrease': 0, 'n_estimators': 1...           0.822817   \n",
       "6   {'min_impurity_decrease': 0.25, 'n_estimators'...           0.820287   \n",
       "7   {'min_impurity_decrease': 0.25, 'n_estimators'...           0.820514   \n",
       "8   {'min_impurity_decrease': 0.25, 'n_estimators'...           0.821293   \n",
       "9   {'min_impurity_decrease': 0.25, 'n_estimators'...           0.820546   \n",
       "10  {'min_impurity_decrease': 0.25, 'n_estimators'...           0.821075   \n",
       "11  {'min_impurity_decrease': 0.25, 'n_estimators'...           0.821602   \n",
       "12  {'min_impurity_decrease': 1, 'n_estimators': 9...           0.811559   \n",
       "13  {'min_impurity_decrease': 1, 'n_estimators': 9...           0.811258   \n",
       "14  {'min_impurity_decrease': 1, 'n_estimators': 1...           0.813021   \n",
       "15  {'min_impurity_decrease': 1, 'n_estimators': 1...           0.812316   \n",
       "16  {'min_impurity_decrease': 1, 'n_estimators': 1...           0.812034   \n",
       "17  {'min_impurity_decrease': 1, 'n_estimators': 1...           0.812632   \n",
       "\n",
       "    split1_test_score  split2_test_score  mean_test_score  std_test_score  \\\n",
       "0            0.819813           0.822918         0.821335        0.001269   \n",
       "1            0.818375           0.825310         0.821954        0.002835   \n",
       "2            0.818612           0.824422         0.821339        0.002385   \n",
       "3            0.818739           0.824280         0.821782        0.002295   \n",
       "4            0.818966           0.825034         0.821937        0.002479   \n",
       "5            0.818556           0.824917         0.822097        0.002646   \n",
       "6            0.817298           0.821998         0.819861        0.001942   \n",
       "7            0.817750           0.822723         0.820329        0.002034   \n",
       "8            0.817232           0.822443         0.820323        0.002235   \n",
       "9            0.816329           0.822297         0.819724        0.002505   \n",
       "10           0.818190           0.822462         0.820576        0.001779   \n",
       "11           0.818327           0.823247         0.821059        0.002045   \n",
       "12           0.809318           0.814539         0.811805        0.002139   \n",
       "13           0.809090           0.812994         0.811114        0.001597   \n",
       "14           0.809529           0.815355         0.812635        0.002394   \n",
       "15           0.810547           0.814277         0.812380        0.001523   \n",
       "16           0.810315           0.814814         0.812388        0.001854   \n",
       "17           0.809738           0.814684         0.812351        0.002029   \n",
       "\n",
       "    rank_test_score  \n",
       "0                 6  \n",
       "1                 2  \n",
       "2                 5  \n",
       "3                 4  \n",
       "4                 3  \n",
       "5                 1  \n",
       "6                11  \n",
       "7                 9  \n",
       "8                10  \n",
       "9                12  \n",
       "10                8  \n",
       "11                7  \n",
       "12               17  \n",
       "13               18  \n",
       "14               13  \n",
       "15               15  \n",
       "16               14  \n",
       "17               16  "
      ]
     },
     "execution_count": 104,
     "metadata": {},
     "output_type": "execute_result"
    }
   ],
   "source": [
    "results"
   ]
  },
  {
   "cell_type": "code",
   "execution_count": 105,
   "metadata": {},
   "outputs": [],
   "source": [
    "results.to_csv('random_forest_gridsearch_results.csv', index=False)"
   ]
  },
  {
   "cell_type": "markdown",
   "metadata": {},
   "source": [
    "All of the scores are around 80-82%, we can build our model using the best params, but let's also test some metrics to see how good is our best model, right now: n_estimators = 150.\n",
    "Gridsearch defaults to using the best model's params to make its predictions."
   ]
  },
  {
   "cell_type": "markdown",
   "metadata": {},
   "source": [
    "## Validations"
   ]
  },
  {
   "cell_type": "code",
   "execution_count": 106,
   "metadata": {},
   "outputs": [
    {
     "data": {
      "text/plain": [
       "array([ 912.3136509 , 1074.52638917, 1727.47333333, ..., 1606.13169027,\n",
       "       1263.17852333, 1138.92619271])"
      ]
     },
     "execution_count": 106,
     "metadata": {},
     "output_type": "execute_result"
    }
   ],
   "source": [
    "y_pred=gridsearch.predict(x_test)\n",
    "y_pred"
   ]
  },
  {
   "cell_type": "code",
   "execution_count": 108,
   "metadata": {},
   "outputs": [
    {
     "name": "stdout",
     "output_type": "stream",
     "text": [
      "R^2: 0.9645658193776752\n",
      "Adjusted R^2: 0.9645244088763384\n",
      "MAE: 44.791596843901395\n",
      "MSE: 11848.921629628285\n",
      "RMSE: 108.85275205353462\n"
     ]
    }
   ],
   "source": [
    "from sklearn import metrics\n",
    "print('R^2:',metrics.r2_score(y_test, y_pred))\n",
    "print('Adjusted R^2:',1 - (1-metrics.r2_score(y_test, y_pred))*(len(y_train)-1)/(len(y_train)-x_train.shape[1]-1))\n",
    "print('MAE:',metrics.mean_absolute_error(y_test, y_pred))\n",
    "print('MSE:',metrics.mean_squared_error(y_test, y_pred))\n",
    "print('RMSE:',np.sqrt(metrics.mean_squared_error(y_test, y_pred)))"
   ]
  },
  {
   "cell_type": "markdown",
   "metadata": {},
   "source": [
    "Overall, our metrics suggest that the errors are relatively good except the Mean squared error. MSE is very sensitive to outliers and therefore would suggest that there may have been some outliers within our data that got overlooked despite our efforts at cleaning the data. For our R^2 errors are close to 1, but ideally I'd like it to be higher than 96%.\n",
    "\n",
    "Regarding the MAE, which treats all errors equally, the suggested fluctuation in price is about $50/month which suggest that it would be good enough to move forward with. \n",
    "\n",
    "For the purpose of this project I won't be going further to clean the data due to time constraints and I think based on our scores, it is good enough for a personal project. Additionally, as long as we know the models biases and limitations we can still use it to make predictions and know what it is good at."
   ]
  },
  {
   "cell_type": "markdown",
   "metadata": {},
   "source": [
    "Because we finished training the model and testing it with Gridsearch and metrics, let's start exporting everything so we worked on so far and then we will retrain the model with the full dataset and start building a pipeline and predictor function to take in our inputs"
   ]
  },
  {
   "cell_type": "code",
   "execution_count": null,
   "metadata": {},
   "outputs": [],
   "source": []
  },
  {
   "cell_type": "markdown",
   "metadata": {},
   "source": [
    "### Exporting all our values and saving the progress we made and exporting categorical values to be later used in our application"
   ]
  },
  {
   "cell_type": "code",
   "execution_count": 109,
   "metadata": {},
   "outputs": [],
   "source": [
    "df6.to_csv('cleaned_housing.csv', index=False)"
   ]
  },
  {
   "cell_type": "code",
   "execution_count": null,
   "metadata": {},
   "outputs": [],
   "source": []
  },
  {
   "cell_type": "code",
   "execution_count": 113,
   "metadata": {},
   "outputs": [
    {
     "data": {
      "text/plain": [
       "{'ak': ['anchorage / mat-su', 'fairbanks'],\n",
       " 'al': ['auburn',\n",
       "  'birmingham',\n",
       "  'huntsville / decatur',\n",
       "  'dothan',\n",
       "  'mobile',\n",
       "  'montgomery',\n",
       "  'tuscaloosa'],\n",
       " 'ar': ['little rock', 'fayetteville', 'fort smith', 'jonesboro'],\n",
       " 'az': ['phoenix',\n",
       "  'flagstaff / sedona',\n",
       "  'tucson',\n",
       "  'prescott',\n",
       "  'yuma',\n",
       "  'mohave county',\n",
       "  'show low',\n",
       "  'sierra vista'],\n",
       " 'ca': ['reno / tahoe',\n",
       "  'sacramento',\n",
       "  'visalia-tulare',\n",
       "  'santa barbara',\n",
       "  'SF bay area',\n",
       "  'ventura county',\n",
       "  'san diego',\n",
       "  'san luis obispo',\n",
       "  'stockton',\n",
       "  'santa maria',\n",
       "  'yuba-sutter',\n",
       "  'bakersfield',\n",
       "  'fresno / madera',\n",
       "  'hanford-corcoran',\n",
       "  'humboldt county',\n",
       "  'inland empire',\n",
       "  'los angeles',\n",
       "  'gold country',\n",
       "  'chico',\n",
       "  'modesto',\n",
       "  'orange county',\n",
       "  'merced',\n",
       "  'palm springs',\n",
       "  'monterey bay',\n",
       "  'redding'],\n",
       " 'co': ['boulder',\n",
       "  'colorado springs',\n",
       "  'denver',\n",
       "  'fort collins / north CO',\n",
       "  'western slope',\n",
       "  'high rockies',\n",
       "  'pueblo'],\n",
       " 'ct': ['northwest CT', 'eastern CT', 'hartford', 'new haven'],\n",
       " 'dc': ['washington, DC'],\n",
       " 'de': ['delaware'],\n",
       " 'fl': ['daytona beach',\n",
       "  'ft myers / SW florida',\n",
       "  'gainesville',\n",
       "  'jacksonville',\n",
       "  'ocala',\n",
       "  'heartland florida',\n",
       "  'lakeland',\n",
       "  'florida keys',\n",
       "  'orlando',\n",
       "  'panama city',\n",
       "  'pensacola',\n",
       "  'sarasota-bradenton',\n",
       "  'south florida',\n",
       "  'okaloosa / walton',\n",
       "  'space coast',\n",
       "  'tallahassee',\n",
       "  'tampa bay area',\n",
       "  'treasure coast',\n",
       "  'st augustine'],\n",
       " 'ga': ['atlanta',\n",
       "  'augusta',\n",
       "  'brunswick',\n",
       "  'athens',\n",
       "  'albany',\n",
       "  'macon / warner robins',\n",
       "  'columbus',\n",
       "  'northwest GA',\n",
       "  'savannah / hinesville',\n",
       "  'valdosta'],\n",
       " 'hi': ['hawaii'],\n",
       " 'ia': ['ames',\n",
       "  'cedar rapids',\n",
       "  'des moines',\n",
       "  'omaha / council bluffs',\n",
       "  'fort dodge',\n",
       "  'iowa city',\n",
       "  'waterloo / cedar falls',\n",
       "  'sioux city'],\n",
       " 'id': ['boise', 'east idaho', \"spokane / coeur d'alene\", 'pullman / moscow'],\n",
       " 'il': ['bloomington-normal',\n",
       "  'champaign urbana',\n",
       "  'chicago',\n",
       "  'decatur',\n",
       "  'quad cities, IA/IL',\n",
       "  'st louis, MO',\n",
       "  'peoria',\n",
       "  'springfield',\n",
       "  'rockford',\n",
       "  'southern illinois'],\n",
       " 'in': ['evansville',\n",
       "  'bloomington',\n",
       "  'indianapolis',\n",
       "  'fort wayne',\n",
       "  'south bend / michiana',\n",
       "  'richmond',\n",
       "  'muncie / anderson',\n",
       "  'lafayette / west lafayette'],\n",
       " 'ks': ['wichita', 'lawrence', 'manhattan', 'kansas city, MO', 'topeka'],\n",
       " 'ky': ['bowling green', 'lexington', 'louisville', 'huntington-ashland'],\n",
       " 'la': ['baton rouge',\n",
       "  'lafayette',\n",
       "  'monroe',\n",
       "  'new orleans',\n",
       "  'lake charles',\n",
       "  'shreveport',\n",
       "  'central louisiana',\n",
       "  'houma'],\n",
       " 'ma': ['boston',\n",
       "  'south coast',\n",
       "  'western massachusetts',\n",
       "  'worcester / central MA',\n",
       "  'cape cod / islands'],\n",
       " 'md': ['annapolis',\n",
       "  'baltimore',\n",
       "  'frederick',\n",
       "  'southern maryland',\n",
       "  'western maryland',\n",
       "  'eastern shore',\n",
       "  'cumberland valley'],\n",
       " 'me': ['maine'],\n",
       " 'mi': ['lansing',\n",
       "  'ann arbor',\n",
       "  'battle creek',\n",
       "  'detroit metro',\n",
       "  'holland',\n",
       "  'flint',\n",
       "  'kalamazoo',\n",
       "  'monroe',\n",
       "  'muskegon',\n",
       "  'saginaw-midland-baycity',\n",
       "  'grand rapids',\n",
       "  'central michigan',\n",
       "  'northern michigan',\n",
       "  'jackson',\n",
       "  'southwest michigan',\n",
       "  'port huron',\n",
       "  'south bend / michiana'],\n",
       " 'mn': ['duluth / superior',\n",
       "  'fargo / moorhead',\n",
       "  'minneapolis / st paul',\n",
       "  'rochester',\n",
       "  'st cloud',\n",
       "  'mankato'],\n",
       " 'mo': ['joplin', 'springfield', 'columbia / jeff city', 'st joseph'],\n",
       " 'ms': ['gulfport / biloxi',\n",
       "  'hattiesburg',\n",
       "  'jackson',\n",
       "  'north mississippi',\n",
       "  'meridian'],\n",
       " 'mt': ['billings', 'missoula', 'bozeman', 'kalispell'],\n",
       " 'nc': ['asheville',\n",
       "  'charlotte',\n",
       "  'fayetteville',\n",
       "  'eastern NC',\n",
       "  'greensboro',\n",
       "  'jacksonville',\n",
       "  'raleigh / durham / CH',\n",
       "  'hickory / lenoir',\n",
       "  'wilmington',\n",
       "  'winston-salem'],\n",
       " 'nd': ['north dakota', 'bismarck', 'grand forks'],\n",
       " 'ne': ['lincoln', 'omaha / council bluffs'],\n",
       " 'nh': ['new hampshire'],\n",
       " 'nj': ['central NJ', 'north jersey', 'jersey shore', 'south jersey'],\n",
       " 'nm': ['albuquerque', 'santa fe / taos', 'las cruces'],\n",
       " 'nv': ['las vegas', 'reno / tahoe'],\n",
       " 'ny': ['buffalo',\n",
       "  'ithaca',\n",
       "  'long island',\n",
       "  'hudson valley',\n",
       "  'syracuse',\n",
       "  'watertown',\n",
       "  'albany',\n",
       "  'new york city',\n",
       "  'binghamton',\n",
       "  'utica-rome-oneida',\n",
       "  'rochester',\n",
       "  'finger lakes',\n",
       "  'elmira-corning',\n",
       "  'glens falls',\n",
       "  'potsdam-canton-massena'],\n",
       " 'oh': ['cincinnati',\n",
       "  'akron / canton',\n",
       "  'columbus',\n",
       "  'dayton / springfield',\n",
       "  'cleveland',\n",
       "  'toledo',\n",
       "  'northern panhandle',\n",
       "  'zanesville / cambridge',\n",
       "  'mansfield',\n",
       "  'athens',\n",
       "  'youngstown'],\n",
       " 'ok': ['oklahoma city', 'lawton', 'texoma', 'tulsa', 'stillwater'],\n",
       " 'or': ['bend',\n",
       "  'corvallis/albany',\n",
       "  'eugene',\n",
       "  'medford-ashland',\n",
       "  'oregon coast',\n",
       "  'portland',\n",
       "  'salem'],\n",
       " 'pa': ['harrisburg',\n",
       "  'philadelphia',\n",
       "  'erie',\n",
       "  'pittsburgh',\n",
       "  'lehigh valley',\n",
       "  'scranton / wilkes-barre',\n",
       "  'altoona-johnstown',\n",
       "  'reading',\n",
       "  'williamsport',\n",
       "  'lancaster',\n",
       "  'state college',\n",
       "  'poconos',\n",
       "  'york'],\n",
       " 'ri': ['rhode island'],\n",
       " 'sc': ['charleston',\n",
       "  'columbia',\n",
       "  'greenville / upstate',\n",
       "  'myrtle beach',\n",
       "  'hilton head',\n",
       "  'florence'],\n",
       " 'sd': ['sioux falls / SE SD', 'rapid city / west SD'],\n",
       " 'tn': ['chattanooga',\n",
       "  'clarksville',\n",
       "  'jackson',\n",
       "  'memphis',\n",
       "  'knoxville',\n",
       "  'nashville',\n",
       "  'tri-cities'],\n",
       " 'tx': ['amarillo',\n",
       "  'austin',\n",
       "  'college station',\n",
       "  'lubbock',\n",
       "  'dallas / fort worth',\n",
       "  'abilene',\n",
       "  'el paso',\n",
       "  'corpus christi',\n",
       "  'galveston',\n",
       "  'houston',\n",
       "  'killeen / temple / ft hood',\n",
       "  'laredo',\n",
       "  'mcallen / edinburg',\n",
       "  'brownsville',\n",
       "  'beaumont / port arthur',\n",
       "  'deep east texas',\n",
       "  'odessa / midland',\n",
       "  'waco',\n",
       "  'san antonio',\n",
       "  'san marcos',\n",
       "  'tyler / east TX',\n",
       "  'victoria',\n",
       "  'wichita falls'],\n",
       " 'ut': ['provo / orem',\n",
       "  'ogden-clearfield',\n",
       "  'salt lake city',\n",
       "  'logan',\n",
       "  'st george'],\n",
       " 'va': ['fredericksburg',\n",
       "  'charlottesville',\n",
       "  'lynchburg',\n",
       "  'norfolk / hampton roads',\n",
       "  'richmond',\n",
       "  'roanoke',\n",
       "  'winchester',\n",
       "  'harrisonburg',\n",
       "  'new river valley'],\n",
       " 'vt': ['vermont'],\n",
       " 'wa': ['bellingham',\n",
       "  'kennewick-pasco-richland',\n",
       "  'seattle-tacoma',\n",
       "  'moses lake',\n",
       "  'pullman / moscow',\n",
       "  'yakima',\n",
       "  'wenatchee',\n",
       "  'skagit / island / SJI',\n",
       "  \"spokane / coeur d'alene\"],\n",
       " 'wi': ['madison',\n",
       "  'milwaukee',\n",
       "  'wausau',\n",
       "  'janesville',\n",
       "  'kenosha-racine',\n",
       "  'green bay',\n",
       "  'la crosse',\n",
       "  'appleton-oshkosh-FDL',\n",
       "  'eau claire',\n",
       "  'duluth / superior',\n",
       "  'sheboygan'],\n",
       " 'wv': ['charleston',\n",
       "  'morgantown',\n",
       "  'eastern panhandle',\n",
       "  'huntington-ashland',\n",
       "  'northern panhandle'],\n",
       " 'wy': ['wyoming']}"
      ]
     },
     "execution_count": 113,
     "metadata": {},
     "output_type": "execute_result"
    }
   ],
   "source": [
    "state_region = df4.groupby('state')['region'].unique().apply(list).to_dict()\n",
    "state_region"
   ]
  },
  {
   "cell_type": "code",
   "execution_count": 117,
   "metadata": {},
   "outputs": [
    {
     "data": {
      "text/plain": [
       "['w/d in unit',\n",
       " 'w/d hookups',\n",
       " 'laundry on site',\n",
       " 'laundry in bldg',\n",
       " 'no laundry on site']"
      ]
     },
     "execution_count": 117,
     "metadata": {},
     "output_type": "execute_result"
    }
   ],
   "source": [
    "laundry = list(df4.laundry_options.unique())\n",
    "\n",
    "laundry"
   ]
  },
  {
   "cell_type": "code",
   "execution_count": 118,
   "metadata": {},
   "outputs": [
    {
     "data": {
      "text/plain": [
       "['carport',\n",
       " 'attached garage',\n",
       " 'off-street parking',\n",
       " 'detached garage',\n",
       " 'street parking',\n",
       " 'no parking',\n",
       " 'valet parking']"
      ]
     },
     "execution_count": 118,
     "metadata": {},
     "output_type": "execute_result"
    }
   ],
   "source": [
    "parking = list(df4.parking_options.unique())\n",
    "parking"
   ]
  },
  {
   "cell_type": "code",
   "execution_count": 119,
   "metadata": {},
   "outputs": [
    {
     "data": {
      "text/plain": [
       "['apartment',\n",
       " 'condo',\n",
       " 'house',\n",
       " 'duplex',\n",
       " 'townhouse',\n",
       " 'loft',\n",
       " 'manufactured',\n",
       " 'cottage/cabin',\n",
       " 'flat',\n",
       " 'in-law']"
      ]
     },
     "execution_count": 119,
     "metadata": {},
     "output_type": "execute_result"
    }
   ],
   "source": [
    "house_type = list(df4.type.unique())\n",
    "house_type"
   ]
  },
  {
   "cell_type": "code",
   "execution_count": 120,
   "metadata": {},
   "outputs": [
    {
     "data": {
      "text/plain": [
       "{'house_type': ['apartment',\n",
       "  'condo',\n",
       "  'house',\n",
       "  'duplex',\n",
       "  'townhouse',\n",
       "  'loft',\n",
       "  'manufactured',\n",
       "  'cottage/cabin',\n",
       "  'flat',\n",
       "  'in-law'],\n",
       " 'parking': ['carport',\n",
       "  'attached garage',\n",
       "  'off-street parking',\n",
       "  'detached garage',\n",
       "  'street parking',\n",
       "  'no parking',\n",
       "  'valet parking'],\n",
       " 'laundry': ['w/d in unit',\n",
       "  'w/d hookups',\n",
       "  'laundry on site',\n",
       "  'laundry in bldg',\n",
       "  'no laundry on site']}"
      ]
     },
     "execution_count": 120,
     "metadata": {},
     "output_type": "execute_result"
    }
   ],
   "source": [
    "ammenity = {\n",
    "    'house_type' :[x for x in house_type],\n",
    "    'parking':[x for x in parking],\n",
    "    'laundry':[x for x in laundry],\n",
    "}\n",
    "\n",
    "ammenity"
   ]
  },
  {
   "cell_type": "code",
   "execution_count": 121,
   "metadata": {},
   "outputs": [],
   "source": [
    "import json\n",
    "with open('ammenity.json', 'w') as f:\n",
    "    f.write(json.dumps(ammenity))\n",
    "with open('state_region.json', 'w') as f:\n",
    "    f.write(json.dumps(state_region))"
   ]
  },
  {
   "cell_type": "code",
   "execution_count": null,
   "metadata": {},
   "outputs": [],
   "source": []
  },
  {
   "cell_type": "markdown",
   "metadata": {},
   "source": [
    "## Build a Pipeline"
   ]
  },
  {
   "cell_type": "code",
   "execution_count": 122,
   "metadata": {},
   "outputs": [],
   "source": [
    "rf = RandomForestRegressor(n_estimators=150, min_impurity_decrease=0, oob_score=False)\n",
    "# already made in line 77: \n",
    "# column_trans = make_column_transformer(\n",
    "# (OneHotEncoder(),['region','type','laundry_options','parking_options']),remainder='passthrough')"
   ]
  },
  {
   "cell_type": "code",
   "execution_count": 123,
   "metadata": {},
   "outputs": [],
   "source": [
    "from sklearn.pipeline import make_pipeline"
   ]
  },
  {
   "cell_type": "code",
   "execution_count": 127,
   "metadata": {},
   "outputs": [],
   "source": [
    "new_x=df6.drop(columns=[\"price\"])\n",
    "new_y=df6[\"price\"]"
   ]
  },
  {
   "cell_type": "code",
   "execution_count": 128,
   "metadata": {},
   "outputs": [
    {
     "data": {
      "text/plain": [
       "Pipeline(steps=[('columntransformer',\n",
       "                 ColumnTransformer(remainder='passthrough',\n",
       "                                   transformers=[('onehotencoder',\n",
       "                                                  OneHotEncoder(),\n",
       "                                                  ['region', 'type',\n",
       "                                                   'laundry_options',\n",
       "                                                   'parking_options'])])),\n",
       "                ('randomforestregressor',\n",
       "                 RandomForestRegressor(min_impurity_decrease=0,\n",
       "                                       n_estimators=150))])"
      ]
     },
     "execution_count": 128,
     "metadata": {},
     "output_type": "execute_result"
    }
   ],
   "source": [
    "pipe = make_pipeline(column_trans, rf)\n",
    "pipe.fit(new_x,new_y)"
   ]
  },
  {
   "cell_type": "markdown",
   "metadata": {},
   "source": [
    "\n",
    "## Making Predictions with Pipeline\n",
    "\n",
    "Pipeline is created.\n",
    "Test the pipeline, get a random sample and make a prediction, and learning how to use the pipeline predict.\n",
    "Our pipeline takes in a dataframe which then transforms the inputs to preform one hot encoding and then run a prediction through the random forest model. This way the pipeline handles all the preprocessing steps for us so it will be easier to use in a production enviornment."
   ]
  },
  {
   "cell_type": "code",
   "execution_count": 130,
   "metadata": {},
   "outputs": [
    {
     "data": {
      "text/html": [
       "<div>\n",
       "<style scoped>\n",
       "    .dataframe tbody tr th:only-of-type {\n",
       "        vertical-align: middle;\n",
       "    }\n",
       "\n",
       "    .dataframe tbody tr th {\n",
       "        vertical-align: top;\n",
       "    }\n",
       "\n",
       "    .dataframe thead th {\n",
       "        text-align: right;\n",
       "    }\n",
       "</style>\n",
       "<table border=\"1\" class=\"dataframe\">\n",
       "  <thead>\n",
       "    <tr style=\"text-align: right;\">\n",
       "      <th></th>\n",
       "      <th>region</th>\n",
       "      <th>type</th>\n",
       "      <th>sqfeet</th>\n",
       "      <th>beds</th>\n",
       "      <th>baths</th>\n",
       "      <th>pets_allowed</th>\n",
       "      <th>smoking_allowed</th>\n",
       "      <th>laundry_options</th>\n",
       "      <th>parking_options</th>\n",
       "    </tr>\n",
       "  </thead>\n",
       "  <tbody>\n",
       "    <tr>\n",
       "      <th>63790</th>\n",
       "      <td>tampa bay area</td>\n",
       "      <td>condo</td>\n",
       "      <td>900</td>\n",
       "      <td>1</td>\n",
       "      <td>1.0</td>\n",
       "      <td>1</td>\n",
       "      <td>0</td>\n",
       "      <td>w/d in unit</td>\n",
       "      <td>off-street parking</td>\n",
       "    </tr>\n",
       "  </tbody>\n",
       "</table>\n",
       "</div>"
      ],
      "text/plain": [
       "               region   type  sqfeet  beds  baths  pets_allowed  \\\n",
       "63790  tampa bay area  condo     900     1    1.0             1   \n",
       "\n",
       "       smoking_allowed laundry_options     parking_options  \n",
       "63790                0     w/d in unit  off-street parking  "
      ]
     },
     "execution_count": 130,
     "metadata": {},
     "output_type": "execute_result"
    }
   ],
   "source": [
    "x_sample = new_x.sample(1, random_state=1)\n",
    "x_sample"
   ]
  },
  {
   "cell_type": "code",
   "execution_count": 131,
   "metadata": {},
   "outputs": [
    {
     "data": {
      "text/plain": [
       "array([1152.59247312])"
      ]
     },
     "execution_count": 131,
     "metadata": {},
     "output_type": "execute_result"
    }
   ],
   "source": [
    "pipe.predict(x_sample)"
   ]
  },
  {
   "cell_type": "code",
   "execution_count": 132,
   "metadata": {
    "scrolled": true
   },
   "outputs": [
    {
     "data": {
      "text/html": [
       "<div>\n",
       "<style scoped>\n",
       "    .dataframe tbody tr th:only-of-type {\n",
       "        vertical-align: middle;\n",
       "    }\n",
       "\n",
       "    .dataframe tbody tr th {\n",
       "        vertical-align: top;\n",
       "    }\n",
       "\n",
       "    .dataframe thead th {\n",
       "        text-align: right;\n",
       "    }\n",
       "</style>\n",
       "<table border=\"1\" class=\"dataframe\">\n",
       "  <thead>\n",
       "    <tr style=\"text-align: right;\">\n",
       "      <th></th>\n",
       "      <th>region</th>\n",
       "      <th>type</th>\n",
       "      <th>sqfeet</th>\n",
       "      <th>beds</th>\n",
       "      <th>baths</th>\n",
       "      <th>pets_allowed</th>\n",
       "      <th>smoking_allowed</th>\n",
       "      <th>laundry_options</th>\n",
       "      <th>parking_options</th>\n",
       "    </tr>\n",
       "  </thead>\n",
       "  <tbody>\n",
       "    <tr>\n",
       "      <th>0</th>\n",
       "      <td>reno / tahoe</td>\n",
       "      <td>apartment</td>\n",
       "      <td>2000</td>\n",
       "      <td>2</td>\n",
       "      <td>2</td>\n",
       "      <td>0</td>\n",
       "      <td>0</td>\n",
       "      <td>w/d in unit</td>\n",
       "      <td>carport</td>\n",
       "    </tr>\n",
       "  </tbody>\n",
       "</table>\n",
       "</div>"
      ],
      "text/plain": [
       "         region       type sqfeet beds baths pets_allowed smoking_allowed  \\\n",
       "0  reno / tahoe  apartment   2000    2     2            0               0   \n",
       "\n",
       "  laundry_options parking_options  \n",
       "0     w/d in unit         carport  "
      ]
     },
     "execution_count": 132,
     "metadata": {},
     "output_type": "execute_result"
    }
   ],
   "source": [
    "test = np.array(['reno / tahoe', 'apartment', 2000, 2, 2, 0, 0, 'w/d in unit', 'carport'])\n",
    "test = np.expand_dims(test, axis=0)\n",
    "test_df = pd.DataFrame(test, columns=['region','type','sqfeet','beds','baths', 'pets_allowed','smoking_allowed','laundry_options', 'parking_options'])\n",
    "test_df"
   ]
  },
  {
   "cell_type": "code",
   "execution_count": 133,
   "metadata": {},
   "outputs": [
    {
     "data": {
      "text/plain": [
       "array([1976.39111111])"
      ]
     },
     "execution_count": 133,
     "metadata": {},
     "output_type": "execute_result"
    }
   ],
   "source": [
    "pipe.predict(test_df)"
   ]
  },
  {
   "cell_type": "code",
   "execution_count": 135,
   "metadata": {},
   "outputs": [
    {
     "data": {
      "text/html": [
       "<div>\n",
       "<style scoped>\n",
       "    .dataframe tbody tr th:only-of-type {\n",
       "        vertical-align: middle;\n",
       "    }\n",
       "\n",
       "    .dataframe tbody tr th {\n",
       "        vertical-align: top;\n",
       "    }\n",
       "\n",
       "    .dataframe thead th {\n",
       "        text-align: right;\n",
       "    }\n",
       "</style>\n",
       "<table border=\"1\" class=\"dataframe\">\n",
       "  <thead>\n",
       "    <tr style=\"text-align: right;\">\n",
       "      <th></th>\n",
       "      <th>region</th>\n",
       "      <th>type</th>\n",
       "      <th>sqfeet</th>\n",
       "      <th>beds</th>\n",
       "      <th>baths</th>\n",
       "      <th>pets_allowed</th>\n",
       "      <th>smoking_allowed</th>\n",
       "      <th>laundry_options</th>\n",
       "      <th>parking_options</th>\n",
       "    </tr>\n",
       "  </thead>\n",
       "  <tbody>\n",
       "    <tr>\n",
       "      <th>63790</th>\n",
       "      <td>tampa bay area</td>\n",
       "      <td>condo</td>\n",
       "      <td>900</td>\n",
       "      <td>1</td>\n",
       "      <td>1.0</td>\n",
       "      <td>1</td>\n",
       "      <td>0</td>\n",
       "      <td>w/d in unit</td>\n",
       "      <td>off-street parking</td>\n",
       "    </tr>\n",
       "    <tr>\n",
       "      <th>344180</th>\n",
       "      <td>madison</td>\n",
       "      <td>apartment</td>\n",
       "      <td>904</td>\n",
       "      <td>2</td>\n",
       "      <td>1.0</td>\n",
       "      <td>1</td>\n",
       "      <td>1</td>\n",
       "      <td>laundry in bldg</td>\n",
       "      <td>off-street parking</td>\n",
       "    </tr>\n",
       "    <tr>\n",
       "      <th>243702</th>\n",
       "      <td>eugene</td>\n",
       "      <td>apartment</td>\n",
       "      <td>1019</td>\n",
       "      <td>2</td>\n",
       "      <td>2.0</td>\n",
       "      <td>1</td>\n",
       "      <td>0</td>\n",
       "      <td>w/d in unit</td>\n",
       "      <td>off-street parking</td>\n",
       "    </tr>\n",
       "    <tr>\n",
       "      <th>66481</th>\n",
       "      <td>treasure coast</td>\n",
       "      <td>house</td>\n",
       "      <td>2100</td>\n",
       "      <td>3</td>\n",
       "      <td>0.0</td>\n",
       "      <td>0</td>\n",
       "      <td>0</td>\n",
       "      <td>w/d in unit</td>\n",
       "      <td>attached garage</td>\n",
       "    </tr>\n",
       "    <tr>\n",
       "      <th>354830</th>\n",
       "      <td>tuscaloosa</td>\n",
       "      <td>apartment</td>\n",
       "      <td>944</td>\n",
       "      <td>2</td>\n",
       "      <td>1.0</td>\n",
       "      <td>1</td>\n",
       "      <td>1</td>\n",
       "      <td>w/d hookups</td>\n",
       "      <td>off-street parking</td>\n",
       "    </tr>\n",
       "  </tbody>\n",
       "</table>\n",
       "</div>"
      ],
      "text/plain": [
       "                region       type  sqfeet  beds  baths  pets_allowed  \\\n",
       "63790   tampa bay area      condo     900     1    1.0             1   \n",
       "344180         madison  apartment     904     2    1.0             1   \n",
       "243702          eugene  apartment    1019     2    2.0             1   \n",
       "66481   treasure coast      house    2100     3    0.0             0   \n",
       "354830      tuscaloosa  apartment     944     2    1.0             1   \n",
       "\n",
       "        smoking_allowed  laundry_options     parking_options  \n",
       "63790                 0      w/d in unit  off-street parking  \n",
       "344180                1  laundry in bldg  off-street parking  \n",
       "243702                0      w/d in unit  off-street parking  \n",
       "66481                 0      w/d in unit     attached garage  \n",
       "354830                1      w/d hookups  off-street parking  "
      ]
     },
     "execution_count": 135,
     "metadata": {},
     "output_type": "execute_result"
    }
   ],
   "source": [
    "test2 = new_x.sample(20, random_state=1)\n",
    "test2.head()"
   ]
  },
  {
   "cell_type": "code",
   "execution_count": 136,
   "metadata": {},
   "outputs": [
    {
     "data": {
      "text/plain": [
       "array([1152.59247312,  936.65526447, 2147.38904361, 2520.7       ,\n",
       "        735.        ,  731.13333333,  999.18666667,  604.3       ,\n",
       "        559.68846886, 1289.        , 1378.22478003,  881.32142857,\n",
       "       1905.08222222, 1314.2217909 , 1485.        , 1270.47037037,\n",
       "       1448.36058257,  518.        ,  823.        ,  834.22280702])"
      ]
     },
     "execution_count": 136,
     "metadata": {},
     "output_type": "execute_result"
    }
   ],
   "source": [
    "pipe.predict(test2)"
   ]
  },
  {
   "cell_type": "markdown",
   "metadata": {},
   "source": [
    "### Model is created let's save the pipeline as a pickle file"
   ]
  },
  {
   "cell_type": "code",
   "execution_count": 137,
   "metadata": {},
   "outputs": [],
   "source": [
    "import pickle\n",
    "with open('pipeline.pickle','wb') as f:\n",
    "    pickle.dump(pipe, f)"
   ]
  },
  {
   "cell_type": "markdown",
   "metadata": {},
   "source": [
    "## Create a Predictor Function"
   ]
  },
  {
   "cell_type": "code",
   "execution_count": 138,
   "metadata": {},
   "outputs": [],
   "source": [
    "\n",
    "model = None\n",
    "\n",
    "def predict(reg, typ, sqfeet, bed, baths, pets, smoking, laundry, parking):\n",
    "    \n",
    "    global model\n",
    "    if model is None:\n",
    "        with open('pipeline.pickle', 'rb') as f:\n",
    "            model = pickle.load(f)\n",
    "    \n",
    "    sqfeet = int(sqfeet)\n",
    "    \n",
    "    beds = int(bed)\n",
    "    baths = int(baths)\n",
    "    if pets == 'yes':\n",
    "        pets = 1\n",
    "    else:\n",
    "        pets = 0\n",
    "        \n",
    "    if smoking == 'yes':\n",
    "        smoking = 1\n",
    "    else:\n",
    "        smoking = 0\n",
    "    \n",
    "    \n",
    "    x1 = np.array([reg,typ,sqfeet, beds, baths,pets, smoking, laundry, parking])\n",
    "    x1 = np.expand_dims(x1, axis=0)\n",
    "    x2 = pd.DataFrame(x1, columns=['region','type','sqfeet',\n",
    "                                 'beds','baths', \n",
    "                                 'pets_allowed','smoking_allowed',\n",
    "                                 'laundry_options', 'parking_options'])\n",
    "    \n",
    "    if sqfeet < 500 or sqfeet > 5000:\n",
    "        return f'{round(model.predict(x2)[0])}, but this is likely inaccurate, please use a higher square footage'\n",
    "    \n",
    "    \n",
    "    return round(model.predict(x2)[0])"
   ]
  },
  {
   "cell_type": "code",
   "execution_count": null,
   "metadata": {},
   "outputs": [],
   "source": []
  },
  {
   "cell_type": "markdown",
   "metadata": {},
   "source": [
    "### Using our Predict function"
   ]
  },
  {
   "cell_type": "code",
   "execution_count": 139,
   "metadata": {},
   "outputs": [
    {
     "data": {
      "text/plain": [
       "2226.0"
      ]
     },
     "execution_count": 139,
     "metadata": {},
     "output_type": "execute_result"
    }
   ],
   "source": [
    "predict('boston', 'apartment', 1000, 2, 2, 'yes', 'no', 'w/d in unit', 'no parking')"
   ]
  },
  {
   "cell_type": "code",
   "execution_count": 140,
   "metadata": {},
   "outputs": [
    {
     "data": {
      "text/plain": [
       "2593.0"
      ]
     },
     "execution_count": 140,
     "metadata": {},
     "output_type": "execute_result"
    }
   ],
   "source": [
    "predict('boston', 'apartment', 850, 2, 2, 'yes', 'no', 'w/d in unit', 'no parking')"
   ]
  },
  {
   "cell_type": "code",
   "execution_count": 141,
   "metadata": {},
   "outputs": [
    {
     "data": {
      "text/plain": [
       "2287.0"
      ]
     },
     "execution_count": 141,
     "metadata": {},
     "output_type": "execute_result"
    }
   ],
   "source": [
    "predict('boston', 'house', 2000, 2, 2, 'yes', 'no', 'w/d in unit', 'carport')"
   ]
  },
  {
   "cell_type": "code",
   "execution_count": 142,
   "metadata": {},
   "outputs": [
    {
     "data": {
      "text/plain": [
       "4356.0"
      ]
     },
     "execution_count": 142,
     "metadata": {},
     "output_type": "execute_result"
    }
   ],
   "source": [
    "predict('SF bay area', 'house', 2000, 2, 2, 'yes', 'no', 'w/d in unit', 'attached garage')"
   ]
  },
  {
   "cell_type": "code",
   "execution_count": 143,
   "metadata": {},
   "outputs": [
    {
     "data": {
      "text/plain": [
       "2064.0"
      ]
     },
     "execution_count": 143,
     "metadata": {},
     "output_type": "execute_result"
    }
   ],
   "source": [
    "predict('albany', 'house', 2000, 2, 2, 'yes', 'no', 'w/d in unit', 'carport')"
   ]
  },
  {
   "cell_type": "code",
   "execution_count": 144,
   "metadata": {},
   "outputs": [
    {
     "data": {
      "text/plain": [
       "1216.0"
      ]
     },
     "execution_count": 144,
     "metadata": {},
     "output_type": "execute_result"
    }
   ],
   "source": [
    "predict('jacksonville', 'apartment', 850, 0, 1, 'yes', 'no', 'w/d in unit', 'no parking')  "
   ]
  },
  {
   "cell_type": "code",
   "execution_count": 145,
   "metadata": {},
   "outputs": [
    {
     "data": {
      "text/plain": [
       "1209.0"
      ]
     },
     "execution_count": 145,
     "metadata": {},
     "output_type": "execute_result"
    }
   ],
   "source": [
    "predict('wilmington', 'apartment', 850, 0, 1, 'yes', 'no', 'w/d in unit', 'no parking')"
   ]
  },
  {
   "cell_type": "code",
   "execution_count": 146,
   "metadata": {},
   "outputs": [
    {
     "data": {
      "text/plain": [
       "1721.0"
      ]
     },
     "execution_count": 146,
     "metadata": {},
     "output_type": "execute_result"
    }
   ],
   "source": [
    "predict('jacksonville', 'house', 2000, 2, 2, 'yes', 'no', 'w/d in unit', 'carport')"
   ]
  },
  {
   "cell_type": "code",
   "execution_count": 147,
   "metadata": {},
   "outputs": [
    {
     "data": {
      "text/plain": [
       "1216.0"
      ]
     },
     "execution_count": 147,
     "metadata": {},
     "output_type": "execute_result"
    }
   ],
   "source": [
    "predict('albany', 'house', 1000, 2, 2, 'yes', 'no', 'w/d in unit', 'carport')"
   ]
  },
  {
   "cell_type": "code",
   "execution_count": 148,
   "metadata": {},
   "outputs": [
    {
     "data": {
      "text/plain": [
       "1140.0"
      ]
     },
     "execution_count": 148,
     "metadata": {},
     "output_type": "execute_result"
    }
   ],
   "source": [
    "predict('jacksonville', 'apartment', 1000, 2, 2, 'yes', 'no', 'w/d in unit', 'carport')"
   ]
  },
  {
   "cell_type": "code",
   "execution_count": 149,
   "metadata": {},
   "outputs": [
    {
     "data": {
      "text/plain": [
       "1188.0"
      ]
     },
     "execution_count": 149,
     "metadata": {},
     "output_type": "execute_result"
    }
   ],
   "source": [
    "predict('jacksonville', 'house', 1000, 2, 2, 'yes', 'no', 'w/d in unit', 'carport')"
   ]
  },
  {
   "cell_type": "code",
   "execution_count": 150,
   "metadata": {
    "scrolled": true
   },
   "outputs": [
    {
     "data": {
      "text/plain": [
       "'2088.0, but this is likely inaccurate, please use a higher square footage'"
      ]
     },
     "execution_count": 150,
     "metadata": {},
     "output_type": "execute_result"
    }
   ],
   "source": [
    "predict('SF bay area', 'apartment', 100, 0, 1, 'yes', 'no', 'w/d in unit', 'no parking')"
   ]
  },
  {
   "cell_type": "code",
   "execution_count": 153,
   "metadata": {},
   "outputs": [
    {
     "data": {
      "text/plain": [
       "5462.0"
      ]
     },
     "execution_count": 153,
     "metadata": {},
     "output_type": "execute_result"
    }
   ],
   "source": [
    "predict('SF bay area', 'house', 3000, 0, 1, 'yes', 'no', 'w/d in unit', 'attached garage')"
   ]
  },
  {
   "cell_type": "code",
   "execution_count": 154,
   "metadata": {},
   "outputs": [
    {
     "data": {
      "text/plain": [
       "'5462.0, but this is likely inaccurate, please use a higher square footage'"
      ]
     },
     "execution_count": 154,
     "metadata": {},
     "output_type": "execute_result"
    }
   ],
   "source": [
    "predict('SF bay area', 'house', 3001, 0, 1, 'yes', 'no', 'w/d in unit', 'attached garage')"
   ]
  },
  {
   "cell_type": "code",
   "execution_count": 156,
   "metadata": {},
   "outputs": [
    {
     "data": {
      "text/plain": [
       "4739.0"
      ]
     },
     "execution_count": 156,
     "metadata": {},
     "output_type": "execute_result"
    }
   ],
   "source": [
    "predict('SF bay area', 'house', 2500, 0, 1, 'yes', 'no', 'w/d in unit', 'attached garage')"
   ]
  },
  {
   "cell_type": "code",
   "execution_count": 165,
   "metadata": {},
   "outputs": [
    {
     "data": {
      "text/plain": [
       "6403.0"
      ]
     },
     "execution_count": 165,
     "metadata": {},
     "output_type": "execute_result"
    }
   ],
   "source": [
    "predict('SF bay area', 'apartment', 3000, 0, 1, 'yes', 'no', 'w/d in unit', 'no parking')"
   ]
  },
  {
   "cell_type": "code",
   "execution_count": 167,
   "metadata": {},
   "outputs": [
    {
     "data": {
      "text/plain": [
       "'6401.0, but this is likely inaccurate, please use a higher square footage'"
      ]
     },
     "execution_count": 167,
     "metadata": {},
     "output_type": "execute_result"
    }
   ],
   "source": [
    "predict('SF bay area', 'apartment', 6001, 0, 1, 'yes', 'no', 'w/d in unit', 'no parking')"
   ]
  },
  {
   "cell_type": "markdown",
   "metadata": {},
   "source": [
    "# Conclusions and Limitations"
   ]
  },
  {
   "cell_type": "markdown",
   "metadata": {},
   "source": [
    "\n",
    "## Limitations and Flaws\n",
    "- model could be a lot better; 82% accuracy\n",
    "- reliant on craigslist data being 'good'\n",
    "- data is slightly older as it was last updated in June 2020\n",
    "- Extremely expensive in terms of memory utilization and training time, there are other ways to train to the dataset possible to try and building a neural network out of this dataset intsead of relying on a random forest approach\n",
    "\n",
    "## Things to improve\n",
    "- Do more data cleaning, possibly remove the null values from parking options\n",
    "- Remove further outliers from the price points, possibly remove prices under $300\n",
    "\n",
    "## Other Features that can be added to improve this project and make it more dynamic\n",
    "- build a webscrapper to update and pull new data\n",
    "- set some kind of check back to the original dataset for when it updates, redownload the data and rerun the same tests and retrain the model so that it can learn again OR add a native bayes to update the model\n",
    "- connect State with regions for dropdown menu with the Flask Application\n",
    "- retrain the data with states tied to the regions, as not all regions are not unique\n",
    "- turn the model into a REST api for other people to use the model\n",
    "- ~record user input to see where and what trends people are searching and curious for; if they also want to know how much they want to pay for rent and add that data to a db to learn from it - maybe add google analytics~\n",
    "\n",
    "#### Important note as of 3/5/2021: The model used in the current LIVE rent predictor is slightly different than the one built here in this notebook; there was slightly more outlier removal and dimensionality reduction than what is shown here.\n",
    "- What was different from the model used in production was that there was an additional step with removing outliers. I removed baths >5 instead of 6. Additionally, beds removed were <4, instead of <=4. Thus, the model was trained on 361,775 (this model was trained on 372658 -new_x.shape) records. Doing it again, I would use this pipeline however due to memory limits with google's system, we stick to the 1.0 version. The correct model is the one shown on this version.\n",
    "- Additionally the previous model's parameters were: RandomForestRegressor(n_estimators=150, oob_score=True, min_impurity_decrease=.25, n_jobs=-1), gridsearch showed us that we do not need a min_impurity_descrease or oob_score. The score here was 81.53%\n",
    "- There is an effort to update the pipeline to better represent the model in the live version, however that may not be implmented "
   ]
  },
  {
   "cell_type": "code",
   "execution_count": null,
   "metadata": {},
   "outputs": [],
   "source": []
  },
  {
   "cell_type": "code",
   "execution_count": null,
   "metadata": {},
   "outputs": [],
   "source": []
  },
  {
   "cell_type": "code",
   "execution_count": null,
   "metadata": {},
   "outputs": [],
   "source": []
  }
 ],
 "metadata": {
  "kernelspec": {
   "display_name": "Python 3",
   "language": "python",
   "name": "python3"
  },
  "language_info": {
   "codemirror_mode": {
    "name": "ipython",
    "version": 3
   },
   "file_extension": ".py",
   "mimetype": "text/x-python",
   "name": "python",
   "nbconvert_exporter": "python",
   "pygments_lexer": "ipython3",
   "version": "3.8.3"
  }
 },
 "nbformat": 4,
 "nbformat_minor": 4
}